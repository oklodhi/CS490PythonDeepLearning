{
  "nbformat": 4,
  "nbformat_minor": 0,
  "metadata": {
    "colab": {
      "name": "ICP2_DL.ipynb",
      "provenance": []
    },
    "kernelspec": {
      "name": "python3",
      "display_name": "Python 3"
    }
  },
  "cells": [
    {
      "cell_type": "code",
      "metadata": {
        "id": "h64XrffSguzz",
        "colab_type": "code",
        "colab": {}
      },
      "source": [
        "from keras import Sequential\n",
        "from keras.datasets import mnist\n",
        "import numpy as np\n",
        "from keras.layers import Dense\n",
        "from keras.utils import to_categorical\n",
        "\n",
        "import matplotlib.pyplot as plt"
      ],
      "execution_count": 37,
      "outputs": []
    },
    {
      "cell_type": "code",
      "metadata": {
        "id": "MtW8b14VhoZK",
        "colab_type": "code",
        "colab": {}
      },
      "source": [
        "(train_images,train_labels),(test_images, test_labels) = mnist.load_data()"
      ],
      "execution_count": 38,
      "outputs": []
    },
    {
      "cell_type": "code",
      "metadata": {
        "id": "ZDJauCFxhqrx",
        "colab_type": "code",
        "colab": {
          "base_uri": "https://localhost:8080/",
          "height": 35
        },
        "outputId": "4c11f489-dcca-45cc-e679-2860943da4a1"
      },
      "source": [
        "print(train_images.shape[1:])"
      ],
      "execution_count": 39,
      "outputs": [
        {
          "output_type": "stream",
          "text": [
            "(28, 28)\n"
          ],
          "name": "stdout"
        }
      ]
    },
    {
      "cell_type": "code",
      "metadata": {
        "id": "zoegGZIPhudL",
        "colab_type": "code",
        "colab": {
          "base_uri": "https://localhost:8080/",
          "height": 35
        },
        "outputId": "cef44b66-70d7-4095-eb07-30e47b82c295"
      },
      "source": [
        "#process the data\n",
        "#1. convert each image of shape 28*28 to 784 dimensional which will be fed to the network as a single feature\n",
        "dimData = np.prod(train_images.shape[1:])\n",
        "print(dimData)"
      ],
      "execution_count": 40,
      "outputs": [
        {
          "output_type": "stream",
          "text": [
            "784\n"
          ],
          "name": "stdout"
        }
      ]
    },
    {
      "cell_type": "code",
      "metadata": {
        "id": "ZZpH4RBRiWEP",
        "colab_type": "code",
        "colab": {}
      },
      "source": [
        "train_data = train_images.reshape(train_images.shape[0],dimData)\n",
        "test_data = test_images.reshape(test_images.shape[0],dimData)"
      ],
      "execution_count": 41,
      "outputs": []
    },
    {
      "cell_type": "code",
      "metadata": {
        "id": "-kLmhCkFhwyG",
        "colab_type": "code",
        "colab": {}
      },
      "source": [
        "#convert data to float and scale values between 0 and 1\n",
        "train_data = train_data.astype('float')\n",
        "test_data = test_data.astype('float')"
      ],
      "execution_count": 42,
      "outputs": []
    },
    {
      "cell_type": "code",
      "metadata": {
        "id": "PPLIWs1ahyhL",
        "colab_type": "code",
        "colab": {}
      },
      "source": [
        "#scale data\n",
        "train_data /=255.0\n",
        "test_data /=255.0"
      ],
      "execution_count": 43,
      "outputs": []
    },
    {
      "cell_type": "code",
      "metadata": {
        "id": "vwQpAJarh0He",
        "colab_type": "code",
        "colab": {}
      },
      "source": [
        "#change the labels frominteger to one-hot encoding. to_categorical is doing the same thing as LabelEncoder()\n",
        "train_labels_one_hot = to_categorical(train_labels)\n",
        "test_labels_one_hot = to_categorical(test_labels)"
      ],
      "execution_count": 44,
      "outputs": []
    },
    {
      "cell_type": "code",
      "metadata": {
        "id": "TEqTF9oeh2Y1",
        "colab_type": "code",
        "colab": {}
      },
      "source": [
        "#creating network\n",
        "model = Sequential()\n",
        "model.add(Dense(512, activation='relu', input_shape=(dimData,)))\n",
        "model.add(Dense(512, activation='relu'))\n",
        "model.add(Dense(10, activation='softmax'))"
      ],
      "execution_count": 45,
      "outputs": []
    },
    {
      "cell_type": "code",
      "metadata": {
        "id": "vUp6rae7h383",
        "colab_type": "code",
        "colab": {
          "base_uri": "https://localhost:8080/",
          "height": 395
        },
        "outputId": "491c57c2-1767-442c-da80-3d0b9d98eae2"
      },
      "source": [
        "model.compile(optimizer='rmsprop', loss='categorical_crossentropy', metrics=['accuracy'])\n",
        "history = model.fit(train_data, train_labels_one_hot, batch_size=256, epochs=10, verbose=1, validation_data=(test_data, test_labels_one_hot))"
      ],
      "execution_count": 46,
      "outputs": [
        {
          "output_type": "stream",
          "text": [
            "Train on 60000 samples, validate on 10000 samples\n",
            "Epoch 1/10\n",
            "60000/60000 [==============================] - 6s 107us/step - loss: 0.2685 - accuracy: 0.9178 - val_loss: 0.1192 - val_accuracy: 0.9619\n",
            "Epoch 2/10\n",
            "60000/60000 [==============================] - 6s 106us/step - loss: 0.0932 - accuracy: 0.9709 - val_loss: 0.0920 - val_accuracy: 0.9729\n",
            "Epoch 3/10\n",
            "60000/60000 [==============================] - 6s 106us/step - loss: 0.0571 - accuracy: 0.9819 - val_loss: 0.0681 - val_accuracy: 0.9793\n",
            "Epoch 4/10\n",
            "60000/60000 [==============================] - 7s 112us/step - loss: 0.0409 - accuracy: 0.9875 - val_loss: 0.0730 - val_accuracy: 0.9801\n",
            "Epoch 5/10\n",
            "60000/60000 [==============================] - 7s 112us/step - loss: 0.0285 - accuracy: 0.9905 - val_loss: 0.0724 - val_accuracy: 0.9808\n",
            "Epoch 6/10\n",
            "60000/60000 [==============================] - 6s 106us/step - loss: 0.0224 - accuracy: 0.9930 - val_loss: 0.0739 - val_accuracy: 0.9797\n",
            "Epoch 7/10\n",
            "60000/60000 [==============================] - 6s 106us/step - loss: 0.0162 - accuracy: 0.9947 - val_loss: 0.0964 - val_accuracy: 0.9768\n",
            "Epoch 8/10\n",
            "60000/60000 [==============================] - 6s 106us/step - loss: 0.0130 - accuracy: 0.9956 - val_loss: 0.0764 - val_accuracy: 0.9829\n",
            "Epoch 9/10\n",
            "60000/60000 [==============================] - 6s 105us/step - loss: 0.0116 - accuracy: 0.9963 - val_loss: 0.0927 - val_accuracy: 0.9808\n",
            "Epoch 10/10\n",
            "60000/60000 [==============================] - 6s 106us/step - loss: 0.0093 - accuracy: 0.9971 - val_loss: 0.0891 - val_accuracy: 0.9815\n"
          ],
          "name": "stdout"
        }
      ]
    },
    {
      "cell_type": "code",
      "metadata": {
        "id": "NGjMXiv1p2j5",
        "colab_type": "code",
        "colab": {
          "base_uri": "https://localhost:8080/",
          "height": 53
        },
        "outputId": "3cea7a01-b1da-4c04-da29-476a124bba05"
      },
      "source": [
        "[test_loss, test_acc] = model.evaluate(test_data, test_labels_one_hot)\n",
        "print(\"Evaluation result on Test Data : Loss = {}, accuracy = {}\".format(test_loss, test_acc))"
      ],
      "execution_count": 47,
      "outputs": [
        {
          "output_type": "stream",
          "text": [
            "10000/10000 [==============================] - 1s 79us/step\n",
            "Evaluation result on Test Data : Loss = 0.08907846454361236, accuracy = 0.9815000295639038\n"
          ],
          "name": "stdout"
        }
      ]
    },
    {
      "cell_type": "markdown",
      "metadata": {
        "id": "Oi7_eTCflpKg",
        "colab_type": "text"
      },
      "source": [
        "### Question 1 "
      ]
    },
    {
      "cell_type": "markdown",
      "metadata": {
        "id": "9iIUrN-dluX_",
        "colab_type": "text"
      },
      "source": [
        "\n",
        "\n",
        "> Using the history object in the source code, plot the loss and accuracy for both training data and validation data.\n",
        "\n",
        "\n"
      ]
    },
    {
      "cell_type": "markdown",
      "metadata": {
        "id": "2XIdKfiXmFha",
        "colab_type": "text"
      },
      "source": [
        "Accuracy"
      ]
    },
    {
      "cell_type": "code",
      "metadata": {
        "id": "iYPoGoTOlo3f",
        "colab_type": "code",
        "colab": {
          "base_uri": "https://localhost:8080/",
          "height": 295
        },
        "outputId": "1fcd6324-fb1f-4c8f-fa29-864dd38cb600"
      },
      "source": [
        "# Plot the graph for accuracy of both train and test data.\n",
        "plt.plot(history.history['accuracy'])\n",
        "plt.plot(history.history['val_accuracy'])\n",
        "plt.title('model accuracy')\n",
        "plt.ylabel('accuracy')\n",
        "plt.xlabel('epoch')\n",
        "plt.legend(['train', 'test'], loc='upper left')\n",
        "plt.show()"
      ],
      "execution_count": 48,
      "outputs": [
        {
          "output_type": "display_data",
          "data": {
            "image/png": "[encoded data removed]",
            "text/plain": [
              "<Figure size 432x288 with 1 Axes>"
            ]
          },
          "metadata": {
            "tags": [],
            "needs_background": "light"
          }
        }
      ]
    },
    {
      "cell_type": "markdown",
      "metadata": {
        "id": "Wy3sCYnFmH8c",
        "colab_type": "text"
      },
      "source": [
        "Loss"
      ]
    },
    {
      "cell_type": "code",
      "metadata": {
        "id": "hY0O1qbNmBYU",
        "colab_type": "code",
        "colab": {
          "base_uri": "https://localhost:8080/",
          "height": 295
        },
        "outputId": "80fa43e2-994b-48f5-9b84-73eb266a9783"
      },
      "source": [
        "# Plot the graph for loss of both train and test data.\n",
        "plt.plot(history.history['loss'])\n",
        "plt.plot(history.history['val_loss'])\n",
        "plt.title('model loss')\n",
        "plt.ylabel('loss')\n",
        "plt.xlabel('epoch')\n",
        "plt.legend(['train', 'test'], loc='upper left')\n",
        "plt.show()"
      ],
      "execution_count": 49,
      "outputs": [
        {
          "output_type": "display_data",
          "data": {
            "image/png": "[encoded data removed]",
            "text/plain": [
              "<Figure size 432x288 with 1 Axes>"
            ]
          },
          "metadata": {
            "tags": [],
            "needs_background": "light"
          }
        }
      ]
    },
    {
      "cell_type": "markdown",
      "metadata": {
        "id": "3-lDzqdGmR-q",
        "colab_type": "text"
      },
      "source": [
        "### Question 2"
      ]
    },
    {
      "cell_type": "markdown",
      "metadata": {
        "id": "rhXj6LEmoRmL",
        "colab_type": "text"
      },
      "source": [
        "\n",
        "\n",
        "> plot one of the images in the test data, and then do inferencing to check what is the prediction of the model on that\n",
        "single image in the test data\n",
        "\n"
      ]
    },
    {
      "cell_type": "code",
      "metadata": {
        "id": "rOL92g1xmaw3",
        "colab_type": "code",
        "colab": {
          "base_uri": "https://localhost:8080/",
          "height": 265
        },
        "outputId": "e27e8a3b-a6ab-4e6a-abcb-5ebdb204fdf0"
      },
      "source": [
        "plt.imshow(test_images[10].reshape((28, 28)), cmap = 'gray')\n",
        "plt.show()"
      ],
      "execution_count": 68,
      "outputs": [
        {
          "output_type": "display_data",
          "data": {
            "image/png": "[encoded data removed]",
            "text/plain": [
              "<Figure size 432x288 with 1 Axes>"
            ]
          },
          "metadata": {
            "tags": [],
            "needs_background": "light"
          }
        }
      ]
    },
    {
      "cell_type": "code",
      "metadata": {
        "id": "uytDKZpLnCQQ",
        "colab_type": "code",
        "colab": {
          "base_uri": "https://localhost:8080/",
          "height": 53
        },
        "outputId": "1f40fbf5-1a55-4a03-ce99-b92830c52ed1"
      },
      "source": [
        "[test_loss, test_acc] = model.evaluate(test_data, test_labels_one_hot)\n",
        "print(\"Evaluation result on Test Data : Loss = {}, accuracy = {}\".format(test_loss, test_acc))"
      ],
      "execution_count": 69,
      "outputs": [
        {
          "output_type": "stream",
          "text": [
            "10000/10000 [==============================] - 1s 82us/step\n",
            "Evaluation result on Test Data : Loss = 0.44083905580284743, accuracy = 0.9664999842643738\n"
          ],
          "name": "stdout"
        }
      ]
    },
    {
      "cell_type": "code",
      "metadata": {
        "id": "qF336W6-nKIh",
        "colab_type": "code",
        "colab": {
          "base_uri": "https://localhost:8080/",
          "height": 35
        },
        "outputId": "ed923a13-64d7-4d3c-ee53-280551fa70ba"
      },
      "source": [
        "#loading and predicting the model\n",
        "predictions = model.predict(test_data[[10],:], batch_size=1)\n",
        "print(predictions)"
      ],
      "execution_count": 70,
      "outputs": [
        {
          "output_type": "stream",
          "text": [
            "[[1. 0. 0. 0. 0. 0. 0. 0. 0. 0.]]\n"
          ],
          "name": "stdout"
        }
      ]
    },
    {
      "cell_type": "code",
      "metadata": {
        "id": "ahCOJr_YnLBg",
        "colab_type": "code",
        "colab": {
          "base_uri": "https://localhost:8080/",
          "height": 35
        },
        "outputId": "6fd94556-8ac4-4580-d179-207ed7da0cda"
      },
      "source": [
        "predict_classes = model.predict_classes(test_data[[10],:])\n",
        "print(predict_classes)"
      ],
      "execution_count": 71,
      "outputs": [
        {
          "output_type": "stream",
          "text": [
            "[0]\n"
          ],
          "name": "stdout"
        }
      ]
    },
    {
      "cell_type": "markdown",
      "metadata": {
        "id": "avXX9DrSoP2a",
        "colab_type": "text"
      },
      "source": [
        "### Question 3"
      ]
    },
    {
      "cell_type": "markdown",
      "metadata": {
        "id": "Nx_NRef6oWm6",
        "colab_type": "text"
      },
      "source": [
        "\n",
        "\n",
        "> We had used 2 hidden layers and relu activation. Try to change the number of hidden layer and the activation to\n",
        "tanh or sigmoid and see what happens\n",
        "\n"
      ]
    },
    {
      "cell_type": "code",
      "metadata": {
        "id": "Tcc6si8YofZm",
        "colab_type": "code",
        "colab": {}
      },
      "source": [
        "#creating network\n",
        "model2 = Sequential()\n",
        "model2.add(Dense(512, activation='relu', input_shape=(dimData,)))\n",
        "model2.add(Dense(512, activation='relu'))"
      ],
      "execution_count": 54,
      "outputs": []
    },
    {
      "cell_type": "code",
      "metadata": {
        "id": "vxGEotA7om7M",
        "colab_type": "code",
        "colab": {}
      },
      "source": [
        "#Added layers\n",
        "model2.add(Dense(450, activation='tanh'))\n",
        "model2.add(Dense(650, activation='tanh'))"
      ],
      "execution_count": 55,
      "outputs": []
    },
    {
      "cell_type": "code",
      "metadata": {
        "id": "rdXrgGzeon9s",
        "colab_type": "code",
        "colab": {}
      },
      "source": [
        "model2.add(Dense(10, activation='softmax'))"
      ],
      "execution_count": 56,
      "outputs": []
    },
    {
      "cell_type": "code",
      "metadata": {
        "id": "XOsnhYlwooyH",
        "colab_type": "code",
        "colab": {
          "base_uri": "https://localhost:8080/",
          "height": 395
        },
        "outputId": "38b5d142-325b-4dec-a69c-b889675173b1"
      },
      "source": [
        "model2.compile(optimizer='rmsprop', loss='categorical_crossentropy', metrics=['accuracy'])\n",
        "history = model2.fit(train_data, train_labels_one_hot, batch_size=256, epochs=10, verbose=1, validation_data=(test_data, test_labels_one_hot))"
      ],
      "execution_count": 57,
      "outputs": [
        {
          "output_type": "stream",
          "text": [
            "Train on 60000 samples, validate on 10000 samples\n",
            "Epoch 1/10\n",
            "60000/60000 [==============================] - 12s 192us/step - loss: 0.3107 - accuracy: 0.9022 - val_loss: 0.1621 - val_accuracy: 0.9459\n",
            "Epoch 2/10\n",
            "60000/60000 [==============================] - 11s 192us/step - loss: 0.1026 - accuracy: 0.9693 - val_loss: 0.1077 - val_accuracy: 0.9698\n",
            "Epoch 3/10\n",
            "60000/60000 [==============================] - 12s 193us/step - loss: 0.0662 - accuracy: 0.9799 - val_loss: 0.1087 - val_accuracy: 0.9674\n",
            "Epoch 4/10\n",
            "60000/60000 [==============================] - 12s 194us/step - loss: 0.0485 - accuracy: 0.9850 - val_loss: 0.0746 - val_accuracy: 0.9801\n",
            "Epoch 5/10\n",
            "60000/60000 [==============================] - 12s 203us/step - loss: 0.0357 - accuracy: 0.9889 - val_loss: 0.0759 - val_accuracy: 0.9804\n",
            "Epoch 6/10\n",
            "60000/60000 [==============================] - 12s 200us/step - loss: 0.0291 - accuracy: 0.9908 - val_loss: 0.0864 - val_accuracy: 0.9786\n",
            "Epoch 7/10\n",
            "60000/60000 [==============================] - 12s 195us/step - loss: 0.0246 - accuracy: 0.9921 - val_loss: 0.0865 - val_accuracy: 0.9807\n",
            "Epoch 8/10\n",
            "60000/60000 [==============================] - 12s 193us/step - loss: 0.0205 - accuracy: 0.9938 - val_loss: 0.1023 - val_accuracy: 0.9780\n",
            "Epoch 9/10\n",
            "60000/60000 [==============================] - 12s 193us/step - loss: 0.0167 - accuracy: 0.9947 - val_loss: 0.0806 - val_accuracy: 0.9818\n",
            "Epoch 10/10\n",
            "60000/60000 [==============================] - 12s 193us/step - loss: 0.0147 - accuracy: 0.9956 - val_loss: 0.0959 - val_accuracy: 0.9776\n"
          ],
          "name": "stdout"
        }
      ]
    },
    {
      "cell_type": "code",
      "metadata": {
        "id": "l4pxK1syopva",
        "colab_type": "code",
        "colab": {
          "base_uri": "https://localhost:8080/",
          "height": 53
        },
        "outputId": "d0f817c0-e9cc-4e2b-9d02-857b0e6571b8"
      },
      "source": [
        "[test_loss, test_acc] = model2.evaluate(test_data, test_labels_one_hot)\n",
        "print(\"Evaluation result on Test Data : Loss = {}, accuracy = {}\".format(test_loss, test_acc))"
      ],
      "execution_count": 58,
      "outputs": [
        {
          "output_type": "stream",
          "text": [
            "10000/10000 [==============================] - 1s 138us/step\n",
            "Evaluation result on Test Data : Loss = 0.09587538195927628, accuracy = 0.9775999784469604\n"
          ],
          "name": "stdout"
        }
      ]
    },
    {
      "cell_type": "markdown",
      "metadata": {
        "id": "sNn5wqOQqJAj",
        "colab_type": "text"
      },
      "source": [
        "### Question 4 Bonus"
      ]
    },
    {
      "cell_type": "markdown",
      "metadata": {
        "id": "Z_zgWv5kqK2-",
        "colab_type": "text"
      },
      "source": [
        "\n",
        "\n",
        "> Run the same code without scaling the images, how the accuracy changes?\n",
        "\n"
      ]
    },
    {
      "cell_type": "code",
      "metadata": {
        "colab_type": "code",
        "id": "gcKLglUSrWnO",
        "colab": {}
      },
      "source": [
        "(train_images,train_labels),(test_images, test_labels) = mnist.load_data()"
      ],
      "execution_count": 72,
      "outputs": []
    },
    {
      "cell_type": "code",
      "metadata": {
        "colab_type": "code",
        "id": "nprhuederWnS",
        "colab": {
          "base_uri": "https://localhost:8080/",
          "height": 35
        },
        "outputId": "8de2f49c-43d7-4847-f074-84865a4a1cd4"
      },
      "source": [
        "print(train_images.shape[1:])"
      ],
      "execution_count": 73,
      "outputs": [
        {
          "output_type": "stream",
          "text": [
            "(28, 28)\n"
          ],
          "name": "stdout"
        }
      ]
    },
    {
      "cell_type": "code",
      "metadata": {
        "colab_type": "code",
        "id": "idMOz4_2rWnV",
        "colab": {
          "base_uri": "https://localhost:8080/",
          "height": 35
        },
        "outputId": "816f8a8a-5461-4374-9aa2-f25b58c45f13"
      },
      "source": [
        "#process the data\n",
        "#1. convert each image of shape 28*28 to 784 dimensional which will be fed to the network as a single feature\n",
        "dimData = np.prod(train_images.shape[1:])\n",
        "print(dimData)"
      ],
      "execution_count": 74,
      "outputs": [
        {
          "output_type": "stream",
          "text": [
            "784\n"
          ],
          "name": "stdout"
        }
      ]
    },
    {
      "cell_type": "code",
      "metadata": {
        "colab_type": "code",
        "id": "ZUJQJka8rWnZ",
        "colab": {}
      },
      "source": [
        "train_data = train_images.reshape(train_images.shape[0],dimData)\n",
        "test_data = test_images.reshape(test_images.shape[0],dimData)"
      ],
      "execution_count": 75,
      "outputs": []
    },
    {
      "cell_type": "code",
      "metadata": {
        "colab_type": "code",
        "id": "L9TcwdYNrWnc",
        "colab": {}
      },
      "source": [
        "#convert data to float and scale values between 0 and 1\n",
        "train_data = train_data.astype('float')\n",
        "test_data = test_data.astype('float')"
      ],
      "execution_count": 76,
      "outputs": []
    },
    {
      "cell_type": "code",
      "metadata": {
        "colab_type": "code",
        "id": "_QsLgAferWng",
        "colab": {}
      },
      "source": [
        "#change the labels frominteger to one-hot encoding. to_categorical is doing the same thing as LabelEncoder()\n",
        "train_labels_one_hot = to_categorical(train_labels)\n",
        "test_labels_one_hot = to_categorical(test_labels)"
      ],
      "execution_count": 77,
      "outputs": []
    },
    {
      "cell_type": "code",
      "metadata": {
        "colab_type": "code",
        "id": "kuK9e8LMrWni",
        "colab": {}
      },
      "source": [
        "#creating network\n",
        "model = Sequential()\n",
        "model.add(Dense(512, activation='relu', input_shape=(dimData,)))\n",
        "model.add(Dense(512, activation='relu'))\n",
        "model.add(Dense(10, activation='softmax'))"
      ],
      "execution_count": 78,
      "outputs": []
    },
    {
      "cell_type": "code",
      "metadata": {
        "colab_type": "code",
        "id": "-DVDEFpKrWnk",
        "colab": {
          "base_uri": "https://localhost:8080/",
          "height": 395
        },
        "outputId": "29fbbe8f-5b91-4710-c421-b7ff72968075"
      },
      "source": [
        "model.compile(optimizer='rmsprop', loss='categorical_crossentropy', metrics=['accuracy'])\n",
        "history = model.fit(train_data, train_labels_one_hot, batch_size=256, epochs=10, verbose=1, validation_data=(test_data, test_labels_one_hot))"
      ],
      "execution_count": 79,
      "outputs": [
        {
          "output_type": "stream",
          "text": [
            "Train on 60000 samples, validate on 10000 samples\n",
            "Epoch 1/10\n",
            "60000/60000 [==============================] - 6s 107us/step - loss: 6.4066 - accuracy: 0.8730 - val_loss: 1.1070 - val_accuracy: 0.9031\n",
            "Epoch 2/10\n",
            "60000/60000 [==============================] - 6s 105us/step - loss: 0.4495 - accuracy: 0.9457 - val_loss: 0.3339 - val_accuracy: 0.9550\n",
            "Epoch 3/10\n",
            "60000/60000 [==============================] - 6s 106us/step - loss: 0.2627 - accuracy: 0.9588 - val_loss: 0.5552 - val_accuracy: 0.9304\n",
            "Epoch 4/10\n",
            "60000/60000 [==============================] - 6s 105us/step - loss: 0.2054 - accuracy: 0.9658 - val_loss: 0.3253 - val_accuracy: 0.9536\n",
            "Epoch 5/10\n",
            "60000/60000 [==============================] - 6s 106us/step - loss: 0.1710 - accuracy: 0.9719 - val_loss: 0.2900 - val_accuracy: 0.9630\n",
            "Epoch 6/10\n",
            "60000/60000 [==============================] - 7s 115us/step - loss: 0.1696 - accuracy: 0.9746 - val_loss: 0.3241 - val_accuracy: 0.9657\n",
            "Epoch 7/10\n",
            "60000/60000 [==============================] - 6s 108us/step - loss: 0.1509 - accuracy: 0.9783 - val_loss: 0.3841 - val_accuracy: 0.9569\n",
            "Epoch 8/10\n",
            "60000/60000 [==============================] - 6s 105us/step - loss: 0.1532 - accuracy: 0.9799 - val_loss: 0.3378 - val_accuracy: 0.9654\n",
            "Epoch 9/10\n",
            "60000/60000 [==============================] - 6s 107us/step - loss: 0.1390 - accuracy: 0.9826 - val_loss: 0.5304 - val_accuracy: 0.9538\n",
            "Epoch 10/10\n",
            "60000/60000 [==============================] - 6s 107us/step - loss: 0.1316 - accuracy: 0.9833 - val_loss: 0.4009 - val_accuracy: 0.9681\n"
          ],
          "name": "stdout"
        }
      ]
    },
    {
      "cell_type": "code",
      "metadata": {
        "colab_type": "code",
        "id": "Vv3XQs1zrWnn",
        "colab": {
          "base_uri": "https://localhost:8080/",
          "height": 53
        },
        "outputId": "78e843c5-381c-4e97-c374-bcf5a8bf7ed5"
      },
      "source": [
        "[test_loss, test_acc] = model.evaluate(test_data, test_labels_one_hot)\n",
        "print(\"Evaluation result on Test Data : Loss = {}, accuracy = {}\".format(test_loss, test_acc))"
      ],
      "execution_count": 67,
      "outputs": [
        {
          "output_type": "stream",
          "text": [
            "10000/10000 [==============================] - 1s 82us/step\n",
            "Evaluation result on Test Data : Loss = 0.44083905580284743, accuracy = 0.9664999842643738\n"
          ],
          "name": "stdout"
        }
      ]
    }
  ]
}