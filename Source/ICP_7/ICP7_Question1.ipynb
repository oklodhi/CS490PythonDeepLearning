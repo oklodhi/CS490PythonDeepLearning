{
  "nbformat": 4,
  "nbformat_minor": 0,
  "metadata": {
    "colab": {
      "name": "ICP7_Question1.ipynb",
      "provenance": []
    },
    "kernelspec": {
      "name": "python3",
      "display_name": "Python 3"
    }
  },
  "cells": [
    {
      "cell_type": "markdown",
      "metadata": {
        "id": "Yk-cS6tSkjSk",
        "colab_type": "text"
      },
      "source": [
        "Import Libraries"
      ]
    },
    {
      "cell_type": "code",
      "metadata": {
        "id": "eVcbZeq8VEmT",
        "colab_type": "code",
        "colab": {}
      },
      "source": [
        "from sklearn.datasets import fetch_20newsgroups\n",
        "\n",
        "from sklearn.feature_extraction.text import CountVectorizer, TfidfVectorizer\n",
        "from sklearn.feature_extraction.text import TfidfTransformer\n",
        "from sklearn import metrics\n",
        "from sklearn.pipeline import Pipeline\n",
        "from sklearn.naive_bayes import MultinomialNB\n",
        "\n",
        "from sklearn import svm"
      ],
      "execution_count": null,
      "outputs": []
    },
    {
      "cell_type": "markdown",
      "metadata": {
        "id": "tu7uUGBvklHV",
        "colab_type": "text"
      },
      "source": [
        "Import dataset"
      ]
    },
    {
      "cell_type": "code",
      "metadata": {
        "id": "WMvFAgXQWW6c",
        "colab_type": "code",
        "colab": {
          "base_uri": "https://localhost:8080/",
          "height": 53
        },
        "outputId": "4003c334-f539-4405-ba8f-935cfe100124"
      },
      "source": [
        "twenty_train = fetch_20newsgroups(subset='train', shuffle=True)"
      ],
      "execution_count": null,
      "outputs": [
        {
          "output_type": "stream",
          "text": [
            "Downloading 20news dataset. This may take a few minutes.\n",
            "Downloading dataset from https://ndownloader.figshare.com/files/5975967 (14 MB)\n"
          ],
          "name": "stderr"
        }
      ]
    },
    {
      "cell_type": "markdown",
      "metadata": {
        "id": "ijpQKX2FkrQc",
        "colab_type": "text"
      },
      "source": [
        "Create TFIDF vectorizer on dataset"
      ]
    },
    {
      "cell_type": "code",
      "metadata": {
        "id": "nfVT8W4GWY-w",
        "colab_type": "code",
        "colab": {}
      },
      "source": [
        "tfidf_Vect = TfidfVectorizer()\n",
        "X_train_tfidf = tfidf_Vect.fit_transform(twenty_train.data)"
      ],
      "execution_count": null,
      "outputs": []
    },
    {
      "cell_type": "code",
      "metadata": {
        "id": "RZpYbYRFWZ99",
        "colab_type": "code",
        "colab": {}
      },
      "source": [
        "#print(tfidf_Vect.vocabulary_)"
      ],
      "execution_count": null,
      "outputs": []
    },
    {
      "cell_type": "markdown",
      "metadata": {
        "id": "1k3pyNWwkwnR",
        "colab_type": "text"
      },
      "source": [
        "Create a training classifier"
      ]
    },
    {
      "cell_type": "code",
      "metadata": {
        "id": "flGOvDf3Wt0Y",
        "colab_type": "code",
        "colab": {
          "base_uri": "https://localhost:8080/",
          "height": 35
        },
        "outputId": "462c1d97-7ab4-435c-fa94-bf2d4a16b445"
      },
      "source": [
        "clf = MultinomialNB()\n",
        "clf.fit(X_train_tfidf, twenty_train.target)"
      ],
      "execution_count": null,
      "outputs": [
        {
          "output_type": "execute_result",
          "data": {
            "text/plain": [
              "MultinomialNB(alpha=1.0, class_prior=None, fit_prior=True)"
            ]
          },
          "metadata": {
            "tags": []
          },
          "execution_count": 5
        }
      ]
    },
    {
      "cell_type": "markdown",
      "metadata": {
        "id": "kdpXFModlHUC",
        "colab_type": "text"
      },
      "source": [
        "Create testing classifier"
      ]
    },
    {
      "cell_type": "code",
      "metadata": {
        "id": "p10L0bfZWvYG",
        "colab_type": "code",
        "colab": {}
      },
      "source": [
        "twenty_test = fetch_20newsgroups(subset='test', shuffle=True)\n",
        "X_test_tfidf = tfidf_Vect.transform(twenty_test.data)"
      ],
      "execution_count": null,
      "outputs": []
    },
    {
      "cell_type": "markdown",
      "metadata": {
        "id": "F_ozrKpolKT1",
        "colab_type": "text"
      },
      "source": [
        "Predict and score accuracy of the base model"
      ]
    },
    {
      "cell_type": "code",
      "metadata": {
        "id": "S8U_w419WwgF",
        "colab_type": "code",
        "colab": {}
      },
      "source": [
        "predicted = clf.predict(X_test_tfidf)"
      ],
      "execution_count": null,
      "outputs": []
    },
    {
      "cell_type": "code",
      "metadata": {
        "id": "oarUaAaXWxaH",
        "colab_type": "code",
        "colab": {
          "base_uri": "https://localhost:8080/",
          "height": 35
        },
        "outputId": "ce5a4bfd-c5d8-4ef9-f423-f84065ccc21e"
      },
      "source": [
        "score = metrics.accuracy_score(twenty_test.target, predicted)\n",
        "print(\"Accuracy: \", score)"
      ],
      "execution_count": null,
      "outputs": [
        {
          "output_type": "stream",
          "text": [
            "Accuracy:  0.7738980350504514\n"
          ],
          "name": "stdout"
        }
      ]
    },
    {
      "cell_type": "markdown",
      "metadata": {
        "id": "kgFDv85KlOk-",
        "colab_type": "text"
      },
      "source": [
        "Score accuracy of the linear SVM model"
      ]
    },
    {
      "cell_type": "code",
      "metadata": {
        "id": "2hklRcQpWySg",
        "colab_type": "code",
        "colab": {
          "base_uri": "https://localhost:8080/",
          "height": 89
        },
        "outputId": "143dc30e-1818-439f-823a-5686ccb7f2ae"
      },
      "source": [
        "svmmodel = svm.SVC(kernel='linear')\n",
        "svmmodel.fit(X_train_tfidf, twenty_train.target)"
      ],
      "execution_count": null,
      "outputs": [
        {
          "output_type": "execute_result",
          "data": {
            "text/plain": [
              "SVC(C=1.0, break_ties=False, cache_size=200, class_weight=None, coef0=0.0,\n",
              "    decision_function_shape='ovr', degree=3, gamma='scale', kernel='linear',\n",
              "    max_iter=-1, probability=False, random_state=None, shrinking=True,\n",
              "    tol=0.001, verbose=False)"
            ]
          },
          "metadata": {
            "tags": []
          },
          "execution_count": 9
        }
      ]
    },
    {
      "cell_type": "code",
      "metadata": {
        "id": "knvhbyHiW5dJ",
        "colab_type": "code",
        "colab": {}
      },
      "source": [
        "yprediction = svmmodel.predict(X_test_tfidf)"
      ],
      "execution_count": null,
      "outputs": []
    },
    {
      "cell_type": "code",
      "metadata": {
        "id": "w4M-nzZcW6Z0",
        "colab_type": "code",
        "colab": {
          "base_uri": "https://localhost:8080/",
          "height": 35
        },
        "outputId": "eedbca2e-1852-4c7d-869f-1e5938714009"
      },
      "source": [
        "print(\"Accuracy: \",metrics.accuracy_score(twenty_test.target, yprediction))"
      ],
      "execution_count": null,
      "outputs": [
        {
          "output_type": "stream",
          "text": [
            "Accuracy:  0.8347052575677111\n"
          ],
          "name": "stdout"
        }
      ]
    },
    {
      "cell_type": "markdown",
      "metadata": {
        "id": "frJthwePlS1J",
        "colab_type": "text"
      },
      "source": [
        "Score accuracy of the bi-gram TFIDF model"
      ]
    },
    {
      "cell_type": "code",
      "metadata": {
        "id": "ws23bC5cXVxk",
        "colab_type": "code",
        "colab": {}
      },
      "source": [
        "bigram_tfidf = TfidfVectorizer(ngram_range=(1,2))\n",
        "bigram_tfidf_x_training = bigram_tfidf.fit_transform(twenty_train.data)"
      ],
      "execution_count": null,
      "outputs": []
    },
    {
      "cell_type": "code",
      "metadata": {
        "id": "Ztf4xAEtXXgy",
        "colab_type": "code",
        "colab": {
          "base_uri": "https://localhost:8080/",
          "height": 35
        },
        "outputId": "61de699a-5d01-4d5c-de01-5b9443c19219"
      },
      "source": [
        "classifier = MultinomialNB()\n",
        "classifier.fit(bigram_tfidf_x_training, twenty_train.target)"
      ],
      "execution_count": null,
      "outputs": [
        {
          "output_type": "execute_result",
          "data": {
            "text/plain": [
              "MultinomialNB(alpha=1.0, class_prior=None, fit_prior=True)"
            ]
          },
          "metadata": {
            "tags": []
          },
          "execution_count": 13
        }
      ]
    },
    {
      "cell_type": "code",
      "metadata": {
        "id": "kSEmWKwvXZt_",
        "colab_type": "code",
        "colab": {}
      },
      "source": [
        "bigram_tfidf_x_test = bigram_tfidf.transform(twenty_test.data)"
      ],
      "execution_count": null,
      "outputs": []
    },
    {
      "cell_type": "code",
      "metadata": {
        "id": "HWtNxrA3Xaem",
        "colab_type": "code",
        "colab": {}
      },
      "source": [
        "bigrampredicted = classifier.predict(bigram_tfidf_x_test)"
      ],
      "execution_count": null,
      "outputs": []
    },
    {
      "cell_type": "code",
      "metadata": {
        "id": "WkHdEDYSXbTt",
        "colab_type": "code",
        "colab": {
          "base_uri": "https://localhost:8080/",
          "height": 35
        },
        "outputId": "8e8b3523-8415-4af3-c0a7-675aca39e348"
      },
      "source": [
        "bigramscore = metrics.accuracy_score(twenty_test.target, bigrampredicted)\n",
        "print(bigramscore)"
      ],
      "execution_count": null,
      "outputs": [
        {
          "output_type": "stream",
          "text": [
            "0.765400955921402\n"
          ],
          "name": "stdout"
        }
      ]
    },
    {
      "cell_type": "markdown",
      "metadata": {
        "id": "uZSRkGYvlXq8",
        "colab_type": "text"
      },
      "source": [
        "Score accuracy of the bi-gram TFIDF based on the SVM"
      ]
    },
    {
      "cell_type": "code",
      "metadata": {
        "id": "UYJw1HDrXcAR",
        "colab_type": "code",
        "colab": {
          "base_uri": "https://localhost:8080/",
          "height": 89
        },
        "outputId": "99801778-663c-486b-c769-0674e26990f4"
      },
      "source": [
        "classifier2 = svm.SVC(kernel='linear')\n",
        "classifier2.fit(bigram_tfidf_x_training, twenty_train.target)"
      ],
      "execution_count": null,
      "outputs": [
        {
          "output_type": "execute_result",
          "data": {
            "text/plain": [
              "SVC(C=1.0, break_ties=False, cache_size=200, class_weight=None, coef0=0.0,\n",
              "    decision_function_shape='ovr', degree=3, gamma='scale', kernel='linear',\n",
              "    max_iter=-1, probability=False, random_state=None, shrinking=True,\n",
              "    tol=0.001, verbose=False)"
            ]
          },
          "metadata": {
            "tags": []
          },
          "execution_count": 17
        }
      ]
    },
    {
      "cell_type": "code",
      "metadata": {
        "id": "FwWFhcADXdhd",
        "colab_type": "code",
        "colab": {}
      },
      "source": [
        "bigram_y_prediction = classifier2.predict(bigram_tfidf_x_test)"
      ],
      "execution_count": null,
      "outputs": []
    },
    {
      "cell_type": "code",
      "metadata": {
        "id": "oXIUYGzIXefl",
        "colab_type": "code",
        "colab": {
          "base_uri": "https://localhost:8080/",
          "height": 35
        },
        "outputId": "fe970937-9323-451e-d2fa-4fd776d24aa7"
      },
      "source": [
        "print(\"Accuracy: \",metrics.accuracy_score(twenty_test.target, bigram_y_prediction))"
      ],
      "execution_count": null,
      "outputs": [
        {
          "output_type": "stream",
          "text": [
            "Accuracy:  0.8385554965480616\n"
          ],
          "name": "stdout"
        }
      ]
    }
  ]
}