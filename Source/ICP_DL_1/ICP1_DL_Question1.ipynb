{
  "nbformat": 4,
  "nbformat_minor": 0,
  "metadata": {
    "colab": {
      "name": "ICP1_DL_Question1.ipynb",
      "provenance": []
    },
    "kernelspec": {
      "name": "python3",
      "display_name": "Python 3"
    }
  },
  "cells": [
    {
      "cell_type": "markdown",
      "metadata": {
        "id": "U07mhJbAqcIZ",
        "colab_type": "text"
      },
      "source": [
        "Import libraries"
      ]
    },
    {
      "cell_type": "code",
      "metadata": {
        "id": "llLIaMgwo8ao",
        "colab_type": "code",
        "colab": {
          "base_uri": "https://localhost:8080/",
          "height": 35
        },
        "outputId": "d591afea-d64d-4f96-b830-b73ed229535a"
      },
      "source": [
        "import pandas\n",
        "from keras.models import Sequential\n",
        "from keras.layers.core import Dense, Activation\n",
        "\n",
        "# load dataset\n",
        "from sklearn.model_selection import train_test_split\n",
        "import pandas as pd\n",
        "import numpy as np"
      ],
      "execution_count": 1,
      "outputs": [
        {
          "output_type": "stream",
          "text": [
            "Using TensorFlow backend.\n"
          ],
          "name": "stderr"
        }
      ]
    },
    {
      "cell_type": "markdown",
      "metadata": {
        "id": "SeWooOipqei0",
        "colab_type": "text"
      },
      "source": [
        "Import dataset"
      ]
    },
    {
      "cell_type": "code",
      "metadata": {
        "id": "psoeEB22pJVv",
        "colab_type": "code",
        "colab": {}
      },
      "source": [
        "dataset = pd.read_csv(\"diabetes.csv\", header=None).values"
      ],
      "execution_count": 2,
      "outputs": []
    },
    {
      "cell_type": "markdown",
      "metadata": {
        "id": "G_a1gEGmqikf",
        "colab_type": "text"
      },
      "source": [
        "Create data training and testing split"
      ]
    },
    {
      "cell_type": "code",
      "metadata": {
        "id": "C3zywdFjpKn0",
        "colab_type": "code",
        "colab": {}
      },
      "source": [
        "X_train, X_test, Y_train, Y_test = train_test_split(dataset[:,0:8], dataset[:,8], test_size=0.25, random_state=87)"
      ],
      "execution_count": 3,
      "outputs": []
    },
    {
      "cell_type": "markdown",
      "metadata": {
        "id": "KgqrsXqWqlwW",
        "colab_type": "text"
      },
      "source": [
        "Deep learning model training"
      ]
    },
    {
      "cell_type": "code",
      "metadata": {
        "id": "jbCEEz0rqx5B",
        "colab_type": "code",
        "colab": {}
      },
      "source": [
        "np.random.seed(155)\n",
        "my_first_nn = Sequential() # create model\n",
        "my_first_nn.add(Dense(20, input_dim=8, activation='relu')) # hidden layer"
      ],
      "execution_count": 4,
      "outputs": []
    },
    {
      "cell_type": "markdown",
      "metadata": {
        "id": "Cx27PQTFrWWL",
        "colab_type": "text"
      },
      "source": [
        "Adding an addition hidden layer"
      ]
    },
    {
      "cell_type": "code",
      "metadata": {
        "id": "ICnCeJhFq5Sb",
        "colab_type": "code",
        "colab": {}
      },
      "source": [
        "my_first_nn.add(Dense(90, input_dim=8,  activation='relu'))"
      ],
      "execution_count": 5,
      "outputs": []
    },
    {
      "cell_type": "markdown",
      "metadata": {
        "id": "Gccl6Xvproej",
        "colab_type": "text"
      },
      "source": [
        "Train the model"
      ]
    },
    {
      "cell_type": "code",
      "metadata": {
        "id": "Tc5YWnjwq6NP",
        "colab_type": "code",
        "colab": {
          "base_uri": "https://localhost:8080/",
          "height": 1000
        },
        "outputId": "641ee4d0-e0fe-4139-a057-d5b37b31e3c7"
      },
      "source": [
        "my_first_nn.add(Dense(1, activation='sigmoid')) # output layer\n",
        "my_first_nn.compile(loss='binary_crossentropy', optimizer='adam', metrics=['acc'])\n",
        "my_first_nn_fitted = my_first_nn.fit(X_train, Y_train, epochs=100, initial_epoch=0)"
      ],
      "execution_count": 12,
      "outputs": [
        {
          "output_type": "stream",
          "text": [
            "Epoch 1/100\n",
            "576/576 [==============================] - 0s 301us/step - loss: 0.7148 - acc: 0.3385\n",
            "Epoch 2/100\n",
            "576/576 [==============================] - 0s 49us/step - loss: 0.7095 - acc: 0.3385\n",
            "Epoch 3/100\n",
            "576/576 [==============================] - 0s 48us/step - loss: 0.7051 - acc: 0.3385\n",
            "Epoch 4/100\n",
            "576/576 [==============================] - 0s 52us/step - loss: 0.6999 - acc: 0.3385\n",
            "Epoch 5/100\n",
            "576/576 [==============================] - 0s 45us/step - loss: 0.6963 - acc: 0.3385\n",
            "Epoch 6/100\n",
            "576/576 [==============================] - 0s 53us/step - loss: 0.6928 - acc: 0.3385\n",
            "Epoch 7/100\n",
            "576/576 [==============================] - 0s 52us/step - loss: 0.6884 - acc: 0.3385\n",
            "Epoch 8/100\n",
            "576/576 [==============================] - 0s 55us/step - loss: 0.6857 - acc: 0.6875\n",
            "Epoch 9/100\n",
            "576/576 [==============================] - 0s 48us/step - loss: 0.6838 - acc: 0.7170\n",
            "Epoch 10/100\n",
            "576/576 [==============================] - 0s 51us/step - loss: 0.6779 - acc: 0.7222\n",
            "Epoch 11/100\n",
            "576/576 [==============================] - 0s 51us/step - loss: 0.6757 - acc: 0.7309\n",
            "Epoch 12/100\n",
            "576/576 [==============================] - 0s 61us/step - loss: 0.6745 - acc: 0.7066\n",
            "Epoch 13/100\n",
            "576/576 [==============================] - 0s 50us/step - loss: 0.6704 - acc: 0.7274\n",
            "Epoch 14/100\n",
            "576/576 [==============================] - 0s 48us/step - loss: 0.6682 - acc: 0.7188\n",
            "Epoch 15/100\n",
            "576/576 [==============================] - 0s 56us/step - loss: 0.6654 - acc: 0.7326\n",
            "Epoch 16/100\n",
            "576/576 [==============================] - 0s 48us/step - loss: 0.6641 - acc: 0.7240\n",
            "Epoch 17/100\n",
            "576/576 [==============================] - 0s 67us/step - loss: 0.6610 - acc: 0.7309\n",
            "Epoch 18/100\n",
            "576/576 [==============================] - 0s 53us/step - loss: 0.6584 - acc: 0.7344\n",
            "Epoch 19/100\n",
            "576/576 [==============================] - 0s 58us/step - loss: 0.6566 - acc: 0.7326\n",
            "Epoch 20/100\n",
            "576/576 [==============================] - 0s 61us/step - loss: 0.6551 - acc: 0.7326\n",
            "Epoch 21/100\n",
            "576/576 [==============================] - 0s 52us/step - loss: 0.6524 - acc: 0.7396\n",
            "Epoch 22/100\n",
            "576/576 [==============================] - 0s 47us/step - loss: 0.6500 - acc: 0.7378\n",
            "Epoch 23/100\n",
            "576/576 [==============================] - 0s 45us/step - loss: 0.6486 - acc: 0.7431\n",
            "Epoch 24/100\n",
            "576/576 [==============================] - 0s 54us/step - loss: 0.6457 - acc: 0.7431\n",
            "Epoch 25/100\n",
            "576/576 [==============================] - 0s 66us/step - loss: 0.6446 - acc: 0.7465\n",
            "Epoch 26/100\n",
            "576/576 [==============================] - 0s 58us/step - loss: 0.6435 - acc: 0.7361\n",
            "Epoch 27/100\n",
            "576/576 [==============================] - 0s 49us/step - loss: 0.6398 - acc: 0.6997\n",
            "Epoch 28/100\n",
            "576/576 [==============================] - 0s 47us/step - loss: 0.6382 - acc: 0.6615\n",
            "Epoch 29/100\n",
            "576/576 [==============================] - 0s 54us/step - loss: 0.6378 - acc: 0.6615\n",
            "Epoch 30/100\n",
            "576/576 [==============================] - 0s 50us/step - loss: 0.6362 - acc: 0.6615\n",
            "Epoch 31/100\n",
            "576/576 [==============================] - 0s 49us/step - loss: 0.6335 - acc: 0.6615\n",
            "Epoch 32/100\n",
            "576/576 [==============================] - 0s 53us/step - loss: 0.6316 - acc: 0.6615\n",
            "Epoch 33/100\n",
            "576/576 [==============================] - 0s 48us/step - loss: 0.6313 - acc: 0.6615\n",
            "Epoch 34/100\n",
            "576/576 [==============================] - 0s 48us/step - loss: 0.6300 - acc: 0.6615\n",
            "Epoch 35/100\n",
            "576/576 [==============================] - 0s 55us/step - loss: 0.6297 - acc: 0.6615\n",
            "Epoch 36/100\n",
            "576/576 [==============================] - 0s 54us/step - loss: 0.6300 - acc: 0.6615\n",
            "Epoch 37/100\n",
            "576/576 [==============================] - 0s 55us/step - loss: 0.6283 - acc: 0.6615\n",
            "Epoch 38/100\n",
            "576/576 [==============================] - 0s 56us/step - loss: 0.6274 - acc: 0.6615\n",
            "Epoch 39/100\n",
            "576/576 [==============================] - 0s 48us/step - loss: 0.6272 - acc: 0.6615\n",
            "Epoch 40/100\n",
            "576/576 [==============================] - 0s 47us/step - loss: 0.6238 - acc: 0.6615\n",
            "Epoch 41/100\n",
            "576/576 [==============================] - 0s 49us/step - loss: 0.6243 - acc: 0.6615\n",
            "Epoch 42/100\n",
            "576/576 [==============================] - 0s 61us/step - loss: 0.6201 - acc: 0.6615\n",
            "Epoch 43/100\n",
            "576/576 [==============================] - 0s 51us/step - loss: 0.6193 - acc: 0.6615\n",
            "Epoch 44/100\n",
            "576/576 [==============================] - 0s 47us/step - loss: 0.6182 - acc: 0.6615\n",
            "Epoch 45/100\n",
            "576/576 [==============================] - 0s 49us/step - loss: 0.6166 - acc: 0.6615\n",
            "Epoch 46/100\n",
            "576/576 [==============================] - 0s 64us/step - loss: 0.6164 - acc: 0.6615\n",
            "Epoch 47/100\n",
            "576/576 [==============================] - 0s 54us/step - loss: 0.6147 - acc: 0.6615\n",
            "Epoch 48/100\n",
            "576/576 [==============================] - 0s 58us/step - loss: 0.6144 - acc: 0.6615\n",
            "Epoch 49/100\n",
            "576/576 [==============================] - 0s 51us/step - loss: 0.6126 - acc: 0.6615\n",
            "Epoch 50/100\n",
            "576/576 [==============================] - 0s 55us/step - loss: 0.6115 - acc: 0.6615\n",
            "Epoch 51/100\n",
            "576/576 [==============================] - 0s 48us/step - loss: 0.6104 - acc: 0.6615\n",
            "Epoch 52/100\n",
            "576/576 [==============================] - 0s 60us/step - loss: 0.6092 - acc: 0.6615\n",
            "Epoch 53/100\n",
            "576/576 [==============================] - 0s 54us/step - loss: 0.6068 - acc: 0.6615\n",
            "Epoch 54/100\n",
            "576/576 [==============================] - 0s 53us/step - loss: 0.6075 - acc: 0.6615\n",
            "Epoch 55/100\n",
            "576/576 [==============================] - 0s 46us/step - loss: 0.6043 - acc: 0.6615\n",
            "Epoch 56/100\n",
            "576/576 [==============================] - 0s 59us/step - loss: 0.6057 - acc: 0.6615\n",
            "Epoch 57/100\n",
            "576/576 [==============================] - 0s 65us/step - loss: 0.6051 - acc: 0.6615\n",
            "Epoch 58/100\n",
            "576/576 [==============================] - 0s 59us/step - loss: 0.6037 - acc: 0.6615\n",
            "Epoch 59/100\n",
            "576/576 [==============================] - 0s 64us/step - loss: 0.6000 - acc: 0.6615\n",
            "Epoch 60/100\n",
            "576/576 [==============================] - 0s 49us/step - loss: 0.5997 - acc: 0.6615\n",
            "Epoch 61/100\n",
            "576/576 [==============================] - 0s 47us/step - loss: 0.6012 - acc: 0.6615\n",
            "Epoch 62/100\n",
            "576/576 [==============================] - 0s 51us/step - loss: 0.5991 - acc: 0.6615\n",
            "Epoch 63/100\n",
            "576/576 [==============================] - 0s 53us/step - loss: 0.5976 - acc: 0.6615\n",
            "Epoch 64/100\n",
            "576/576 [==============================] - 0s 48us/step - loss: 0.5980 - acc: 0.6615\n",
            "Epoch 65/100\n",
            "576/576 [==============================] - 0s 46us/step - loss: 0.5946 - acc: 0.6615\n",
            "Epoch 66/100\n",
            "576/576 [==============================] - 0s 49us/step - loss: 0.5954 - acc: 0.6615\n",
            "Epoch 67/100\n",
            "576/576 [==============================] - 0s 55us/step - loss: 0.5919 - acc: 0.6615\n",
            "Epoch 68/100\n",
            "576/576 [==============================] - 0s 58us/step - loss: 0.5902 - acc: 0.6615\n",
            "Epoch 69/100\n",
            "576/576 [==============================] - 0s 51us/step - loss: 0.5926 - acc: 0.6615\n",
            "Epoch 70/100\n",
            "576/576 [==============================] - 0s 66us/step - loss: 0.5894 - acc: 0.6615\n",
            "Epoch 71/100\n",
            "576/576 [==============================] - 0s 51us/step - loss: 0.5862 - acc: 0.6615\n",
            "Epoch 72/100\n",
            "576/576 [==============================] - 0s 60us/step - loss: 0.5871 - acc: 0.6615\n",
            "Epoch 73/100\n",
            "576/576 [==============================] - 0s 51us/step - loss: 0.5894 - acc: 0.6615\n",
            "Epoch 74/100\n",
            "576/576 [==============================] - 0s 59us/step - loss: 0.5846 - acc: 0.6615\n",
            "Epoch 75/100\n",
            "576/576 [==============================] - 0s 54us/step - loss: 0.5837 - acc: 0.6615\n",
            "Epoch 76/100\n",
            "576/576 [==============================] - 0s 45us/step - loss: 0.5805 - acc: 0.6615\n",
            "Epoch 77/100\n",
            "576/576 [==============================] - 0s 59us/step - loss: 0.5784 - acc: 0.6615\n",
            "Epoch 78/100\n",
            "576/576 [==============================] - 0s 67us/step - loss: 0.5837 - acc: 0.6615\n",
            "Epoch 79/100\n",
            "576/576 [==============================] - 0s 59us/step - loss: 0.5800 - acc: 0.6615\n",
            "Epoch 80/100\n",
            "576/576 [==============================] - 0s 55us/step - loss: 0.5780 - acc: 0.6615\n",
            "Epoch 81/100\n",
            "576/576 [==============================] - 0s 54us/step - loss: 0.5783 - acc: 0.6615\n",
            "Epoch 82/100\n",
            "576/576 [==============================] - 0s 53us/step - loss: 0.5770 - acc: 0.6615\n",
            "Epoch 83/100\n",
            "576/576 [==============================] - 0s 46us/step - loss: 0.5830 - acc: 0.6615\n",
            "Epoch 84/100\n",
            "576/576 [==============================] - 0s 54us/step - loss: 0.5805 - acc: 0.6615\n",
            "Epoch 85/100\n",
            "576/576 [==============================] - 0s 54us/step - loss: 0.5740 - acc: 0.6615\n",
            "Epoch 86/100\n",
            "576/576 [==============================] - 0s 46us/step - loss: 0.5759 - acc: 0.6615\n",
            "Epoch 87/100\n",
            "576/576 [==============================] - 0s 58us/step - loss: 0.5714 - acc: 0.6615\n",
            "Epoch 88/100\n",
            "576/576 [==============================] - 0s 53us/step - loss: 0.5681 - acc: 0.7552\n",
            "Epoch 89/100\n",
            "576/576 [==============================] - 0s 48us/step - loss: 0.5690 - acc: 0.7535\n",
            "Epoch 90/100\n",
            "576/576 [==============================] - 0s 54us/step - loss: 0.5703 - acc: 0.7691\n",
            "Epoch 91/100\n",
            "576/576 [==============================] - 0s 52us/step - loss: 0.5736 - acc: 0.7708\n",
            "Epoch 92/100\n",
            "576/576 [==============================] - 0s 54us/step - loss: 0.5706 - acc: 0.7639\n",
            "Epoch 93/100\n",
            "576/576 [==============================] - 0s 53us/step - loss: 0.5715 - acc: 0.7604\n",
            "Epoch 94/100\n",
            "576/576 [==============================] - 0s 51us/step - loss: 0.5650 - acc: 0.7812\n",
            "Epoch 95/100\n",
            "576/576 [==============================] - 0s 60us/step - loss: 0.5613 - acc: 0.7847\n",
            "Epoch 96/100\n",
            "576/576 [==============================] - 0s 50us/step - loss: 0.5762 - acc: 0.7622\n",
            "Epoch 97/100\n",
            "576/576 [==============================] - 0s 44us/step - loss: 0.5661 - acc: 0.7812\n",
            "Epoch 98/100\n",
            "576/576 [==============================] - 0s 48us/step - loss: 0.5600 - acc: 0.7812\n",
            "Epoch 99/100\n",
            "576/576 [==============================] - 0s 46us/step - loss: 0.5612 - acc: 0.7847\n",
            "Epoch 100/100\n",
            "576/576 [==============================] - 0s 53us/step - loss: 0.5545 - acc: 0.7951\n"
          ],
          "name": "stdout"
        }
      ]
    },
    {
      "cell_type": "markdown",
      "metadata": {
        "id": "X9NKcUgQqsvn",
        "colab_type": "text"
      },
      "source": [
        "Deep learning model testing and print result"
      ]
    },
    {
      "cell_type": "code",
      "metadata": {
        "id": "FvzntTLCpPyp",
        "colab_type": "code",
        "colab": {
          "base_uri": "https://localhost:8080/",
          "height": 395
        },
        "outputId": "f93d874c-02d7-467e-ad63-edabe0fcac02"
      },
      "source": [
        "print(my_first_nn.summary())\n",
        "print(my_first_nn.evaluate(X_test, Y_test))"
      ],
      "execution_count": 13,
      "outputs": [
        {
          "output_type": "stream",
          "text": [
            "Model: \"sequential_1\"\n",
            "_________________________________________________________________\n",
            "Layer (type)                 Output Shape              Param #   \n",
            "=================================================================\n",
            "dense_1 (Dense)              (None, 20)                180       \n",
            "_________________________________________________________________\n",
            "dense_2 (Dense)              (None, 90)                1890      \n",
            "_________________________________________________________________\n",
            "dense_3 (Dense)              (None, 1)                 91        \n",
            "_________________________________________________________________\n",
            "dense_4 (Dense)              (None, 1)                 2         \n",
            "_________________________________________________________________\n",
            "dense_5 (Dense)              (None, 1)                 2         \n",
            "=================================================================\n",
            "Total params: 2,165\n",
            "Trainable params: 2,165\n",
            "Non-trainable params: 0\n",
            "_________________________________________________________________\n",
            "None\n",
            "192/192 [==============================] - 0s 130us/step\n",
            "[0.6085007439057032, 0.703125]\n"
          ],
          "name": "stdout"
        }
      ]
    }
  ]
}