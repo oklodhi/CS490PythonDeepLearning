{
  "nbformat": 4,
  "nbformat_minor": 0,
  "metadata": {
    "colab": {
      "name": "ICP3_DL_Question1-2.ipynb",
      "provenance": []
    },
    "kernelspec": {
      "name": "python3",
      "display_name": "Python 3"
    }
  },
  "cells": [
    {
      "cell_type": "code",
      "metadata": {
        "id": "mpobgA9WWlsH",
        "colab_type": "code",
        "colab": {}
      },
      "source": [
        "from keras.models import Sequential\n",
        "from keras import layers\n",
        "from keras.preprocessing.text import Tokenizer\n",
        "import pandas as pd\n",
        "from sklearn import preprocessing\n",
        "from sklearn.model_selection import train_test_split\n",
        "\n",
        "import matplotlib.pyplot as plt\n",
        "import numpy as np\n",
        "\n",
        "from keras.layers import Embedding, Flatten"
      ],
      "execution_count": 143,
      "outputs": []
    },
    {
      "cell_type": "code",
      "metadata": {
        "id": "BKC0SCpTWyQQ",
        "colab_type": "code",
        "colab": {}
      },
      "source": [
        "df = pd.read_csv('imdb_master.csv',encoding='latin-1')"
      ],
      "execution_count": 144,
      "outputs": []
    },
    {
      "cell_type": "code",
      "metadata": {
        "id": "GTS5sB3gWzc3",
        "colab_type": "code",
        "colab": {
          "base_uri": "https://localhost:8080/",
          "height": 161
        },
        "outputId": "aed8593d-647b-4148-de5f-b02c6a5cbc07"
      },
      "source": [
        "print(df.head())"
      ],
      "execution_count": 145,
      "outputs": [
        {
          "output_type": "stream",
          "text": [
            "   Unnamed: 0  type  ... label         file\n",
            "0           0  test  ...   neg      0_2.txt\n",
            "1           1  test  ...   neg  10000_4.txt\n",
            "2           2  test  ...   neg  10001_1.txt\n",
            "3           3  test  ...   neg  10002_3.txt\n",
            "4           4  test  ...   neg  10003_3.txt\n",
            "\n",
            "[5 rows x 5 columns]\n"
          ],
          "name": "stdout"
        }
      ]
    },
    {
      "cell_type": "code",
      "metadata": {
        "id": "65X79EhyW_6K",
        "colab_type": "code",
        "colab": {
          "base_uri": "https://localhost:8080/",
          "height": 89
        },
        "outputId": "e8f22765-c6e2-47af-a8dc-32f9f0dbfcf6"
      },
      "source": [
        "df.label.value_counts()"
      ],
      "execution_count": 146,
      "outputs": [
        {
          "output_type": "execute_result",
          "data": {
            "text/plain": [
              "unsup    50000\n",
              "neg      25000\n",
              "pos      25000\n",
              "Name: label, dtype: int64"
            ]
          },
          "metadata": {
            "tags": []
          },
          "execution_count": 146
        }
      ]
    },
    {
      "cell_type": "code",
      "metadata": {
        "id": "JLqoYZvgXA7p",
        "colab_type": "code",
        "colab": {}
      },
      "source": [
        "sentences = df['review'].values\n",
        "y = df['label'].values"
      ],
      "execution_count": 147,
      "outputs": []
    },
    {
      "cell_type": "code",
      "metadata": {
        "id": "ItjkCPinXEIN",
        "colab_type": "code",
        "colab": {}
      },
      "source": [
        "# tokenizing data\n",
        "tokenizer = Tokenizer(num_words=2000)\n",
        "tokenizer.fit_on_texts(sentences)"
      ],
      "execution_count": 148,
      "outputs": []
    },
    {
      "cell_type": "code",
      "metadata": {
        "id": "DFQR2QG8XHmO",
        "colab_type": "code",
        "colab": {}
      },
      "source": [
        "# getting the vocabulary of data\n",
        "sentences = tokenizer.texts_to_matrix(sentences)"
      ],
      "execution_count": 149,
      "outputs": []
    },
    {
      "cell_type": "code",
      "metadata": {
        "id": "PR09hOxBXLU1",
        "colab_type": "code",
        "colab": {}
      },
      "source": [
        "le = preprocessing.LabelEncoder()\n",
        "y = le.fit_transform(y)\n",
        "X_train, X_test, y_train, y_test = train_test_split(sentences, y, test_size=0.25, random_state=1000)"
      ],
      "execution_count": 150,
      "outputs": []
    },
    {
      "cell_type": "code",
      "metadata": {
        "id": "0EajZOTXXSPL",
        "colab_type": "code",
        "colab": {
          "base_uri": "https://localhost:8080/",
          "height": 215
        },
        "outputId": "798d790f-f702-4aef-e222-1b725edd19a0"
      },
      "source": [
        "# Number of features\n",
        "# print(input_dim)\n",
        "model = Sequential()\n",
        "model.add(layers.Dense(300,input_dim=2000, activation='relu'))\n",
        "model.add(layers.Dense(3, activation='softmax'))\n",
        "model.compile(loss='sparse_categorical_crossentropy',optimizer='adam',metrics=['acc'])\n",
        "history=model.fit(X_train,y_train, epochs=5, verbose=True, validation_data=(X_test,y_test), batch_size=256)"
      ],
      "execution_count": 151,
      "outputs": [
        {
          "output_type": "stream",
          "text": [
            "Train on 75000 samples, validate on 25000 samples\n",
            "Epoch 1/5\n",
            "75000/75000 [==============================] - 7s 98us/step - loss: 0.8815 - acc: 0.5033 - val_loss: 0.8419 - val_acc: 0.5120\n",
            "Epoch 2/5\n",
            "75000/75000 [==============================] - 7s 96us/step - loss: 0.7888 - acc: 0.5807 - val_loss: 0.8389 - val_acc: 0.5170\n",
            "Epoch 3/5\n",
            "75000/75000 [==============================] - 7s 97us/step - loss: 0.6855 - acc: 0.6807 - val_loss: 0.8857 - val_acc: 0.5200\n",
            "Epoch 4/5\n",
            "75000/75000 [==============================] - 7s 97us/step - loss: 0.4977 - acc: 0.8147 - val_loss: 0.9744 - val_acc: 0.5148\n",
            "Epoch 5/5\n",
            "75000/75000 [==============================] - 7s 98us/step - loss: 0.2906 - acc: 0.9237 - val_loss: 1.0686 - val_acc: 0.5058\n"
          ],
          "name": "stdout"
        }
      ]
    },
    {
      "cell_type": "code",
      "metadata": {
        "id": "HM60JwSuXaii",
        "colab_type": "code",
        "colab": {
          "base_uri": "https://localhost:8080/",
          "height": 53
        },
        "outputId": "418aaf88-2902-42fa-fa62-4d59f0c63291"
      },
      "source": [
        "[test_loss, test_acc] = model.evaluate(X_test,y_test)\n",
        "print(\"Evaluation result on Test Data : Loss = {}, accuracy = {}\".format(test_loss, test_acc))"
      ],
      "execution_count": 152,
      "outputs": [
        {
          "output_type": "stream",
          "text": [
            "25000/25000 [==============================] - 1s 59us/step\n",
            "Evaluation result on Test Data : Loss = 1.068642297935486, accuracy = 0.5058000087738037\n"
          ],
          "name": "stdout"
        }
      ]
    },
    {
      "cell_type": "code",
      "metadata": {
        "id": "UxE_SmuJXcEq",
        "colab_type": "code",
        "colab": {
          "base_uri": "https://localhost:8080/",
          "height": 313
        },
        "outputId": "6d3bdb58-ed7b-4b94-c67c-2bb7fa4f72b1"
      },
      "source": [
        "# plot the loss and accuracy for both training data and validation data. \n",
        "plt.figure()\n",
        "plt.plot(np.arange(0, 5), history.history[\"val_loss\"], label=\"validation loss\")\n",
        "plt.plot(np.arange(0, 5), history.history[\"val_acc\"], label=\"validation accuracy\")\n",
        "plt.plot(np.arange(0, 5), history.history[\"loss\"], label=\"training Loss\")\n",
        "plt.plot(np.arange(0, 5), history.history[\"acc\"], label=\"training accuracy\")\n",
        "plt.title(\"the loss and accuracy for both training data and validation data\")\n",
        "plt.xlabel(\"Epoch #\")\n",
        "plt.ylabel(\"Loss/Accuracy\")\n",
        "plt.legend(loc=\"best\")"
      ],
      "execution_count": 153,
      "outputs": [
        {
          "output_type": "execute_result",
          "data": {
            "text/plain": [
              "<matplotlib.legend.Legend at 0x7fee28d2a1d0>"
            ]
          },
          "metadata": {
            "tags": []
          },
          "execution_count": 153
        },
        {
          "output_type": "display_data",
          "data": {
            "image/png": "[encoded data removed]",
            "text/plain": [
              "<Figure size 432x288 with 1 Axes>"
            ]
          },
          "metadata": {
            "tags": [],
            "needs_background": "light"
          }
        }
      ]
    },
    {
      "cell_type": "code",
      "metadata": {
        "id": "HT1LtiteXdg0",
        "colab_type": "code",
        "colab": {
          "base_uri": "https://localhost:8080/",
          "height": 53
        },
        "outputId": "75620f06-6e18-437d-e5c5-854ad9f1d90b"
      },
      "source": [
        "predict_classes = model.predict_classes(X_test[[10],:])\n",
        "print(predict_classes[0])\n",
        "print(y_test[10])"
      ],
      "execution_count": 154,
      "outputs": [
        {
          "output_type": "stream",
          "text": [
            "0\n",
            "0\n"
          ],
          "name": "stdout"
        }
      ]
    },
    {
      "cell_type": "code",
      "metadata": {
        "id": "iV5gpW8uXgBo",
        "colab_type": "code",
        "colab": {
          "base_uri": "https://localhost:8080/",
          "height": 53
        },
        "outputId": "138ddbdd-3973-417b-dbaf-8b23ddce8ea1"
      },
      "source": [
        "predict_classes = model.predict_classes(X_test[[5],:])\n",
        "print(predict_classes[0])\n",
        "print(y_test[5])"
      ],
      "execution_count": 156,
      "outputs": [
        {
          "output_type": "stream",
          "text": [
            "2\n",
            "2\n"
          ],
          "name": "stdout"
        }
      ]
    },
    {
      "cell_type": "code",
      "metadata": {
        "id": "S-7gVquDXkw0",
        "colab_type": "code",
        "colab": {
          "base_uri": "https://localhost:8080/",
          "height": 271
        },
        "outputId": "ba9ae3c2-ba90-4649-f7c4-a46a9e6e1f6c"
      },
      "source": [
        "#print(input_dim)\n",
        "model2 = Sequential()\n",
        "model2.add(Embedding(2000, 50, input_length=2000))\n",
        "model2.add(Flatten())\n",
        "model2.add(layers.Dense(300,input_dim=2000, activation='relu'))\n",
        "model2.add(layers.Dense(3,activation='softmax'))\n",
        "\n",
        "model2.compile(loss='sparse_categorical_crossentropy',optimizer='adam',metrics=['acc'])\n",
        "\n",
        "history2=model2.fit(X_train,y_train, epochs=5, verbose=True, validation_data=(X_test,y_test), batch_size=256)"
      ],
      "execution_count": 157,
      "outputs": [
        {
          "output_type": "stream",
          "text": [
            "/usr/local/lib/python3.6/dist-packages/tensorflow/python/framework/indexed_slices.py:434: UserWarning: Converting sparse IndexedSlices to a dense Tensor of unknown shape. This may consume a large amount of memory.\n",
            "  \"Converting sparse IndexedSlices to a dense Tensor of unknown shape. \"\n"
          ],
          "name": "stderr"
        },
        {
          "output_type": "stream",
          "text": [
            "Train on 75000 samples, validate on 25000 samples\n",
            "Epoch 1/5\n",
            "75000/75000 [==============================] - 385s 5ms/step - loss: 0.9651 - acc: 0.4958 - val_loss: 0.8680 - val_acc: 0.5058\n",
            "Epoch 2/5\n",
            "75000/75000 [==============================] - 384s 5ms/step - loss: 0.8368 - acc: 0.5271 - val_loss: 0.8415 - val_acc: 0.5121\n",
            "Epoch 3/5\n",
            "75000/75000 [==============================] - 383s 5ms/step - loss: 0.8105 - acc: 0.5493 - val_loss: 0.8386 - val_acc: 0.5098\n",
            "Epoch 4/5\n",
            "75000/75000 [==============================] - 383s 5ms/step - loss: 0.7915 - acc: 0.5688 - val_loss: 0.8402 - val_acc: 0.5180\n",
            "Epoch 5/5\n",
            "75000/75000 [==============================] - 382s 5ms/step - loss: 0.7702 - acc: 0.5857 - val_loss: 0.8463 - val_acc: 0.5187\n"
          ],
          "name": "stdout"
        }
      ]
    },
    {
      "cell_type": "code",
      "metadata": {
        "id": "ptgrrrxDXluY",
        "colab_type": "code",
        "colab": {
          "base_uri": "https://localhost:8080/",
          "height": 53
        },
        "outputId": "a7893d87-058b-45f3-8ed5-0b5212dbd521"
      },
      "source": [
        "[test_loss, test_acc] = model2.evaluate(X_test, y_test)\n",
        "print(\"Evaluation result on Test Data : Loss = {}, accuracy = {}\".format(test_loss, test_acc))"
      ],
      "execution_count": 158,
      "outputs": [
        {
          "output_type": "stream",
          "text": [
            "25000/25000 [==============================] - 42s 2ms/step\n",
            "Evaluation result on Test Data : Loss = 0.8463134665679931, accuracy = 0.5186799764633179\n"
          ],
          "name": "stdout"
        }
      ]
    },
    {
      "cell_type": "code",
      "metadata": {
        "id": "VDadoti5Xmzy",
        "colab_type": "code",
        "colab": {
          "base_uri": "https://localhost:8080/",
          "height": 313
        },
        "outputId": "bb2bcd0b-0a62-4aa8-d29a-c35fe62978d3"
      },
      "source": [
        "plt.figure()\n",
        "plt.plot(np.arange(0, 5), history2.history[\"val_loss\"], label=\"validation loss\")\n",
        "plt.plot(np.arange(0, 5), history2.history[\"val_acc\"], label=\"validation accuracy\")\n",
        "plt.plot(np.arange(0, 5), history2.history[\"loss\"], label=\"training Loss\")\n",
        "plt.plot(np.arange(0, 5), history2.history[\"acc\"], label=\"training accuracy\")\n",
        "plt.title(\"the loss and accuracy for both training data and validation data\")\n",
        "plt.xlabel(\"Epoch #\")\n",
        "plt.ylabel(\"Loss/Accuracy\")\n",
        "plt.legend(loc=\"best\")"
      ],
      "execution_count": 159,
      "outputs": [
        {
          "output_type": "execute_result",
          "data": {
            "text/plain": [
              "<matplotlib.legend.Legend at 0x7fee28acf4e0>"
            ]
          },
          "metadata": {
            "tags": []
          },
          "execution_count": 159
        },
        {
          "output_type": "display_data",
          "data": {
            "image/png": "[encoded data removed]",
            "text/plain": [
              "<Figure size 432x288 with 1 Axes>"
            ]
          },
          "metadata": {
            "tags": [],
            "needs_background": "light"
          }
        }
      ]
    },
    {
      "cell_type": "code",
      "metadata": {
        "id": "nA8IznJ3XoXY",
        "colab_type": "code",
        "colab": {
          "base_uri": "https://localhost:8080/",
          "height": 53
        },
        "outputId": "2142774c-bdb9-4bd8-be9e-2904d3103c92"
      },
      "source": [
        "predict_classes2 = model2.predict_classes(X_test[[10],:])\n",
        "print(predict_classes2[0])\n",
        "print(y_test[10])"
      ],
      "execution_count": 160,
      "outputs": [
        {
          "output_type": "stream",
          "text": [
            "0\n",
            "0\n"
          ],
          "name": "stdout"
        }
      ]
    }
  ]
}