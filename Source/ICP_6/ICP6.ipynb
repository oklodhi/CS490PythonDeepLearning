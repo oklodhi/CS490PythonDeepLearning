{
  "nbformat": 4,
  "nbformat_minor": 0,
  "metadata": {
    "colab": {
      "name": "ICP6.ipynb",
      "provenance": []
    },
    "kernelspec": {
      "name": "python3",
      "display_name": "Python 3"
    }
  },
  "cells": [
    {
      "cell_type": "markdown",
      "metadata": {
        "id": "kq8WxxTLfUjx",
        "colab_type": "text"
      },
      "source": [
        "Import all the libraries"
      ]
    },
    {
      "cell_type": "code",
      "metadata": {
        "id": "_PtyrnCQe56U",
        "colab_type": "code",
        "colab": {}
      },
      "source": [
        "import numpy as np\n",
        "import matplotlib.pyplot as plt\n",
        "import matplotlib.ticker as tricker\n",
        "import pandas as pd\n",
        "import seaborn as sns\n",
        "from sklearn.cluster import KMeans\n",
        "from sklearn.decomposition import PCA\n",
        "from sklearn.preprocessing import StandardScaler\n",
        "import pylab as pl\n",
        "from sklearn import metrics"
      ],
      "execution_count": 63,
      "outputs": []
    },
    {
      "cell_type": "markdown",
      "metadata": {
        "id": "fPBQ_AdtfWpQ",
        "colab_type": "text"
      },
      "source": [
        "Upload and read the information of the input file"
      ]
    },
    {
      "cell_type": "code",
      "metadata": {
        "id": "EGtM9tstfa4i",
        "colab_type": "code",
        "colab": {
          "base_uri": "https://localhost:8080/",
          "height": 467
        },
        "outputId": "0fdd6a63-e061-42f8-bd6f-909ffb8360c0"
      },
      "source": [
        "file = pd.read_csv('CC.csv')\n",
        "\n",
        "#file.head(10)\n",
        "file.info()"
      ],
      "execution_count": 64,
      "outputs": [
        {
          "output_type": "stream",
          "text": [
            "<class 'pandas.core.frame.DataFrame'>\n",
            "RangeIndex: 8950 entries, 0 to 8949\n",
            "Data columns (total 18 columns):\n",
            " #   Column                            Non-Null Count  Dtype  \n",
            "---  ------                            --------------  -----  \n",
            " 0   CUST_ID                           8950 non-null   object \n",
            " 1   BALANCE                           8950 non-null   float64\n",
            " 2   BALANCE_FREQUENCY                 8950 non-null   float64\n",
            " 3   PURCHASES                         8950 non-null   float64\n",
            " 4   ONEOFF_PURCHASES                  8950 non-null   float64\n",
            " 5   INSTALLMENTS_PURCHASES            8950 non-null   float64\n",
            " 6   CASH_ADVANCE                      8950 non-null   float64\n",
            " 7   PURCHASES_FREQUENCY               8950 non-null   float64\n",
            " 8   ONEOFF_PURCHASES_FREQUENCY        8950 non-null   float64\n",
            " 9   PURCHASES_INSTALLMENTS_FREQUENCY  8950 non-null   float64\n",
            " 10  CASH_ADVANCE_FREQUENCY            8950 non-null   float64\n",
            " 11  CASH_ADVANCE_TRX                  8950 non-null   int64  \n",
            " 12  PURCHASES_TRX                     8950 non-null   int64  \n",
            " 13  CREDIT_LIMIT                      8949 non-null   float64\n",
            " 14  PAYMENTS                          8950 non-null   float64\n",
            " 15  MINIMUM_PAYMENTS                  8637 non-null   float64\n",
            " 16  PRC_FULL_PAYMENT                  8950 non-null   float64\n",
            " 17  TENURE                            8950 non-null   int64  \n",
            "dtypes: float64(14), int64(3), object(1)\n",
            "memory usage: 1.2+ MB\n"
          ],
          "name": "stdout"
        }
      ]
    },
    {
      "cell_type": "markdown",
      "metadata": {
        "id": "r-VwubWSf6L6",
        "colab_type": "text"
      },
      "source": [
        "File desription"
      ]
    },
    {
      "cell_type": "code",
      "metadata": {
        "id": "qlrfa6JEgAJk",
        "colab_type": "code",
        "colab": {
          "base_uri": "https://localhost:8080/",
          "height": 317
        },
        "outputId": "50553743-045c-4a4e-a82f-859fd6352473"
      },
      "source": [
        "file.describe()"
      ],
      "execution_count": 65,
      "outputs": [
        {
          "output_type": "execute_result",
          "data": {
            "text/html": [
              "<div>\n",
              "<style scoped>\n",
              "    .dataframe tbody tr th:only-of-type {\n",
              "        vertical-align: middle;\n",
              "    }\n",
              "\n",
              "    .dataframe tbody tr th {\n",
              "        vertical-align: top;\n",
              "    }\n",
              "\n",
              "    .dataframe thead th {\n",
              "        text-align: right;\n",
              "    }\n",
              "</style>\n",
              "<table border=\"1\" class=\"dataframe\">\n",
              "  <thead>\n",
              "    <tr style=\"text-align: right;\">\n",
              "      <th></th>\n",
              "      <th>BALANCE</th>\n",
              "      <th>BALANCE_FREQUENCY</th>\n",
              "      <th>PURCHASES</th>\n",
              "      <th>ONEOFF_PURCHASES</th>\n",
              "      <th>INSTALLMENTS_PURCHASES</th>\n",
              "      <th>CASH_ADVANCE</th>\n",
              "      <th>PURCHASES_FREQUENCY</th>\n",
              "      <th>ONEOFF_PURCHASES_FREQUENCY</th>\n",
              "      <th>PURCHASES_INSTALLMENTS_FREQUENCY</th>\n",
              "      <th>CASH_ADVANCE_FREQUENCY</th>\n",
              "      <th>CASH_ADVANCE_TRX</th>\n",
              "      <th>PURCHASES_TRX</th>\n",
              "      <th>CREDIT_LIMIT</th>\n",
              "      <th>PAYMENTS</th>\n",
              "      <th>MINIMUM_PAYMENTS</th>\n",
              "      <th>PRC_FULL_PAYMENT</th>\n",
              "      <th>TENURE</th>\n",
              "    </tr>\n",
              "  </thead>\n",
              "  <tbody>\n",
              "    <tr>\n",
              "      <th>count</th>\n",
              "      <td>8950.000000</td>\n",
              "      <td>8950.000000</td>\n",
              "      <td>8950.000000</td>\n",
              "      <td>8950.000000</td>\n",
              "      <td>8950.000000</td>\n",
              "      <td>8950.000000</td>\n",
              "      <td>8950.000000</td>\n",
              "      <td>8950.000000</td>\n",
              "      <td>8950.000000</td>\n",
              "      <td>8950.000000</td>\n",
              "      <td>8950.000000</td>\n",
              "      <td>8950.000000</td>\n",
              "      <td>8949.000000</td>\n",
              "      <td>8950.000000</td>\n",
              "      <td>8637.000000</td>\n",
              "      <td>8950.000000</td>\n",
              "      <td>8950.000000</td>\n",
              "    </tr>\n",
              "    <tr>\n",
              "      <th>mean</th>\n",
              "      <td>1564.474828</td>\n",
              "      <td>0.877271</td>\n",
              "      <td>1003.204834</td>\n",
              "      <td>592.437371</td>\n",
              "      <td>411.067645</td>\n",
              "      <td>978.871112</td>\n",
              "      <td>0.490351</td>\n",
              "      <td>0.202458</td>\n",
              "      <td>0.364437</td>\n",
              "      <td>0.135144</td>\n",
              "      <td>3.248827</td>\n",
              "      <td>14.709832</td>\n",
              "      <td>4494.449450</td>\n",
              "      <td>1733.143852</td>\n",
              "      <td>864.206542</td>\n",
              "      <td>0.153715</td>\n",
              "      <td>11.517318</td>\n",
              "    </tr>\n",
              "    <tr>\n",
              "      <th>std</th>\n",
              "      <td>2081.531879</td>\n",
              "      <td>0.236904</td>\n",
              "      <td>2136.634782</td>\n",
              "      <td>1659.887917</td>\n",
              "      <td>904.338115</td>\n",
              "      <td>2097.163877</td>\n",
              "      <td>0.401371</td>\n",
              "      <td>0.298336</td>\n",
              "      <td>0.397448</td>\n",
              "      <td>0.200121</td>\n",
              "      <td>6.824647</td>\n",
              "      <td>24.857649</td>\n",
              "      <td>3638.815725</td>\n",
              "      <td>2895.063757</td>\n",
              "      <td>2372.446607</td>\n",
              "      <td>0.292499</td>\n",
              "      <td>1.338331</td>\n",
              "    </tr>\n",
              "    <tr>\n",
              "      <th>min</th>\n",
              "      <td>0.000000</td>\n",
              "      <td>0.000000</td>\n",
              "      <td>0.000000</td>\n",
              "      <td>0.000000</td>\n",
              "      <td>0.000000</td>\n",
              "      <td>0.000000</td>\n",
              "      <td>0.000000</td>\n",
              "      <td>0.000000</td>\n",
              "      <td>0.000000</td>\n",
              "      <td>0.000000</td>\n",
              "      <td>0.000000</td>\n",
              "      <td>0.000000</td>\n",
              "      <td>50.000000</td>\n",
              "      <td>0.000000</td>\n",
              "      <td>0.019163</td>\n",
              "      <td>0.000000</td>\n",
              "      <td>6.000000</td>\n",
              "    </tr>\n",
              "    <tr>\n",
              "      <th>25%</th>\n",
              "      <td>128.281915</td>\n",
              "      <td>0.888889</td>\n",
              "      <td>39.635000</td>\n",
              "      <td>0.000000</td>\n",
              "      <td>0.000000</td>\n",
              "      <td>0.000000</td>\n",
              "      <td>0.083333</td>\n",
              "      <td>0.000000</td>\n",
              "      <td>0.000000</td>\n",
              "      <td>0.000000</td>\n",
              "      <td>0.000000</td>\n",
              "      <td>1.000000</td>\n",
              "      <td>1600.000000</td>\n",
              "      <td>383.276166</td>\n",
              "      <td>169.123707</td>\n",
              "      <td>0.000000</td>\n",
              "      <td>12.000000</td>\n",
              "    </tr>\n",
              "    <tr>\n",
              "      <th>50%</th>\n",
              "      <td>873.385231</td>\n",
              "      <td>1.000000</td>\n",
              "      <td>361.280000</td>\n",
              "      <td>38.000000</td>\n",
              "      <td>89.000000</td>\n",
              "      <td>0.000000</td>\n",
              "      <td>0.500000</td>\n",
              "      <td>0.083333</td>\n",
              "      <td>0.166667</td>\n",
              "      <td>0.000000</td>\n",
              "      <td>0.000000</td>\n",
              "      <td>7.000000</td>\n",
              "      <td>3000.000000</td>\n",
              "      <td>856.901546</td>\n",
              "      <td>312.343947</td>\n",
              "      <td>0.000000</td>\n",
              "      <td>12.000000</td>\n",
              "    </tr>\n",
              "    <tr>\n",
              "      <th>75%</th>\n",
              "      <td>2054.140036</td>\n",
              "      <td>1.000000</td>\n",
              "      <td>1110.130000</td>\n",
              "      <td>577.405000</td>\n",
              "      <td>468.637500</td>\n",
              "      <td>1113.821139</td>\n",
              "      <td>0.916667</td>\n",
              "      <td>0.300000</td>\n",
              "      <td>0.750000</td>\n",
              "      <td>0.222222</td>\n",
              "      <td>4.000000</td>\n",
              "      <td>17.000000</td>\n",
              "      <td>6500.000000</td>\n",
              "      <td>1901.134317</td>\n",
              "      <td>825.485459</td>\n",
              "      <td>0.142857</td>\n",
              "      <td>12.000000</td>\n",
              "    </tr>\n",
              "    <tr>\n",
              "      <th>max</th>\n",
              "      <td>19043.138560</td>\n",
              "      <td>1.000000</td>\n",
              "      <td>49039.570000</td>\n",
              "      <td>40761.250000</td>\n",
              "      <td>22500.000000</td>\n",
              "      <td>47137.211760</td>\n",
              "      <td>1.000000</td>\n",
              "      <td>1.000000</td>\n",
              "      <td>1.000000</td>\n",
              "      <td>1.500000</td>\n",
              "      <td>123.000000</td>\n",
              "      <td>358.000000</td>\n",
              "      <td>30000.000000</td>\n",
              "      <td>50721.483360</td>\n",
              "      <td>76406.207520</td>\n",
              "      <td>1.000000</td>\n",
              "      <td>12.000000</td>\n",
              "    </tr>\n",
              "  </tbody>\n",
              "</table>\n",
              "</div>"
            ],
            "text/plain": [
              "            BALANCE  BALANCE_FREQUENCY  ...  PRC_FULL_PAYMENT       TENURE\n",
              "count   8950.000000        8950.000000  ...       8950.000000  8950.000000\n",
              "mean    1564.474828           0.877271  ...          0.153715    11.517318\n",
              "std     2081.531879           0.236904  ...          0.292499     1.338331\n",
              "min        0.000000           0.000000  ...          0.000000     6.000000\n",
              "25%      128.281915           0.888889  ...          0.000000    12.000000\n",
              "50%      873.385231           1.000000  ...          0.000000    12.000000\n",
              "75%     2054.140036           1.000000  ...          0.142857    12.000000\n",
              "max    19043.138560           1.000000  ...          1.000000    12.000000\n",
              "\n",
              "[8 rows x 17 columns]"
            ]
          },
          "metadata": {
            "tags": []
          },
          "execution_count": 65
        }
      ]
    },
    {
      "cell_type": "markdown",
      "metadata": {
        "id": "v5CWZxCsgOyb",
        "colab_type": "text"
      },
      "source": [
        "Check for NULL values (for each category)"
      ]
    },
    {
      "cell_type": "code",
      "metadata": {
        "id": "mpwb9OnsgSD0",
        "colab_type": "code",
        "colab": {
          "base_uri": "https://localhost:8080/",
          "height": 377
        },
        "outputId": "9e6ab815-847e-4e59-d9c9-1c7c58dd8579"
      },
      "source": [
        "filenulls = pd.DataFrame(file.isnull().sum().sort_values(ascending=False))\n",
        "filenulls.columns = ['Nulls: ']\n",
        "filenulls.index.name = 'Features'\n",
        "print(filenulls)"
      ],
      "execution_count": 66,
      "outputs": [
        {
          "output_type": "stream",
          "text": [
            "                                  Nulls: \n",
            "Features                                 \n",
            "MINIMUM_PAYMENTS                      313\n",
            "CREDIT_LIMIT                            1\n",
            "TENURE                                  0\n",
            "PURCHASES_FREQUENCY                     0\n",
            "BALANCE                                 0\n",
            "BALANCE_FREQUENCY                       0\n",
            "PURCHASES                               0\n",
            "ONEOFF_PURCHASES                        0\n",
            "INSTALLMENTS_PURCHASES                  0\n",
            "CASH_ADVANCE                            0\n",
            "ONEOFF_PURCHASES_FREQUENCY              0\n",
            "PRC_FULL_PAYMENT                        0\n",
            "PURCHASES_INSTALLMENTS_FREQUENCY        0\n",
            "CASH_ADVANCE_FREQUENCY                  0\n",
            "CASH_ADVANCE_TRX                        0\n",
            "PURCHASES_TRX                           0\n",
            "PAYMENTS                                0\n",
            "CUST_ID                                 0\n"
          ],
          "name": "stdout"
        }
      ]
    },
    {
      "cell_type": "markdown",
      "metadata": {
        "id": "dxJp3NGZg1oQ",
        "colab_type": "text"
      },
      "source": [
        "Finding the mean values "
      ]
    },
    {
      "cell_type": "code",
      "metadata": {
        "id": "C7W66Uyfg3aG",
        "colab_type": "code",
        "colab": {
          "base_uri": "https://localhost:8080/",
          "height": 341
        },
        "outputId": "3452fa50-a849-40b6-f0f7-12ab95b1b0e7"
      },
      "source": [
        "file.mean()"
      ],
      "execution_count": 67,
      "outputs": [
        {
          "output_type": "execute_result",
          "data": {
            "text/plain": [
              "BALANCE                             1564.474828\n",
              "BALANCE_FREQUENCY                      0.877271\n",
              "PURCHASES                           1003.204834\n",
              "ONEOFF_PURCHASES                     592.437371\n",
              "INSTALLMENTS_PURCHASES               411.067645\n",
              "CASH_ADVANCE                         978.871112\n",
              "PURCHASES_FREQUENCY                    0.490351\n",
              "ONEOFF_PURCHASES_FREQUENCY             0.202458\n",
              "PURCHASES_INSTALLMENTS_FREQUENCY       0.364437\n",
              "CASH_ADVANCE_FREQUENCY                 0.135144\n",
              "CASH_ADVANCE_TRX                       3.248827\n",
              "PURCHASES_TRX                         14.709832\n",
              "CREDIT_LIMIT                        4494.449450\n",
              "PAYMENTS                            1733.143852\n",
              "MINIMUM_PAYMENTS                     864.206542\n",
              "PRC_FULL_PAYMENT                       0.153715\n",
              "TENURE                                11.517318\n",
              "dtype: float64"
            ]
          },
          "metadata": {
            "tags": []
          },
          "execution_count": 67
        }
      ]
    },
    {
      "cell_type": "markdown",
      "metadata": {
        "id": "SHm24bvmg5_0",
        "colab_type": "text"
      },
      "source": [
        "Fill the nulls using the mean value of each category"
      ]
    },
    {
      "cell_type": "code",
      "metadata": {
        "id": "mah4aME1hB0c",
        "colab_type": "code",
        "colab": {}
      },
      "source": [
        "file = file.fillna(file.mean())"
      ],
      "execution_count": 68,
      "outputs": []
    },
    {
      "cell_type": "markdown",
      "metadata": {
        "id": "sBUJEsTmuHcZ",
        "colab_type": "text"
      },
      "source": [
        "Check if nulls had been filled properly"
      ]
    },
    {
      "cell_type": "code",
      "metadata": {
        "id": "ELErWusHt8fB",
        "colab_type": "code",
        "colab": {
          "base_uri": "https://localhost:8080/",
          "height": 379
        },
        "outputId": "2cc9ce52-7e3a-490d-ae0f-ecfc2784c229"
      },
      "source": [
        "file.head(10)"
      ],
      "execution_count": 85,
      "outputs": [
        {
          "output_type": "execute_result",
          "data": {
            "text/html": [
              "<div>\n",
              "<style scoped>\n",
              "    .dataframe tbody tr th:only-of-type {\n",
              "        vertical-align: middle;\n",
              "    }\n",
              "\n",
              "    .dataframe tbody tr th {\n",
              "        vertical-align: top;\n",
              "    }\n",
              "\n",
              "    .dataframe thead th {\n",
              "        text-align: right;\n",
              "    }\n",
              "</style>\n",
              "<table border=\"1\" class=\"dataframe\">\n",
              "  <thead>\n",
              "    <tr style=\"text-align: right;\">\n",
              "      <th></th>\n",
              "      <th>CUST_ID</th>\n",
              "      <th>BALANCE</th>\n",
              "      <th>BALANCE_FREQUENCY</th>\n",
              "      <th>PURCHASES</th>\n",
              "      <th>ONEOFF_PURCHASES</th>\n",
              "      <th>INSTALLMENTS_PURCHASES</th>\n",
              "      <th>CASH_ADVANCE</th>\n",
              "      <th>PURCHASES_FREQUENCY</th>\n",
              "      <th>ONEOFF_PURCHASES_FREQUENCY</th>\n",
              "      <th>PURCHASES_INSTALLMENTS_FREQUENCY</th>\n",
              "      <th>CASH_ADVANCE_FREQUENCY</th>\n",
              "      <th>CASH_ADVANCE_TRX</th>\n",
              "      <th>PURCHASES_TRX</th>\n",
              "      <th>CREDIT_LIMIT</th>\n",
              "      <th>PAYMENTS</th>\n",
              "      <th>MINIMUM_PAYMENTS</th>\n",
              "      <th>PRC_FULL_PAYMENT</th>\n",
              "      <th>TENURE</th>\n",
              "    </tr>\n",
              "  </thead>\n",
              "  <tbody>\n",
              "    <tr>\n",
              "      <th>0</th>\n",
              "      <td>C10001</td>\n",
              "      <td>40.900749</td>\n",
              "      <td>0.818182</td>\n",
              "      <td>95.40</td>\n",
              "      <td>0.00</td>\n",
              "      <td>95.40</td>\n",
              "      <td>0.000000</td>\n",
              "      <td>0.166667</td>\n",
              "      <td>0.000000</td>\n",
              "      <td>0.083333</td>\n",
              "      <td>0.000000</td>\n",
              "      <td>0</td>\n",
              "      <td>2</td>\n",
              "      <td>1000.0</td>\n",
              "      <td>201.802084</td>\n",
              "      <td>139.509787</td>\n",
              "      <td>0.000000</td>\n",
              "      <td>12</td>\n",
              "    </tr>\n",
              "    <tr>\n",
              "      <th>1</th>\n",
              "      <td>C10002</td>\n",
              "      <td>3202.467416</td>\n",
              "      <td>0.909091</td>\n",
              "      <td>0.00</td>\n",
              "      <td>0.00</td>\n",
              "      <td>0.00</td>\n",
              "      <td>6442.945483</td>\n",
              "      <td>0.000000</td>\n",
              "      <td>0.000000</td>\n",
              "      <td>0.000000</td>\n",
              "      <td>0.250000</td>\n",
              "      <td>4</td>\n",
              "      <td>0</td>\n",
              "      <td>7000.0</td>\n",
              "      <td>4103.032597</td>\n",
              "      <td>1072.340217</td>\n",
              "      <td>0.222222</td>\n",
              "      <td>12</td>\n",
              "    </tr>\n",
              "    <tr>\n",
              "      <th>2</th>\n",
              "      <td>C10003</td>\n",
              "      <td>2495.148862</td>\n",
              "      <td>1.000000</td>\n",
              "      <td>773.17</td>\n",
              "      <td>773.17</td>\n",
              "      <td>0.00</td>\n",
              "      <td>0.000000</td>\n",
              "      <td>1.000000</td>\n",
              "      <td>1.000000</td>\n",
              "      <td>0.000000</td>\n",
              "      <td>0.000000</td>\n",
              "      <td>0</td>\n",
              "      <td>12</td>\n",
              "      <td>7500.0</td>\n",
              "      <td>622.066742</td>\n",
              "      <td>627.284787</td>\n",
              "      <td>0.000000</td>\n",
              "      <td>12</td>\n",
              "    </tr>\n",
              "    <tr>\n",
              "      <th>3</th>\n",
              "      <td>C10004</td>\n",
              "      <td>1666.670542</td>\n",
              "      <td>0.636364</td>\n",
              "      <td>1499.00</td>\n",
              "      <td>1499.00</td>\n",
              "      <td>0.00</td>\n",
              "      <td>205.788017</td>\n",
              "      <td>0.083333</td>\n",
              "      <td>0.083333</td>\n",
              "      <td>0.000000</td>\n",
              "      <td>0.083333</td>\n",
              "      <td>1</td>\n",
              "      <td>1</td>\n",
              "      <td>7500.0</td>\n",
              "      <td>0.000000</td>\n",
              "      <td>864.206542</td>\n",
              "      <td>0.000000</td>\n",
              "      <td>12</td>\n",
              "    </tr>\n",
              "    <tr>\n",
              "      <th>4</th>\n",
              "      <td>C10005</td>\n",
              "      <td>817.714335</td>\n",
              "      <td>1.000000</td>\n",
              "      <td>16.00</td>\n",
              "      <td>16.00</td>\n",
              "      <td>0.00</td>\n",
              "      <td>0.000000</td>\n",
              "      <td>0.083333</td>\n",
              "      <td>0.083333</td>\n",
              "      <td>0.000000</td>\n",
              "      <td>0.000000</td>\n",
              "      <td>0</td>\n",
              "      <td>1</td>\n",
              "      <td>1200.0</td>\n",
              "      <td>678.334763</td>\n",
              "      <td>244.791237</td>\n",
              "      <td>0.000000</td>\n",
              "      <td>12</td>\n",
              "    </tr>\n",
              "    <tr>\n",
              "      <th>5</th>\n",
              "      <td>C10006</td>\n",
              "      <td>1809.828751</td>\n",
              "      <td>1.000000</td>\n",
              "      <td>1333.28</td>\n",
              "      <td>0.00</td>\n",
              "      <td>1333.28</td>\n",
              "      <td>0.000000</td>\n",
              "      <td>0.666667</td>\n",
              "      <td>0.000000</td>\n",
              "      <td>0.583333</td>\n",
              "      <td>0.000000</td>\n",
              "      <td>0</td>\n",
              "      <td>8</td>\n",
              "      <td>1800.0</td>\n",
              "      <td>1400.057770</td>\n",
              "      <td>2407.246035</td>\n",
              "      <td>0.000000</td>\n",
              "      <td>12</td>\n",
              "    </tr>\n",
              "    <tr>\n",
              "      <th>6</th>\n",
              "      <td>C10007</td>\n",
              "      <td>627.260806</td>\n",
              "      <td>1.000000</td>\n",
              "      <td>7091.01</td>\n",
              "      <td>6402.63</td>\n",
              "      <td>688.38</td>\n",
              "      <td>0.000000</td>\n",
              "      <td>1.000000</td>\n",
              "      <td>1.000000</td>\n",
              "      <td>1.000000</td>\n",
              "      <td>0.000000</td>\n",
              "      <td>0</td>\n",
              "      <td>64</td>\n",
              "      <td>13500.0</td>\n",
              "      <td>6354.314328</td>\n",
              "      <td>198.065894</td>\n",
              "      <td>1.000000</td>\n",
              "      <td>12</td>\n",
              "    </tr>\n",
              "    <tr>\n",
              "      <th>7</th>\n",
              "      <td>C10008</td>\n",
              "      <td>1823.652743</td>\n",
              "      <td>1.000000</td>\n",
              "      <td>436.20</td>\n",
              "      <td>0.00</td>\n",
              "      <td>436.20</td>\n",
              "      <td>0.000000</td>\n",
              "      <td>1.000000</td>\n",
              "      <td>0.000000</td>\n",
              "      <td>1.000000</td>\n",
              "      <td>0.000000</td>\n",
              "      <td>0</td>\n",
              "      <td>12</td>\n",
              "      <td>2300.0</td>\n",
              "      <td>679.065082</td>\n",
              "      <td>532.033990</td>\n",
              "      <td>0.000000</td>\n",
              "      <td>12</td>\n",
              "    </tr>\n",
              "    <tr>\n",
              "      <th>8</th>\n",
              "      <td>C10009</td>\n",
              "      <td>1014.926473</td>\n",
              "      <td>1.000000</td>\n",
              "      <td>861.49</td>\n",
              "      <td>661.49</td>\n",
              "      <td>200.00</td>\n",
              "      <td>0.000000</td>\n",
              "      <td>0.333333</td>\n",
              "      <td>0.083333</td>\n",
              "      <td>0.250000</td>\n",
              "      <td>0.000000</td>\n",
              "      <td>0</td>\n",
              "      <td>5</td>\n",
              "      <td>7000.0</td>\n",
              "      <td>688.278568</td>\n",
              "      <td>311.963409</td>\n",
              "      <td>0.000000</td>\n",
              "      <td>12</td>\n",
              "    </tr>\n",
              "    <tr>\n",
              "      <th>9</th>\n",
              "      <td>C10010</td>\n",
              "      <td>152.225975</td>\n",
              "      <td>0.545455</td>\n",
              "      <td>1281.60</td>\n",
              "      <td>1281.60</td>\n",
              "      <td>0.00</td>\n",
              "      <td>0.000000</td>\n",
              "      <td>0.166667</td>\n",
              "      <td>0.166667</td>\n",
              "      <td>0.000000</td>\n",
              "      <td>0.000000</td>\n",
              "      <td>0</td>\n",
              "      <td>3</td>\n",
              "      <td>11000.0</td>\n",
              "      <td>1164.770591</td>\n",
              "      <td>100.302262</td>\n",
              "      <td>0.000000</td>\n",
              "      <td>12</td>\n",
              "    </tr>\n",
              "  </tbody>\n",
              "</table>\n",
              "</div>"
            ],
            "text/plain": [
              "  CUST_ID      BALANCE  ...  PRC_FULL_PAYMENT  TENURE\n",
              "0  C10001    40.900749  ...          0.000000      12\n",
              "1  C10002  3202.467416  ...          0.222222      12\n",
              "2  C10003  2495.148862  ...          0.000000      12\n",
              "3  C10004  1666.670542  ...          0.000000      12\n",
              "4  C10005   817.714335  ...          0.000000      12\n",
              "5  C10006  1809.828751  ...          0.000000      12\n",
              "6  C10007   627.260806  ...          1.000000      12\n",
              "7  C10008  1823.652743  ...          0.000000      12\n",
              "8  C10009  1014.926473  ...          0.000000      12\n",
              "9  C10010   152.225975  ...          0.000000      12\n",
              "\n",
              "[10 rows x 18 columns]"
            ]
          },
          "metadata": {
            "tags": []
          },
          "execution_count": 85
        }
      ]
    },
    {
      "cell_type": "markdown",
      "metadata": {
        "id": "bnwZxbPLhHZi",
        "colab_type": "text"
      },
      "source": [
        "Check the nulls again after we filled. All nulls should be 0"
      ]
    },
    {
      "cell_type": "code",
      "metadata": {
        "id": "Y2oNfoV9hPII",
        "colab_type": "code",
        "colab": {
          "base_uri": "https://localhost:8080/",
          "height": 377
        },
        "outputId": "69a32edb-2634-4903-aa14-061ae7220cbb"
      },
      "source": [
        "filenulls = pd.DataFrame(file.isnull().sum().sort_values(ascending=False))\n",
        "filenulls.columns = ['Nulls: ']\n",
        "filenulls.index.name = 'Features'\n",
        "print(filenulls)"
      ],
      "execution_count": 69,
      "outputs": [
        {
          "output_type": "stream",
          "text": [
            "                                  Nulls: \n",
            "Features                                 \n",
            "TENURE                                  0\n",
            "PRC_FULL_PAYMENT                        0\n",
            "BALANCE                                 0\n",
            "BALANCE_FREQUENCY                       0\n",
            "PURCHASES                               0\n",
            "ONEOFF_PURCHASES                        0\n",
            "INSTALLMENTS_PURCHASES                  0\n",
            "CASH_ADVANCE                            0\n",
            "PURCHASES_FREQUENCY                     0\n",
            "ONEOFF_PURCHASES_FREQUENCY              0\n",
            "PURCHASES_INSTALLMENTS_FREQUENCY        0\n",
            "CASH_ADVANCE_FREQUENCY                  0\n",
            "CASH_ADVANCE_TRX                        0\n",
            "PURCHASES_TRX                           0\n",
            "CREDIT_LIMIT                            0\n",
            "PAYMENTS                                0\n",
            "MINIMUM_PAYMENTS                        0\n",
            "CUST_ID                                 0\n"
          ],
          "name": "stdout"
        }
      ]
    },
    {
      "cell_type": "markdown",
      "metadata": {
        "id": "xhPRkoi1hTOm",
        "colab_type": "text"
      },
      "source": [
        "Creating the training model\n",
        "\n",
        "\n",
        "> Using the elbow method, train the model based on the best clusters\n",
        "\n"
      ]
    },
    {
      "cell_type": "code",
      "metadata": {
        "id": "cmtRyftrhVsV",
        "colab_type": "code",
        "colab": {}
      },
      "source": [
        "# categorize the features\n",
        "x = file[['BALANCE' , 'TENURE']].iloc[: , :].values\n",
        "\n",
        "# create a list to keep track of the each line shape thats used in the method\n",
        "somelist = []\n",
        "\n",
        "# train the model\n",
        "# range(0,10) gives float infinity to integer error\n",
        "for i in range(1,11):\n",
        "  # create the model\n",
        "  model = KMeans(n_clusters=i, random_state=0)\n",
        "  \n",
        "  # fit the model to dataset\n",
        "  model.fit(x)\n",
        "\n",
        "  # append the clusters accordingly\n",
        "  somelist.append(model.inertia_)"
      ],
      "execution_count": 70,
      "outputs": []
    },
    {
      "cell_type": "markdown",
      "metadata": {
        "id": "VQs79DRgieOM",
        "colab_type": "text"
      },
      "source": [
        "Visualization of the modelling result"
      ]
    },
    {
      "cell_type": "code",
      "metadata": {
        "id": "ZKO7k8vqiehe",
        "colab_type": "code",
        "colab": {
          "base_uri": "https://localhost:8080/",
          "height": 295
        },
        "outputId": "7af2eaa9-e9cb-476e-b2ec-09956dbeaea1"
      },
      "source": [
        "plt.title('K-Means using Elbow Method')\n",
        "plt.plot(range(1, 11), somelist, marker='o')\n",
        "plt.xlabel('Clusters')\n",
        "plt.ylabel('Sum of squared distances', fontsize = 14)\n",
        "plt.show()"
      ],
      "execution_count": 71,
      "outputs": [
        {
          "output_type": "display_data",
          "data": {
            "image/png": "[encoded data removed]",
            "text/plain": [
              "<Figure size 432x288 with 1 Axes>"
            ]
          },
          "metadata": {
            "tags": [],
            "needs_background": "light"
          }
        }
      ]
    },
    {
      "cell_type": "markdown",
      "metadata": {
        "id": "4RSXE76qkBwN",
        "colab_type": "text"
      },
      "source": [
        "What does this result mean?\n",
        "\n",
        "> We can see that K=2 is the best number of clusters. So we can train our model using 2 clusters to catergorize the groups. \n",
        "\n"
      ]
    },
    {
      "cell_type": "code",
      "metadata": {
        "id": "2D0n1NvUkF8V",
        "colab_type": "code",
        "colab": {
          "base_uri": "https://localhost:8080/",
          "height": 35
        },
        "outputId": "5d77d015-49c4-4675-a678-c110c8da36c8"
      },
      "source": [
        "# creating a new model with 2 clusters\n",
        "newmodel = KMeans(n_clusters=2,init='k-means++')\n",
        "\n",
        "# train the model\n",
        "newmodel.fit(x)\n",
        "\n",
        "# prediction the function with our new model\n",
        "yprediction = newmodel.predict(x)\n",
        "\n",
        "# finding the L2 score of the model\n",
        "score = metrics.silhouette_score(x, yprediction)\n",
        "print('Score: ', score)"
      ],
      "execution_count": 72,
      "outputs": [
        {
          "output_type": "stream",
          "text": [
            "Score:  0.7403025787638986\n"
          ],
          "name": "stdout"
        }
      ]
    },
    {
      "cell_type": "markdown",
      "metadata": {
        "id": "LwV6Yy3Sk3Wa",
        "colab_type": "text"
      },
      "source": [
        "More visualizations"
      ]
    },
    {
      "cell_type": "code",
      "metadata": {
        "id": "5sVybhgHk7FG",
        "colab_type": "code",
        "colab": {
          "base_uri": "https://localhost:8080/",
          "height": 295
        },
        "outputId": "6ba885f5-53d3-41eb-e8bc-fa7303fd2cd0"
      },
      "source": [
        "## Using a scatter plot\n",
        "\n",
        "plt.figure()\n",
        "\n",
        "plt.scatter(x[yprediction == 0, 0], x[yprediction == 0, 1], s = 100, c = 'green', label = 'Cluster 1')\n",
        "plt.scatter(x[yprediction == 1, 0], x[yprediction == 1, 1], s = 100, c = 'yellow', label = 'Cluster 2')\n",
        "\n",
        "# show the centroid of each application group in the figure\n",
        "plt.scatter(newmodel.cluster_centers_[:, 0], newmodel.cluster_centers_[:, 1], s = 100, label = 'Centroids')\n",
        "\n",
        "# To create labels and title for our figure\n",
        "plt.title('Clusters')\n",
        "plt.xlabel('Balance')\n",
        "plt.ylabel('Tenure')\n",
        "plt.legend()\n",
        "plt.show()"
      ],
      "execution_count": 73,
      "outputs": [
        {
          "output_type": "display_data",
          "data": {
            "image/png": "[encoded data removed]",
            "text/plain": [
              "<Figure size 432x288 with 1 Axes>"
            ]
          },
          "metadata": {
            "tags": [],
            "needs_background": "light"
          }
        }
      ]
    },
    {
      "cell_type": "markdown",
      "metadata": {
        "id": "dr_It7OLmQjs",
        "colab_type": "text"
      },
      "source": [
        "Fitting dataframe to standard scale"
      ]
    },
    {
      "cell_type": "code",
      "metadata": {
        "id": "jtD4-nc8lg_e",
        "colab_type": "code",
        "colab": {
          "base_uri": "https://localhost:8080/",
          "height": 269
        },
        "outputId": "40ea5790-f917-425b-b2d8-107ebe88c5cd"
      },
      "source": [
        "scale = file.iloc[:,1:]\n",
        "\n",
        "standardscaler = StandardScaler()\n",
        "\n",
        "standardscaler.fit(scale)\n",
        "scale = standardscaler.transform(scale)\n",
        "pca = PCA(2)\n",
        "filepca = pca.fit_transform(scale)\n",
        "\n",
        "df = pd.DataFrame(data=filepca)\n",
        "finaldf = pd.concat([df,file[['BALANCE','TENURE']]],axis=1)\n",
        "print(finaldf)"
      ],
      "execution_count": 74,
      "outputs": [
        {
          "output_type": "stream",
          "text": [
            "             0         1      BALANCE  TENURE\n",
            "0    -1.682220 -1.076446    40.900749      12\n",
            "1    -1.138295  2.506480  3202.467416      12\n",
            "2     0.969678 -0.383572  2495.148862      12\n",
            "3    -0.873623  0.043207  1666.670542      12\n",
            "4    -1.599435 -0.688589   817.714335      12\n",
            "...        ...       ...          ...     ...\n",
            "8945 -0.359628 -2.016134    28.493517       6\n",
            "8946 -0.564366 -1.639096    19.183215       6\n",
            "8947 -0.926202 -1.810773    23.398673       6\n",
            "8948 -2.336551 -0.657965    13.457564       6\n",
            "8949 -0.556426 -0.400507   372.708075       6\n",
            "\n",
            "[8950 rows x 4 columns]\n"
          ],
          "name": "stdout"
        }
      ]
    },
    {
      "cell_type": "markdown",
      "metadata": {
        "id": "0qSMu-kymM3S",
        "colab_type": "text"
      },
      "source": [
        "Final dataframe info"
      ]
    },
    {
      "cell_type": "code",
      "metadata": {
        "id": "DCkAlIutmOyn",
        "colab_type": "code",
        "colab": {
          "base_uri": "https://localhost:8080/",
          "height": 215
        },
        "outputId": "93770e99-5ab6-486a-b597-3b1f97ee7888"
      },
      "source": [
        "finaldf.info()"
      ],
      "execution_count": 75,
      "outputs": [
        {
          "output_type": "stream",
          "text": [
            "<class 'pandas.core.frame.DataFrame'>\n",
            "RangeIndex: 8950 entries, 0 to 8949\n",
            "Data columns (total 4 columns):\n",
            " #   Column   Non-Null Count  Dtype  \n",
            "---  ------   --------------  -----  \n",
            " 0   0        8950 non-null   float64\n",
            " 1   1        8950 non-null   float64\n",
            " 2   BALANCE  8950 non-null   float64\n",
            " 3   TENURE   8950 non-null   int64  \n",
            "dtypes: float64(3), int64(1)\n",
            "memory usage: 279.8 KB\n"
          ],
          "name": "stdout"
        }
      ]
    },
    {
      "cell_type": "markdown",
      "metadata": {
        "id": "UUmgOGr5maPK",
        "colab_type": "text"
      },
      "source": [
        "Check for the null values in the final dataframe file"
      ]
    },
    {
      "cell_type": "code",
      "metadata": {
        "id": "MwleVGa4mdEF",
        "colab_type": "code",
        "colab": {
          "base_uri": "https://localhost:8080/",
          "height": 125
        },
        "outputId": "37b1ef30-ee80-49e0-95ae-f59db2076951"
      },
      "source": [
        "finalnull = pd.DataFrame(finaldf.isnull().sum().sort_values(ascending=False))\n",
        "finalnull.columns = ['Null']\n",
        "finalnull.index.name = 'Features'\n",
        "print(finalnull)"
      ],
      "execution_count": 76,
      "outputs": [
        {
          "output_type": "stream",
          "text": [
            "          Null\n",
            "Features      \n",
            "TENURE       0\n",
            "BALANCE      0\n",
            "1            0\n",
            "0            0\n"
          ],
          "name": "stdout"
        }
      ]
    },
    {
      "cell_type": "markdown",
      "metadata": {
        "id": "aoXjoyiunGF4",
        "colab_type": "text"
      },
      "source": [
        "Print the final mean of the dataframe"
      ]
    },
    {
      "cell_type": "code",
      "metadata": {
        "id": "YjnYbOynmevB",
        "colab_type": "code",
        "colab": {
          "base_uri": "https://localhost:8080/",
          "height": 107
        },
        "outputId": "0ee573a6-103f-4dae-bb49-f09c5882d758"
      },
      "source": [
        "finaldf.mean()"
      ],
      "execution_count": 77,
      "outputs": [
        {
          "output_type": "execute_result",
          "data": {
            "text/plain": [
              "0         -4.630064e-16\n",
              "1         -1.582967e-16\n",
              "BALANCE    1.564475e+03\n",
              "TENURE     1.151732e+01\n",
              "dtype: float64"
            ]
          },
          "metadata": {
            "tags": []
          },
          "execution_count": 77
        }
      ]
    },
    {
      "cell_type": "markdown",
      "metadata": {
        "id": "5ef6t69Bm8fU",
        "colab_type": "text"
      },
      "source": [
        "Fill the null values, if there are any"
      ]
    },
    {
      "cell_type": "code",
      "metadata": {
        "id": "uul4VTzxmgTZ",
        "colab_type": "code",
        "colab": {}
      },
      "source": [
        "finaldf = finaldf.fillna(finaldf.mean())"
      ],
      "execution_count": 78,
      "outputs": []
    },
    {
      "cell_type": "markdown",
      "metadata": {
        "id": "8kfLIzwZnJ0i",
        "colab_type": "text"
      },
      "source": [
        "Print the final dataframe data info"
      ]
    },
    {
      "cell_type": "code",
      "metadata": {
        "id": "lr0TqE9VmhwJ",
        "colab_type": "code",
        "colab": {
          "base_uri": "https://localhost:8080/",
          "height": 215
        },
        "outputId": "685fef7b-65c6-4741-a9b1-95dcdc42436a"
      },
      "source": [
        "finaldf.info()"
      ],
      "execution_count": 79,
      "outputs": [
        {
          "output_type": "stream",
          "text": [
            "<class 'pandas.core.frame.DataFrame'>\n",
            "RangeIndex: 8950 entries, 0 to 8949\n",
            "Data columns (total 4 columns):\n",
            " #   Column   Non-Null Count  Dtype  \n",
            "---  ------   --------------  -----  \n",
            " 0   0        8950 non-null   float64\n",
            " 1   1        8950 non-null   float64\n",
            " 2   BALANCE  8950 non-null   float64\n",
            " 3   TENURE   8950 non-null   int64  \n",
            "dtypes: float64(3), int64(1)\n",
            "memory usage: 279.8 KB\n"
          ],
          "name": "stdout"
        }
      ]
    },
    {
      "cell_type": "markdown",
      "metadata": {
        "id": "yGym5sZtnMni",
        "colab_type": "text"
      },
      "source": [
        "Make another elbow model and print the score"
      ]
    },
    {
      "cell_type": "code",
      "metadata": {
        "id": "ovdN5By4mjm3",
        "colab_type": "code",
        "colab": {
          "base_uri": "https://localhost:8080/",
          "height": 35
        },
        "outputId": "a7558649-467e-4d28-e894-28dfe1592aef"
      },
      "source": [
        "finalmodel = KMeans(n_clusters=2,init='k-means++')\n",
        "\n",
        "# training our model with cluster size 2\n",
        "finalmodel.fit(finaldf)\n",
        "\n",
        "# predicting and evaluating the model score\n",
        "yfinalprediction = finalmodel.predict(finaldf)\n",
        "\n",
        "\n",
        "finalmodelscore = metrics.silhouette_score(finaldf, yfinalprediction)\n",
        "print('Score: ', finalmodelscore)"
      ],
      "execution_count": 80,
      "outputs": [
        {
          "output_type": "stream",
          "text": [
            "Score:  0.7402976080556245\n"
          ],
          "name": "stdout"
        }
      ]
    },
    {
      "cell_type": "markdown",
      "metadata": {
        "id": "2AKiH0YMn9hX",
        "colab_type": "text"
      },
      "source": [
        "Fit the data to the model"
      ]
    },
    {
      "cell_type": "code",
      "metadata": {
        "id": "V52CmqJBml0-",
        "colab_type": "code",
        "colab": {}
      },
      "source": [
        "finalx = finaldf[['BALANCE' , 'TENURE']].iloc[: , :].values\n",
        "\n",
        "# keep track of the shapes used while implementing elbow method\n",
        "\n",
        "finallist = []\n",
        "\n",
        "# train the model \n",
        "for i in range(1, 11):\n",
        "    \n",
        "    # create a new model object\n",
        "    model = KMeans(n_clusters=i, random_state=0)\n",
        "\n",
        "    # fit according to the data\n",
        "    model.fit(finalx)\n",
        "\n",
        "    # append each one to the list created above\n",
        "    finallist.append(model.inertia_)"
      ],
      "execution_count": 81,
      "outputs": []
    },
    {
      "cell_type": "markdown",
      "metadata": {
        "id": "hy-Zgd8WoO9F",
        "colab_type": "text"
      },
      "source": [
        "Visualize the final model"
      ]
    },
    {
      "cell_type": "code",
      "metadata": {
        "id": "Bq37AbUdoRAj",
        "colab_type": "code",
        "colab": {
          "base_uri": "https://localhost:8080/",
          "height": 295
        },
        "outputId": "62e0ef3d-b28f-43f6-81e9-04f2321fc9d5"
      },
      "source": [
        "plt.title('K-Means (Elbow Method)')\n",
        "plt.plot(range(1, 11), finallist, 'c', marker='o')\n",
        "plt.xlabel('Clusters')\n",
        "plt.ylabel('Sum of squared distances')\n",
        "plt.show()"
      ],
      "execution_count": 82,
      "outputs": [
        {
          "output_type": "display_data",
          "data": {
            "image/png": "[encoded data removed]",
            "text/plain": [
              "<Figure size 432x288 with 1 Axes>"
            ]
          },
          "metadata": {
            "tags": [],
            "needs_background": "light"
          }
        }
      ]
    },
    {
      "cell_type": "markdown",
      "metadata": {
        "id": "BcA55EZQoppH",
        "colab_type": "text"
      },
      "source": [
        "Result of final elbow method"
      ]
    },
    {
      "cell_type": "code",
      "metadata": {
        "id": "LY_aV4LVmnXw",
        "colab_type": "code",
        "colab": {
          "base_uri": "https://localhost:8080/",
          "height": 35
        },
        "outputId": "a2ee2bf9-ab4a-419c-f0a0-b4306fe4b433"
      },
      "source": [
        "finalmodel2 = KMeans(n_clusters=2,init='k-means++')\n",
        "\n",
        "# training our model with cluster size 2\n",
        "finalmodel2.fit(finalx)\n",
        "\n",
        "# predicting and evaluating the model score\n",
        "yfinalprediction2 = finalmodel2.predict(finalx)\n",
        "\n",
        "finalmodelscore2 = metrics.silhouette_score(finalx, yfinalprediction2)\n",
        "print('Score: ', finalmodelscore2)"
      ],
      "execution_count": 83,
      "outputs": [
        {
          "output_type": "stream",
          "text": [
            "Score:  0.7403025787638986\n"
          ],
          "name": "stdout"
        }
      ]
    },
    {
      "cell_type": "code",
      "metadata": {
        "id": "TDxbYa6LmpGV",
        "colab_type": "code",
        "colab": {
          "base_uri": "https://localhost:8080/",
          "height": 295
        },
        "outputId": "14871054-9d48-4ca3-f78e-a7966c50cce8"
      },
      "source": [
        "plt.figure()\n",
        "\n",
        "plt.scatter(finalx[yfinalprediction2 == 0, 0], finalx[yfinalprediction2 == 0, 1], s = 100, c = 'green', label = 'Cluster 1')\n",
        "plt.scatter(finalx[yfinalprediction2 == 1, 0], finalx[yfinalprediction2 == 1, 1], s = 100, c = 'yellow', label = 'Cluster 2')\n",
        "\n",
        "#o show the centroid of each application group in the figure\n",
        "plt.scatter(finalmodel2.cluster_centers_[:, 0], finalmodel2.cluster_centers_[:, 1], s = 100, label = 'Centroids')\n",
        "\n",
        "# To create labels and title for our figure\n",
        "plt.title('Clusters')\n",
        "plt.xlabel('Balance')\n",
        "plt.ylabel('Tenure')\n",
        "plt.legend()\n",
        "plt.show()"
      ],
      "execution_count": 84,
      "outputs": [
        {
          "output_type": "display_data",
          "data": {
            "image/png": "[encoded data removed]",
            "text/plain": [
              "<Figure size 432x288 with 1 Axes>"
            ]
          },
          "metadata": {
            "tags": [],
            "needs_background": "light"
          }
        }
      ]
    }
  ]
}