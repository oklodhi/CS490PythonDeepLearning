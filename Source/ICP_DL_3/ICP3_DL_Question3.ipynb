{
  "nbformat": 4,
  "nbformat_minor": 0,
  "metadata": {
    "colab": {
      "name": "ICP3_DL_Question3.ipynb",
      "provenance": []
    },
    "kernelspec": {
      "name": "python3",
      "display_name": "Python 3"
    }
  },
  "cells": [
    {
      "cell_type": "code",
      "metadata": {
        "id": "WBCXd-q6ansN",
        "colab_type": "code",
        "colab": {}
      },
      "source": [
        "from sklearn.datasets import fetch_20newsgroups\n",
        "from keras.models import Sequential\n",
        "from keras import layers\n",
        "from keras.preprocessing.text import Tokenizer\n",
        "import pandas as pd\n",
        "from sklearn import preprocessing\n",
        "from sklearn.model_selection import train_test_split\n",
        "from sklearn.feature_extraction.text import CountVectorizer, TfidfVectorizer\n",
        "from sklearn.feature_extraction.text import TfidfTransformer\n",
        "from sklearn import metrics\n",
        "from sklearn.pipeline import Pipeline\n",
        "from sklearn.naive_bayes import MultinomialNB\n",
        "\n",
        "import numpy as np\n",
        "import matplotlib.pyplot as plt\n",
        "from keras.layers import Embedding, Flatten"
      ],
      "execution_count": 14,
      "outputs": []
    },
    {
      "cell_type": "code",
      "metadata": {
        "id": "qIK6bViFavS-",
        "colab_type": "code",
        "colab": {}
      },
      "source": [
        "# fetch the data\n",
        "twenty_train = fetch_20newsgroups(subset='train', shuffle=True)"
      ],
      "execution_count": 15,
      "outputs": []
    },
    {
      "cell_type": "code",
      "metadata": {
        "id": "b-cPK2MyawMl",
        "colab_type": "code",
        "colab": {}
      },
      "source": [
        "y = twenty_train.target"
      ],
      "execution_count": 16,
      "outputs": []
    },
    {
      "cell_type": "code",
      "metadata": {
        "id": "M-ichXi_axKY",
        "colab_type": "code",
        "colab": {}
      },
      "source": [
        "sentences = twenty_train.data"
      ],
      "execution_count": 17,
      "outputs": []
    },
    {
      "cell_type": "code",
      "metadata": {
        "id": "OC1ece5-a0CT",
        "colab_type": "code",
        "colab": {}
      },
      "source": [
        "# Tokenize the sentences into words we set up the number of words to be 2000\n",
        "tokenizer = Tokenizer(num_words=2000)\n",
        "tokenizer.fit_on_texts(sentences)"
      ],
      "execution_count": 18,
      "outputs": []
    },
    {
      "cell_type": "code",
      "metadata": {
        "id": "5Ia_vsxWa09H",
        "colab_type": "code",
        "colab": {}
      },
      "source": [
        "sentences = tokenizer.texts_to_matrix(sentences)"
      ],
      "execution_count": 19,
      "outputs": []
    },
    {
      "cell_type": "code",
      "metadata": {
        "id": "CiPt-n8Ha15U",
        "colab_type": "code",
        "colab": {}
      },
      "source": [
        "# encode and process our data labels\n",
        "le = preprocessing.LabelEncoder()\n",
        "y = le.fit_transform(y)"
      ],
      "execution_count": 20,
      "outputs": []
    },
    {
      "cell_type": "code",
      "metadata": {
        "id": "I1vDNkAja27l",
        "colab_type": "code",
        "colab": {}
      },
      "source": [
        "X_train, X_test, y_train, y_test = train_test_split(sentences, y, test_size=0.25, random_state=1000)"
      ],
      "execution_count": 21,
      "outputs": []
    },
    {
      "cell_type": "code",
      "metadata": {
        "id": "_a_BAlX-a4j9",
        "colab_type": "code",
        "colab": {
          "base_uri": "https://localhost:8080/",
          "height": 395
        },
        "outputId": "6d1db32f-2704-4ce2-9532-4a8028613928"
      },
      "source": [
        "# First we create layers of size 2000 for input layer and 128 for the hidden layer and 20 for the output we set the epochs to 50\n",
        "model = Sequential()\n",
        "model.add(layers.Dense(128,input_dim=2000, activation='relu'))\n",
        "model.add(layers.Dense(20, activation='softmax'))\n",
        "model.compile(loss='sparse_categorical_crossentropy',optimizer='adam',metrics=['acc'])\n",
        "history1=model.fit(X_train,y_train, epochs=10, verbose=True, validation_data=(X_test,y_test), batch_size=256)"
      ],
      "execution_count": 22,
      "outputs": [
        {
          "output_type": "stream",
          "text": [
            "Train on 8485 samples, validate on 2829 samples\n",
            "Epoch 1/10\n",
            "8485/8485 [==============================] - 1s 65us/step - loss: 2.4696 - acc: 0.3776 - val_loss: 1.7390 - val_acc: 0.6610\n",
            "Epoch 2/10\n",
            "8485/8485 [==============================] - 0s 56us/step - loss: 1.2533 - acc: 0.7769 - val_loss: 1.0681 - val_acc: 0.7731\n",
            "Epoch 3/10\n",
            "8485/8485 [==============================] - 0s 56us/step - loss: 0.7624 - acc: 0.8625 - val_loss: 0.8331 - val_acc: 0.8035\n",
            "Epoch 4/10\n",
            "8485/8485 [==============================] - 0s 56us/step - loss: 0.5469 - acc: 0.8997 - val_loss: 0.7149 - val_acc: 0.8240\n",
            "Epoch 5/10\n",
            "8485/8485 [==============================] - 0s 58us/step - loss: 0.4183 - acc: 0.9250 - val_loss: 0.6526 - val_acc: 0.8307\n",
            "Epoch 6/10\n",
            "8485/8485 [==============================] - 0s 58us/step - loss: 0.3329 - acc: 0.9445 - val_loss: 0.6132 - val_acc: 0.8353\n",
            "Epoch 7/10\n",
            "8485/8485 [==============================] - 0s 58us/step - loss: 0.2698 - acc: 0.9582 - val_loss: 0.5947 - val_acc: 0.8353\n",
            "Epoch 8/10\n",
            "8485/8485 [==============================] - 1s 60us/step - loss: 0.2219 - acc: 0.9683 - val_loss: 0.5768 - val_acc: 0.8360\n",
            "Epoch 9/10\n",
            "8485/8485 [==============================] - 0s 56us/step - loss: 0.1840 - acc: 0.9768 - val_loss: 0.5628 - val_acc: 0.8360\n",
            "Epoch 10/10\n",
            "8485/8485 [==============================] - 0s 57us/step - loss: 0.1548 - acc: 0.9824 - val_loss: 0.5577 - val_acc: 0.8399\n"
          ],
          "name": "stdout"
        }
      ]
    },
    {
      "cell_type": "code",
      "metadata": {
        "id": "Eo1AaBM6a6Up",
        "colab_type": "code",
        "colab": {
          "base_uri": "https://localhost:8080/",
          "height": 53
        },
        "outputId": "642cf8a8-42e3-4e94-f15e-9903a9fb484d"
      },
      "source": [
        "# Evaluation result on Test Data\n",
        "[test_loss, test_acc] = model.evaluate(X_test,y_test)\n",
        "print(\"Evaluation result on Test Data : Loss = {}, accuracy = {}\".format(test_loss, test_acc))"
      ],
      "execution_count": 23,
      "outputs": [
        {
          "output_type": "stream",
          "text": [
            "2829/2829 [==============================] - 0s 44us/step\n",
            "Evaluation result on Test Data : Loss = 0.5577138798023628, accuracy = 0.8398727178573608\n"
          ],
          "name": "stdout"
        }
      ]
    },
    {
      "cell_type": "code",
      "metadata": {
        "id": "z5kt-emJa70J",
        "colab_type": "code",
        "colab": {
          "base_uri": "https://localhost:8080/",
          "height": 53
        },
        "outputId": "941abfd2-da62-4e0f-f3f7-057211fb993f"
      },
      "source": [
        "predict_classe = model.predict_classes(X_test[[1000],:])\n",
        "print(predict_classe[0])\n",
        "print(y_test[1000])"
      ],
      "execution_count": 24,
      "outputs": [
        {
          "output_type": "stream",
          "text": [
            "19\n",
            "19\n"
          ],
          "name": "stdout"
        }
      ]
    },
    {
      "cell_type": "code",
      "metadata": {
        "id": "imc6xqf9a-rk",
        "colab_type": "code",
        "colab": {
          "base_uri": "https://localhost:8080/",
          "height": 313
        },
        "outputId": "386cb203-1b56-40af-d3b4-9d05e5e39c32"
      },
      "source": [
        "# plot the loss and accuracy for both training data and validation data. \n",
        "plt.figure()\n",
        "plt.plot(np.arange(0, 10), history1.history[\"val_loss\"], label=\"validation loss\")\n",
        "plt.plot(np.arange(0, 10), history1.history[\"val_acc\"], label=\"validation accuracy\")\n",
        "plt.plot(np.arange(0, 10), history1.history[\"loss\"], label=\"training Loss\")\n",
        "plt.plot(np.arange(0, 10), history1.history[\"acc\"], label=\"training accuracy\")\n",
        "plt.title(\"the loss and accuracy for both training data and validation data\")\n",
        "plt.xlabel(\"Epoch #\")\n",
        "plt.ylabel(\"Loss/Accuracy\")\n",
        "plt.legend(loc=\"best\")"
      ],
      "execution_count": 25,
      "outputs": [
        {
          "output_type": "execute_result",
          "data": {
            "text/plain": [
              "<matplotlib.legend.Legend at 0x7f772c4c76a0>"
            ]
          },
          "metadata": {
            "tags": []
          },
          "execution_count": 25
        },
        {
          "output_type": "display_data",
          "data": {
            "image/png": "[encoded data removed]",
            "text/plain": [
              "<Figure size 432x288 with 1 Axes>"
            ]
          },
          "metadata": {
            "tags": [],
            "needs_background": "light"
          }
        }
      ]
    },
    {
      "cell_type": "code",
      "metadata": {
        "id": "c0B0ru_rbC7g",
        "colab_type": "code",
        "colab": {}
      },
      "source": [
        "# add embedding layer with flatten\n",
        "model2 = Sequential()\n",
        "model2.add(Embedding(2000, 50, input_length=2000))\n",
        "model2.add(Flatten())\n",
        "model2.add(layers.Dense(128,input_dim=2000, activation='relu'))\n",
        "model2.add(layers.Dense(20,activation='softmax'))"
      ],
      "execution_count": 26,
      "outputs": []
    },
    {
      "cell_type": "code",
      "metadata": {
        "id": "-FMJRaH0bFqA",
        "colab_type": "code",
        "colab": {}
      },
      "source": [
        "model2.compile(loss='sparse_categorical_crossentropy',optimizer='adam',metrics=['acc'])"
      ],
      "execution_count": 27,
      "outputs": []
    },
    {
      "cell_type": "code",
      "metadata": {
        "id": "cKU04dJbbF7u",
        "colab_type": "code",
        "colab": {
          "base_uri": "https://localhost:8080/",
          "height": 451
        },
        "outputId": "feba332e-62f6-4418-b0d9-f002d1de0172"
      },
      "source": [
        "history2=model2.fit(X_train,y_train, epochs=10, verbose=True, validation_data=(X_test,y_test), batch_size=256)"
      ],
      "execution_count": 28,
      "outputs": [
        {
          "output_type": "stream",
          "text": [
            "/usr/local/lib/python3.6/dist-packages/tensorflow/python/framework/indexed_slices.py:434: UserWarning: Converting sparse IndexedSlices to a dense Tensor of unknown shape. This may consume a large amount of memory.\n",
            "  \"Converting sparse IndexedSlices to a dense Tensor of unknown shape. \"\n"
          ],
          "name": "stderr"
        },
        {
          "output_type": "stream",
          "text": [
            "Train on 8485 samples, validate on 2829 samples\n",
            "Epoch 1/10\n",
            "8485/8485 [==============================] - 22s 3ms/step - loss: 3.2143 - acc: 0.0707 - val_loss: 2.9481 - val_acc: 0.0753\n",
            "Epoch 2/10\n",
            "8485/8485 [==============================] - 21s 3ms/step - loss: 2.8545 - acc: 0.1465 - val_loss: 2.7350 - val_acc: 0.1891\n",
            "Epoch 3/10\n",
            "8485/8485 [==============================] - 21s 3ms/step - loss: 2.4217 - acc: 0.3586 - val_loss: 2.1268 - val_acc: 0.4295\n",
            "Epoch 4/10\n",
            "8485/8485 [==============================] - 21s 3ms/step - loss: 1.6561 - acc: 0.5821 - val_loss: 1.4653 - val_acc: 0.5938\n",
            "Epoch 5/10\n",
            "8485/8485 [==============================] - 21s 2ms/step - loss: 1.0756 - acc: 0.7242 - val_loss: 1.0960 - val_acc: 0.6967\n",
            "Epoch 6/10\n",
            "8485/8485 [==============================] - 21s 2ms/step - loss: 0.7439 - acc: 0.8037 - val_loss: 0.8784 - val_acc: 0.7522\n",
            "Epoch 7/10\n",
            "8485/8485 [==============================] - 21s 3ms/step - loss: 0.5358 - acc: 0.8653 - val_loss: 0.7989 - val_acc: 0.7663\n",
            "Epoch 8/10\n",
            "8485/8485 [==============================] - 21s 2ms/step - loss: 0.4058 - acc: 0.8996 - val_loss: 0.7510 - val_acc: 0.7766\n",
            "Epoch 9/10\n",
            "8485/8485 [==============================] - 21s 3ms/step - loss: 0.3130 - acc: 0.9249 - val_loss: 0.7377 - val_acc: 0.7883\n",
            "Epoch 10/10\n",
            "8485/8485 [==============================] - 21s 2ms/step - loss: 0.2499 - acc: 0.9410 - val_loss: 0.7186 - val_acc: 0.7929\n"
          ],
          "name": "stdout"
        }
      ]
    },
    {
      "cell_type": "code",
      "metadata": {
        "id": "p_rg6XxJbIwt",
        "colab_type": "code",
        "colab": {
          "base_uri": "https://localhost:8080/",
          "height": 53
        },
        "outputId": "0bfae60c-b3a4-49f0-f1a1-db9c30113599"
      },
      "source": [
        "[test_loss, test_acc] = model2.evaluate(X_test, y_test)\n",
        "print(\"Evaluation result on Test Data : Loss = {}, accuracy = {}\".format(test_loss, test_acc))"
      ],
      "execution_count": 29,
      "outputs": [
        {
          "output_type": "stream",
          "text": [
            "2829/2829 [==============================] - 2s 630us/step\n",
            "Evaluation result on Test Data : Loss = 0.7186377940981916, accuracy = 0.792859673500061\n"
          ],
          "name": "stdout"
        }
      ]
    },
    {
      "cell_type": "code",
      "metadata": {
        "id": "GOmAiVRWbKHU",
        "colab_type": "code",
        "colab": {
          "base_uri": "https://localhost:8080/",
          "height": 313
        },
        "outputId": "f2962b43-6a7a-4963-f47e-3f32766b5f53"
      },
      "source": [
        "# plot the loss and accuracy for both training data and validation data. \n",
        "plt.figure()\n",
        "plt.plot(np.arange(0, 10), history2.history[\"val_loss\"], label=\"validation loss\")\n",
        "plt.plot(np.arange(0, 10), history2.history[\"val_acc\"], label=\"validation accuracy\")\n",
        "plt.plot(np.arange(0, 10), history2.history[\"loss\"], label=\"training Loss\")\n",
        "plt.plot(np.arange(0, 10), history2.history[\"acc\"], label=\"training accuracy\")\n",
        "plt.title(\"the loss and accuracy for both training data and validation data\")\n",
        "plt.xlabel(\"Epoch #\")\n",
        "plt.ylabel(\"Loss/Accuracy\")\n",
        "plt.legend(loc=\"best\")"
      ],
      "execution_count": 30,
      "outputs": [
        {
          "output_type": "execute_result",
          "data": {
            "text/plain": [
              "<matplotlib.legend.Legend at 0x7f772c289240>"
            ]
          },
          "metadata": {
            "tags": []
          },
          "execution_count": 30
        },
        {
          "output_type": "display_data",
          "data": {
            "image/png": "[encoded data removed]",
            "text/plain": [
              "<Figure size 432x288 with 1 Axes>"
            ]
          },
          "metadata": {
            "tags": [],
            "needs_background": "light"
          }
        }
      ]
    },
    {
      "cell_type": "code",
      "metadata": {
        "id": "1a6ZGY4wbLSS",
        "colab_type": "code",
        "colab": {
          "base_uri": "https://localhost:8080/",
          "height": 53
        },
        "outputId": "4f636ac7-3e3d-43f6-d620-bf8775cab3f6"
      },
      "source": [
        "predict_classe2 = model2.predict_classes(X_test[[1000],:])\n",
        "print(predict_classe2[0])\n",
        "print(y_test[1000])"
      ],
      "execution_count": 31,
      "outputs": [
        {
          "output_type": "stream",
          "text": [
            "19\n",
            "19\n"
          ],
          "name": "stdout"
        }
      ]
    }
  ]
}