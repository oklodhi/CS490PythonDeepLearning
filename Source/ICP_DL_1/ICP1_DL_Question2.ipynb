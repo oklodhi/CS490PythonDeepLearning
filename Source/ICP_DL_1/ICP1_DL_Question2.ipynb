{
  "nbformat": 4,
  "nbformat_minor": 0,
  "metadata": {
    "colab": {
      "name": "ICP1_DL_Question2.ipynb",
      "provenance": []
    },
    "kernelspec": {
      "name": "python3",
      "display_name": "Python 3"
    }
  },
  "cells": [
    {
      "cell_type": "markdown",
      "metadata": {
        "id": "15ssg56MtOaX",
        "colab_type": "text"
      },
      "source": [
        "Import libraries"
      ]
    },
    {
      "cell_type": "code",
      "metadata": {
        "id": "E3QKIf1FsW48",
        "colab_type": "code",
        "colab": {}
      },
      "source": [
        "from keras.models import Sequential\n",
        "from keras.layers.core import Dense\n",
        "\n",
        "import pandas as pd\n",
        "\n",
        "from sklearn.model_selection import train_test_split\n",
        "\n",
        "from sklearn.preprocessing import StandardScaler\n",
        "\n",
        "from sklearn.preprocessing import LabelEncoder"
      ],
      "execution_count": 57,
      "outputs": []
    },
    {
      "cell_type": "markdown",
      "metadata": {
        "id": "pLZkppp9tUTO",
        "colab_type": "text"
      },
      "source": [
        "Load and read dataset"
      ]
    },
    {
      "cell_type": "code",
      "metadata": {
        "id": "xJTFBXuztBV6",
        "colab_type": "code",
        "colab": {}
      },
      "source": [
        "dataset = pd.read_csv(\"breastcancer.csv\")"
      ],
      "execution_count": 58,
      "outputs": []
    },
    {
      "cell_type": "markdown",
      "metadata": {
        "id": "ENYD87IRtiXW",
        "colab_type": "text"
      },
      "source": [
        "Split X and Y dataset"
      ]
    },
    {
      "cell_type": "code",
      "metadata": {
        "id": "msoXHbJutD2k",
        "colab_type": "code",
        "colab": {}
      },
      "source": [
        "X = dataset.iloc[:, 2:32].values\n",
        "Y = dataset.iloc[:, 1].values"
      ],
      "execution_count": 59,
      "outputs": []
    },
    {
      "cell_type": "markdown",
      "metadata": {
        "id": "IHC6yStmtoLI",
        "colab_type": "text"
      },
      "source": [
        "Label encoder stuff"
      ]
    },
    {
      "cell_type": "code",
      "metadata": {
        "id": "dwBiK0oGtFyE",
        "colab_type": "code",
        "colab": {}
      },
      "source": [
        "labelencoder_X_1 = LabelEncoder()\n",
        "Y = labelencoder_X_1.fit_transform(Y)"
      ],
      "execution_count": 60,
      "outputs": []
    },
    {
      "cell_type": "markdown",
      "metadata": {
        "id": "kbv9mVnftq5m",
        "colab_type": "text"
      },
      "source": [
        "Training and testing split"
      ]
    },
    {
      "cell_type": "code",
      "metadata": {
        "id": "fmn_gMp4tG4h",
        "colab_type": "code",
        "colab": {}
      },
      "source": [
        "X_train, X_test, Y_train, Y_test = train_test_split(X, Y, test_size = 0.25, random_state = 0)"
      ],
      "execution_count": 61,
      "outputs": []
    },
    {
      "cell_type": "markdown",
      "metadata": {
        "id": "uN5otb56ttEC",
        "colab_type": "text"
      },
      "source": [
        "Normalizing the model as asked by question 3"
      ]
    },
    {
      "cell_type": "code",
      "metadata": {
        "id": "_6sMp93XtKB3",
        "colab_type": "code",
        "colab": {}
      },
      "source": [
        "sc = StandardScaler()"
      ],
      "execution_count": 68,
      "outputs": []
    },
    {
      "cell_type": "code",
      "metadata": {
        "id": "WG1fNqEGtK0I",
        "colab_type": "code",
        "colab": {}
      },
      "source": [
        "X_train = sc.fit_transform(X_train)\n",
        "X_test = sc.transform(X_test)"
      ],
      "execution_count": 69,
      "outputs": []
    },
    {
      "cell_type": "markdown",
      "metadata": {
        "id": "B5LZfyCvtyqD",
        "colab_type": "text"
      },
      "source": [
        "Deep learning model and fitting"
      ]
    },
    {
      "cell_type": "code",
      "metadata": {
        "id": "0QRum9ketMPH",
        "colab_type": "code",
        "colab": {}
      },
      "source": [
        "my_first_nn = Sequential() # create model\n",
        "my_first_nn.add(Dense(20, input_dim=30, activation='relu')) # hidden layer\n",
        "\n",
        "my_first_nn.add(Dense(90, input_dim=8,  activation='relu'))\n",
        "\n",
        "my_first_nn.add(Dense(1, activation='sigmoid')) # output layer\n",
        "my_first_nn.compile(loss='binary_crossentropy', optimizer='adam', metrics=['accuracy'])\n",
        "my_first_nn_fitted = my_first_nn.fit(X_train, Y_train, epochs=100, verbose=0, initial_epoch=0)"
      ],
      "execution_count": 70,
      "outputs": []
    },
    {
      "cell_type": "markdown",
      "metadata": {
        "id": "Oo2_0fUat0tF",
        "colab_type": "text"
      },
      "source": [
        "Printing result"
      ]
    },
    {
      "cell_type": "code",
      "metadata": {
        "id": "8WLrWHKatNlX",
        "colab_type": "code",
        "colab": {
          "base_uri": "https://localhost:8080/",
          "height": 323
        },
        "outputId": "087ae555-6a53-42c0-ee46-a70dc96dddea"
      },
      "source": [
        "print(my_first_nn.summary())\n",
        "print(my_first_nn.evaluate(X_test, Y_test))"
      ],
      "execution_count": 71,
      "outputs": [
        {
          "output_type": "stream",
          "text": [
            "Model: \"sequential_10\"\n",
            "_________________________________________________________________\n",
            "Layer (type)                 Output Shape              Param #   \n",
            "=================================================================\n",
            "dense_24 (Dense)             (None, 20)                620       \n",
            "_________________________________________________________________\n",
            "dense_25 (Dense)             (None, 90)                1890      \n",
            "_________________________________________________________________\n",
            "dense_26 (Dense)             (None, 1)                 91        \n",
            "=================================================================\n",
            "Total params: 2,601\n",
            "Trainable params: 2,601\n",
            "Non-trainable params: 0\n",
            "_________________________________________________________________\n",
            "None\n",
            "143/143 [==============================] - 0s 136us/step\n",
            "[0.12128346692119445, 0.9720279574394226]\n"
          ],
          "name": "stdout"
        }
      ]
    }
  ]
}