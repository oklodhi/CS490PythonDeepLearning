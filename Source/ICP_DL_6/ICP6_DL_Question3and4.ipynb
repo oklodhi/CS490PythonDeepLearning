{
  "nbformat": 4,
  "nbformat_minor": 0,
  "metadata": {
    "colab": {
      "name": "ICP6_DL_Question3and4.ipynb",
      "provenance": []
    },
    "kernelspec": {
      "name": "python3",
      "display_name": "Python 3"
    }
  },
  "cells": [
    {
      "cell_type": "code",
      "metadata": {
        "id": "nqO8Iwuuc1Uw",
        "colab_type": "code",
        "colab": {
          "base_uri": "https://localhost:8080/",
          "height": 35
        },
        "outputId": "b6cd720d-cdd4-4b8f-a9a2-4652f5d3baf5"
      },
      "source": [
        "from keras.layers import Input, Dense\n",
        "from keras.models import Model\n",
        "from keras.callbacks import TensorBoard\n",
        "from time import time\n",
        "from keras.datasets import fashion_mnist\n",
        "import numpy as np\n",
        "from keras import regularizers\n",
        "\n",
        "import matplotlib.pyplot as plt"
      ],
      "execution_count": 1,
      "outputs": [
        {
          "output_type": "stream",
          "text": [
            "Using TensorFlow backend.\n"
          ],
          "name": "stderr"
        }
      ]
    },
    {
      "cell_type": "code",
      "metadata": {
        "id": "GuawO8Nlc6RU",
        "colab_type": "code",
        "colab": {}
      },
      "source": [
        "# this is the size of our encoded representations\n",
        "encoding_dim = 32  # 32 floats -> compression of factor 24.5, assuming the input is 784 floats"
      ],
      "execution_count": 2,
      "outputs": []
    },
    {
      "cell_type": "code",
      "metadata": {
        "id": "0xDKo9uXc7gz",
        "colab_type": "code",
        "colab": {}
      },
      "source": [
        "# this is our input placeholder\n",
        "input_img = Input(shape=(784,))"
      ],
      "execution_count": 3,
      "outputs": []
    },
    {
      "cell_type": "code",
      "metadata": {
        "id": "5lIERMp3c8jZ",
        "colab_type": "code",
        "colab": {}
      },
      "source": [
        "# \"encoded\" is the encoded representation of the input\n",
        "encoded = Dense(encoding_dim, activation='relu')(input_img)"
      ],
      "execution_count": 4,
      "outputs": []
    },
    {
      "cell_type": "code",
      "metadata": {
        "id": "qX8NUX-9c-5T",
        "colab_type": "code",
        "colab": {}
      },
      "source": [
        "hidden_1 = Dense(32, activation='relu')(encoded)"
      ],
      "execution_count": 5,
      "outputs": []
    },
    {
      "cell_type": "code",
      "metadata": {
        "id": "hiICrkoEc_9f",
        "colab_type": "code",
        "colab": {}
      },
      "source": [
        "# \"decoded\" is the lossy reconstruction of the input\n",
        "decoded = Dense(784, activation='sigmoid')(encoded)"
      ],
      "execution_count": 6,
      "outputs": []
    },
    {
      "cell_type": "code",
      "metadata": {
        "id": "qi8yxbTmdA_y",
        "colab_type": "code",
        "colab": {}
      },
      "source": [
        "# this model maps an input to its reconstruction\n",
        "autoencoder = Model(input_img, decoded)"
      ],
      "execution_count": 7,
      "outputs": []
    },
    {
      "cell_type": "code",
      "metadata": {
        "id": "mOgW9nq-dCFW",
        "colab_type": "code",
        "colab": {}
      },
      "source": [
        "# this model maps an input to its encoded representation\n",
        "encoder = Model(input_img, encoded)"
      ],
      "execution_count": 8,
      "outputs": []
    },
    {
      "cell_type": "code",
      "metadata": {
        "id": "pY3-0fkgdDAy",
        "colab_type": "code",
        "colab": {}
      },
      "source": [
        "# create a placeholder for an encoded (32-dimensional) input\n",
        "encoded_input = Input(shape=(encoding_dim,))"
      ],
      "execution_count": 9,
      "outputs": []
    },
    {
      "cell_type": "code",
      "metadata": {
        "id": "YjEg_gu7dD40",
        "colab_type": "code",
        "colab": {}
      },
      "source": [
        "# retrieve the last layer of the autoencoder model\n",
        "decoder_layer = autoencoder.layers[-1]"
      ],
      "execution_count": 10,
      "outputs": []
    },
    {
      "cell_type": "code",
      "metadata": {
        "id": "Y_TT4mYzdE__",
        "colab_type": "code",
        "colab": {}
      },
      "source": [
        "# create the decoder model\n",
        "decoder = Model(encoded_input, decoder_layer(encoded_input))\n",
        "autoencoder.compile(optimizer='adadelta', loss='binary_crossentropy', metrics=['accuracy'])"
      ],
      "execution_count": 11,
      "outputs": []
    },
    {
      "cell_type": "code",
      "metadata": {
        "id": "GR7gwR-BdF--",
        "colab_type": "code",
        "colab": {
          "base_uri": "https://localhost:8080/",
          "height": 161
        },
        "outputId": "badc1c1f-983f-4e9e-cf9f-9d8a7464060b"
      },
      "source": [
        "(x_train, _), (x_test, _) = fashion_mnist.load_data()\n",
        "x_train = x_train.astype('float32') / 255.\n",
        "x_test = x_test.astype('float32') / 255.\n",
        "x_train = x_train.reshape((len(x_train), np.prod(x_train.shape[1:])))\n",
        "x_test = x_test.reshape((len(x_test), np.prod(x_test.shape[1:])))"
      ],
      "execution_count": 12,
      "outputs": [
        {
          "output_type": "stream",
          "text": [
            "Downloading data from http://fashion-mnist.s3-website.eu-central-1.amazonaws.com/train-labels-idx1-ubyte.gz\n",
            "32768/29515 [=================================] - 0s 8us/step\n",
            "Downloading data from http://fashion-mnist.s3-website.eu-central-1.amazonaws.com/train-images-idx3-ubyte.gz\n",
            "26427392/26421880 [==============================] - 4s 0us/step\n",
            "Downloading data from http://fashion-mnist.s3-website.eu-central-1.amazonaws.com/t10k-labels-idx1-ubyte.gz\n",
            "8192/5148 [===============================================] - 0s 0us/step\n",
            "Downloading data from http://fashion-mnist.s3-website.eu-central-1.amazonaws.com/t10k-images-idx3-ubyte.gz\n",
            "4423680/4422102 [==============================] - 2s 0us/step\n"
          ],
          "name": "stdout"
        }
      ]
    },
    {
      "cell_type": "code",
      "metadata": {
        "id": "tn9gJQmwdHS7",
        "colab_type": "code",
        "colab": {}
      },
      "source": [
        "#introducing noise\n",
        "noise_factor = 0.5\n",
        "x_train_noisy = x_train + noise_factor * np.random.normal(loc=0.0, scale=1.0, size=x_train.shape)\n",
        "x_test_noisy = x_test + noise_factor * np.random.normal(loc=0.0, scale=1.0, size=x_test.shape)"
      ],
      "execution_count": 13,
      "outputs": []
    },
    {
      "cell_type": "code",
      "metadata": {
        "id": "jqt7tn8GdIPc",
        "colab_type": "code",
        "colab": {
          "base_uri": "https://localhost:8080/",
          "height": 773
        },
        "outputId": "edaad8e8-2f9c-4185-bbb5-dd2ef434b44f"
      },
      "source": [
        "autoencoder.fit(x_train_noisy, x_train, epochs=20, batch_size=256, shuffle=True, validation_data=(x_test_noisy, x_test_noisy))"
      ],
      "execution_count": 14,
      "outputs": [
        {
          "output_type": "stream",
          "text": [
            "Train on 60000 samples, validate on 10000 samples\n",
            "Epoch 1/20\n",
            "60000/60000 [==============================] - 3s 50us/step - loss: 0.5302 - accuracy: 0.4469 - val_loss: 0.4568 - val_accuracy: 0.0000e+00\n",
            "Epoch 2/20\n",
            "60000/60000 [==============================] - 3s 46us/step - loss: 0.4257 - accuracy: 0.4883 - val_loss: 0.4038 - val_accuracy: 0.0000e+00\n",
            "Epoch 3/20\n",
            "60000/60000 [==============================] - 3s 47us/step - loss: 0.3970 - accuracy: 0.4916 - val_loss: 0.3838 - val_accuracy: 0.0000e+00\n",
            "Epoch 4/20\n",
            "60000/60000 [==============================] - 3s 45us/step - loss: 0.3802 - accuracy: 0.4943 - val_loss: 0.3670 - val_accuracy: 0.0000e+00\n",
            "Epoch 5/20\n",
            "60000/60000 [==============================] - 3s 45us/step - loss: 0.3671 - accuracy: 0.4964 - val_loss: 0.3543 - val_accuracy: 0.0000e+00\n",
            "Epoch 6/20\n",
            "60000/60000 [==============================] - 3s 46us/step - loss: 0.3575 - accuracy: 0.4979 - val_loss: 0.3447 - val_accuracy: 0.0000e+00\n",
            "Epoch 7/20\n",
            "60000/60000 [==============================] - 3s 45us/step - loss: 0.3503 - accuracy: 0.4992 - val_loss: 0.3372 - val_accuracy: 0.0000e+00\n",
            "Epoch 8/20\n",
            "60000/60000 [==============================] - 3s 46us/step - loss: 0.3446 - accuracy: 0.5002 - val_loss: 0.3311 - val_accuracy: 0.0000e+00\n",
            "Epoch 9/20\n",
            "60000/60000 [==============================] - 3s 46us/step - loss: 0.3399 - accuracy: 0.5010 - val_loss: 0.3260 - val_accuracy: 0.0000e+00\n",
            "Epoch 10/20\n",
            "60000/60000 [==============================] - 3s 46us/step - loss: 0.3360 - accuracy: 0.5016 - val_loss: 0.3218 - val_accuracy: 0.0000e+00\n",
            "Epoch 11/20\n",
            "60000/60000 [==============================] - 3s 45us/step - loss: 0.3326 - accuracy: 0.5022 - val_loss: 0.3176 - val_accuracy: 0.0000e+00\n",
            "Epoch 12/20\n",
            "60000/60000 [==============================] - 3s 44us/step - loss: 0.3296 - accuracy: 0.5027 - val_loss: 0.3141 - val_accuracy: 0.0000e+00\n",
            "Epoch 13/20\n",
            "60000/60000 [==============================] - 3s 45us/step - loss: 0.3270 - accuracy: 0.5031 - val_loss: 0.3109 - val_accuracy: 0.0000e+00\n",
            "Epoch 14/20\n",
            "60000/60000 [==============================] - 3s 45us/step - loss: 0.3248 - accuracy: 0.5035 - val_loss: 0.3082 - val_accuracy: 0.0000e+00\n",
            "Epoch 15/20\n",
            "60000/60000 [==============================] - 3s 45us/step - loss: 0.3229 - accuracy: 0.5037 - val_loss: 0.3057 - val_accuracy: 0.0000e+00\n",
            "Epoch 16/20\n",
            "60000/60000 [==============================] - 3s 44us/step - loss: 0.3213 - accuracy: 0.5040 - val_loss: 0.3036 - val_accuracy: 0.0000e+00\n",
            "Epoch 17/20\n",
            "60000/60000 [==============================] - 3s 45us/step - loss: 0.3200 - accuracy: 0.5042 - val_loss: 0.3017 - val_accuracy: 0.0000e+00\n",
            "Epoch 18/20\n",
            "60000/60000 [==============================] - 3s 45us/step - loss: 0.3188 - accuracy: 0.5043 - val_loss: 0.3000 - val_accuracy: 0.0000e+00\n",
            "Epoch 19/20\n",
            "60000/60000 [==============================] - 3s 46us/step - loss: 0.3178 - accuracy: 0.5045 - val_loss: 0.2985 - val_accuracy: 0.0000e+00\n",
            "Epoch 20/20\n",
            "60000/60000 [==============================] - 3s 45us/step - loss: 0.3169 - accuracy: 0.5046 - val_loss: 0.2971 - val_accuracy: 0.0000e+00\n"
          ],
          "name": "stdout"
        },
        {
          "output_type": "execute_result",
          "data": {
            "text/plain": [
              "<keras.callbacks.callbacks.History at 0x7f8042d0bc18>"
            ]
          },
          "metadata": {
            "tags": []
          },
          "execution_count": 14
        }
      ]
    },
    {
      "cell_type": "code",
      "metadata": {
        "id": "8uw6lGeWdLqG",
        "colab_type": "code",
        "colab": {}
      },
      "source": [
        "prediction = autoencoder.predict(x_test_noisy[1].reshape(1,784))"
      ],
      "execution_count": 15,
      "outputs": []
    },
    {
      "cell_type": "code",
      "metadata": {
        "id": "oufuRMUNdMlq",
        "colab_type": "code",
        "colab": {
          "base_uri": "https://localhost:8080/",
          "height": 395
        },
        "outputId": "0054ab26-1217-4a65-c2b5-4d7994f31b84"
      },
      "source": [
        "# tensorborad = TensorBoard(log_dir=\"logs/{}\".format(time()))\n",
        "history = autoencoder.fit(x_train_noisy, x_train, batch_size=256, epochs=10, verbose=1, validation_data=(x_test_noisy, x_test_noisy))"
      ],
      "execution_count": 16,
      "outputs": [
        {
          "output_type": "stream",
          "text": [
            "Train on 60000 samples, validate on 10000 samples\n",
            "Epoch 1/10\n",
            "60000/60000 [==============================] - 3s 45us/step - loss: 0.3161 - accuracy: 0.5047 - val_loss: 0.2957 - val_accuracy: 0.0000e+00\n",
            "Epoch 2/10\n",
            "60000/60000 [==============================] - 3s 45us/step - loss: 0.3153 - accuracy: 0.5048 - val_loss: 0.2945 - val_accuracy: 0.0000e+00\n",
            "Epoch 3/10\n",
            "60000/60000 [==============================] - 3s 45us/step - loss: 0.3147 - accuracy: 0.5049 - val_loss: 0.2933 - val_accuracy: 0.0000e+00\n",
            "Epoch 4/10\n",
            "60000/60000 [==============================] - 3s 46us/step - loss: 0.3140 - accuracy: 0.5050 - val_loss: 0.2922 - val_accuracy: 0.0000e+00\n",
            "Epoch 5/10\n",
            "60000/60000 [==============================] - 3s 46us/step - loss: 0.3134 - accuracy: 0.5051 - val_loss: 0.2912 - val_accuracy: 0.0000e+00\n",
            "Epoch 6/10\n",
            "60000/60000 [==============================] - 3s 46us/step - loss: 0.3128 - accuracy: 0.5052 - val_loss: 0.2902 - val_accuracy: 0.0000e+00\n",
            "Epoch 7/10\n",
            "60000/60000 [==============================] - 3s 45us/step - loss: 0.3123 - accuracy: 0.5052 - val_loss: 0.2892 - val_accuracy: 0.0000e+00\n",
            "Epoch 8/10\n",
            "60000/60000 [==============================] - 3s 47us/step - loss: 0.3118 - accuracy: 0.5053 - val_loss: 0.2883 - val_accuracy: 0.0000e+00\n",
            "Epoch 9/10\n",
            "60000/60000 [==============================] - 3s 46us/step - loss: 0.3113 - accuracy: 0.5054 - val_loss: 0.2874 - val_accuracy: 0.0000e+00\n",
            "Epoch 10/10\n",
            "60000/60000 [==============================] - 3s 46us/step - loss: 0.3109 - accuracy: 0.5054 - val_loss: 0.2865 - val_accuracy: 0.0000e+00\n"
          ],
          "name": "stdout"
        }
      ]
    },
    {
      "cell_type": "code",
      "metadata": {
        "id": "DJcaFM5bdORO",
        "colab_type": "code",
        "colab": {}
      },
      "source": [
        "# encode and decode some digits\n",
        "# note that we take them from the test set\n",
        "encoded_imgs = encoder.predict(x_test_noisy)\n",
        "decoded_imgs = decoder.predict(encoded_imgs)"
      ],
      "execution_count": 17,
      "outputs": []
    },
    {
      "cell_type": "code",
      "metadata": {
        "id": "FqX-qjHydSKW",
        "colab_type": "code",
        "colab": {
          "base_uri": "https://localhost:8080/",
          "height": 53
        },
        "outputId": "07c463a5-c00f-42d9-f847-cd11f17422c4"
      },
      "source": [
        "n = 10  # how many digits we will display\n",
        "plt.figure(figsize=(20, 4))"
      ],
      "execution_count": 18,
      "outputs": [
        {
          "output_type": "execute_result",
          "data": {
            "text/plain": [
              "<Figure size 1440x288 with 0 Axes>"
            ]
          },
          "metadata": {
            "tags": []
          },
          "execution_count": 18
        },
        {
          "output_type": "display_data",
          "data": {
            "text/plain": [
              "<Figure size 1440x288 with 0 Axes>"
            ]
          },
          "metadata": {
            "tags": []
          }
        }
      ]
    },
    {
      "cell_type": "code",
      "metadata": {
        "id": "gTxMJX6LdT3q",
        "colab_type": "code",
        "colab": {
          "base_uri": "https://localhost:8080/",
          "height": 140
        },
        "outputId": "ad08685d-6ea4-4e79-af2d-5f6ce17546d2"
      },
      "source": [
        "for i in range(n):\n",
        "    # display original\n",
        "    ax = plt.subplot(3, n, i + 1)\n",
        "    plt.imshow(x_test[i].reshape(28, 28))\n",
        "    plt.gray()\n",
        "    ax.get_xaxis().set_visible(False)\n",
        "    ax.get_yaxis().set_visible(False)\n",
        "\n",
        "    ax = plt.subplot(3, n, i + 1 + n)\n",
        "    plt.imshow(x_test_noisy[i].reshape(28, 28))\n",
        "    plt.gray()\n",
        "    ax.get_xaxis().set_visible(False)\n",
        "    ax.get_yaxis().set_visible(False)"
      ],
      "execution_count": 19,
      "outputs": [
        {
          "output_type": "display_data",
          "data": {
            "image/png": "[encoded data removed]",
            "text/plain": [
              "<Figure size 432x288 with 20 Axes>"
            ]
          },
          "metadata": {
            "tags": [],
            "needs_background": "light"
          }
        }
      ]
    },
    {
      "cell_type": "code",
      "metadata": {
        "id": "uhdDaOXNdViV",
        "colab_type": "code",
        "colab": {}
      },
      "source": [
        "plt.show()"
      ],
      "execution_count": 20,
      "outputs": []
    },
    {
      "cell_type": "code",
      "metadata": {
        "id": "_02Sw41WdW9Z",
        "colab_type": "code",
        "colab": {
          "base_uri": "https://localhost:8080/",
          "height": 35
        },
        "outputId": "4f373e33-3c9a-489e-f73e-09d235f6e506"
      },
      "source": [
        "print(history)"
      ],
      "execution_count": 21,
      "outputs": [
        {
          "output_type": "stream",
          "text": [
            "<keras.callbacks.callbacks.History object at 0x7f803ca49ba8>\n"
          ],
          "name": "stdout"
        }
      ]
    },
    {
      "cell_type": "code",
      "metadata": {
        "id": "AT_t22w_djdT",
        "colab_type": "code",
        "colab": {
          "base_uri": "https://localhost:8080/",
          "height": 295
        },
        "outputId": "3fb2b6b4-c5f5-4ffa-f89e-281fb328b6b1"
      },
      "source": [
        "# summarize history for accuracy\n",
        "plt.plot(history.history['accuracy'])\n",
        "plt.plot(history.history['val_accuracy'])\n",
        "plt.title('model accuracy')\n",
        "plt.ylabel('accuracy')\n",
        "plt.xlabel('epoch')\n",
        "plt.legend(['train', 'test'], loc='upper left')\n",
        "plt.show()"
      ],
      "execution_count": 22,
      "outputs": [
        {
          "output_type": "display_data",
          "data": {
            "image/png": "[encoded data removed]",
            "text/plain": [
              "<Figure size 432x288 with 1 Axes>"
            ]
          },
          "metadata": {
            "tags": [],
            "needs_background": "light"
          }
        }
      ]
    },
    {
      "cell_type": "code",
      "metadata": {
        "id": "OePBWtG_dkko",
        "colab_type": "code",
        "colab": {
          "base_uri": "https://localhost:8080/",
          "height": 295
        },
        "outputId": "fa66a8e7-2d93-4ad2-a30c-4e027ab35b13"
      },
      "source": [
        "# summarize history for loss\n",
        "plt.plot(history.history['loss'])\n",
        "plt.plot(history.history['val_loss'])\n",
        "plt.title('model loss')\n",
        "plt.ylabel('loss')\n",
        "plt.xlabel('epoch')\n",
        "plt.legend(['train', 'test'], loc='upper left')\n",
        "plt.show()"
      ],
      "execution_count": 23,
      "outputs": [
        {
          "output_type": "display_data",
          "data": {
            "image/png": "[encoded data removed]",
            "text/plain": [
              "<Figure size 432x288 with 1 Axes>"
            ]
          },
          "metadata": {
            "tags": [],
            "needs_background": "light"
          }
        }
      ]
    },
    {
      "cell_type": "markdown",
      "metadata": {
        "id": "Z3I_YVZAdfHq",
        "colab_type": "text"
      },
      "source": [
        "Bonus Question"
      ]
    },
    {
      "cell_type": "code",
      "metadata": {
        "id": "mB15JXHgdbMR",
        "colab_type": "code",
        "colab": {
          "base_uri": "https://localhost:8080/",
          "height": 63
        },
        "outputId": "480860c1-19fa-4020-f4f7-34294914abfa"
      },
      "source": [
        "for i in range(n):\n",
        "  #bonus \n",
        "    ax = plt.subplot(4, n, i + 1 + n + n)\n",
        "    plt.imshow(encoded_imgs[i].reshape(16, 2))\n",
        "    plt.gray()\n",
        "    ax.get_xaxis().set_visible(False) \n",
        "    ax.get_yaxis().set_visible(False) \n",
        "\n",
        "    # display reconstruction\n",
        "    ax = plt.subplot(3, n, i + 1 + n + n)\n",
        "    plt.imshow(decoded_imgs[i].reshape(28, 28))\n",
        "    plt.gray()\n",
        "    ax.get_xaxis().set_visible(False)\n",
        "    ax.get_yaxis().set_visible(False)"
      ],
      "execution_count": 24,
      "outputs": [
        {
          "output_type": "display_data",
          "data": {
            "image/png": "[encoded data removed]",
            "text/plain": [
              "<Figure size 432x288 with 10 Axes>"
            ]
          },
          "metadata": {
            "tags": [],
            "needs_background": "light"
          }
        }
      ]
    }
  ]
}