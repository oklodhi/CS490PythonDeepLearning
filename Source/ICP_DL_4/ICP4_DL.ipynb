{
  "nbformat": 4,
  "nbformat_minor": 0,
  "metadata": {
    "colab": {
      "name": "ICP4_DL.ipynb",
      "provenance": []
    },
    "kernelspec": {
      "name": "python3",
      "display_name": "Python 3"
    },
    "accelerator": "GPU"
  },
  "cells": [
    {
      "cell_type": "code",
      "metadata": {
        "id": "ccU4Lqv1hzEy",
        "colab_type": "code",
        "colab": {
          "base_uri": "https://localhost:8080/",
          "height": 35
        },
        "outputId": "cab0141f-eec3-4adf-e3d3-a5d95aa6488f"
      },
      "source": [
        "# Simple CNN model for CIFAR-10\n",
        "import tensorflow as tf \n",
        "from tensorflow import keras\n",
        "import numpy as np\n",
        "from tensorflow.keras.models import load_model\n",
        "from keras.datasets import cifar10\n",
        "from keras.utils import np_utils\n",
        "from keras.constraints import maxnorm\n",
        "from tensorflow.keras import datasets, layers, models\n",
        "from keras.layers import Dense\n",
        "from keras.layers import Dropout\n",
        "from keras.layers import Flatten\n",
        "from keras.optimizers import SGD\n",
        "import matplotlib.pyplot as plt\n",
        "from keras import backend as K\n",
        "K.set_image_data_format('channels_first')\n",
        "tf.config.experimental.list_physical_devices('GPU')"
      ],
      "execution_count": 26,
      "outputs": [
        {
          "output_type": "execute_result",
          "data": {
            "text/plain": [
              "[PhysicalDevice(name='/physical_device:GPU:0', device_type='GPU')]"
            ]
          },
          "metadata": {
            "tags": []
          },
          "execution_count": 26
        }
      ]
    },
    {
      "cell_type": "markdown",
      "metadata": {
        "id": "qs7y9p8oI-3x",
        "colab_type": "text"
      },
      "source": [
        "Hvae to run the code on TF GPU otherwise code makes stupid breaks"
      ]
    },
    {
      "cell_type": "code",
      "metadata": {
        "id": "JDZjo174_sdC",
        "colab_type": "code",
        "colab": {
          "base_uri": "https://localhost:8080/",
          "height": 53
        },
        "outputId": "9fe09cf8-002f-4205-a745-f3b996977e95"
      },
      "source": [
        "print(\"Num GPUs Available: \", len(tf.config.experimental.list_physical_devices('GPU')))\n",
        "print(\"Num TPUs Available: \", len(tf.config.experimental.list_physical_devices('TPU')))"
      ],
      "execution_count": 27,
      "outputs": [
        {
          "output_type": "stream",
          "text": [
            "Num GPUs Available:  1\n",
            "Num TPUs Available:  0\n"
          ],
          "name": "stdout"
        }
      ]
    },
    {
      "cell_type": "code",
      "metadata": {
        "id": "7hejj4vcvSyC",
        "colab_type": "code",
        "colab": {}
      },
      "source": [
        "# fix random seed for reproducibility\n",
        "seed = 7\n",
        "np.random.seed(seed)"
      ],
      "execution_count": 28,
      "outputs": []
    },
    {
      "cell_type": "code",
      "metadata": {
        "id": "gYqdKTz9vU-8",
        "colab_type": "code",
        "colab": {}
      },
      "source": [
        "# load data\n",
        "(X_train, y_train), (X_test, y_test) = cifar10.load_data()"
      ],
      "execution_count": 29,
      "outputs": []
    },
    {
      "cell_type": "code",
      "metadata": {
        "id": "LTe-rZX3vWc6",
        "colab_type": "code",
        "colab": {}
      },
      "source": [
        "# normalize inputs from 0-255 to 0.0-1.0\n",
        "X_train = X_train.astype('float32')\n",
        "X_test = X_test.astype('float32')\n",
        "X_train = X_train / 255.0\n",
        "X_test = X_test / 255.0"
      ],
      "execution_count": 30,
      "outputs": []
    },
    {
      "cell_type": "code",
      "metadata": {
        "id": "CqmFeou3vX-C",
        "colab_type": "code",
        "colab": {}
      },
      "source": [
        "# one hot encode outputs\n",
        "y_train = np_utils.to_categorical(y_train)\n",
        "y_test = np_utils.to_categorical(y_test)\n",
        "num_classes = y_test.shape[1]"
      ],
      "execution_count": 31,
      "outputs": []
    },
    {
      "cell_type": "code",
      "metadata": {
        "id": "feRnelF8yTyB",
        "colab_type": "code",
        "colab": {
          "base_uri": "https://localhost:8080/",
          "height": 35
        },
        "outputId": "c38dfede-07eb-4131-a497-951a170ef57f"
      },
      "source": [
        "print(num_classes)"
      ],
      "execution_count": 32,
      "outputs": [
        {
          "output_type": "stream",
          "text": [
            "10\n"
          ],
          "name": "stdout"
        }
      ]
    },
    {
      "cell_type": "markdown",
      "metadata": {
        "id": "Ms29N2egI78V",
        "colab_type": "text"
      },
      "source": [
        "Old model"
      ]
    },
    {
      "cell_type": "code",
      "metadata": {
        "id": "AngG_rE9vagG",
        "colab_type": "code",
        "colab": {
          "base_uri": "https://localhost:8080/",
          "height": 449
        },
        "outputId": "1a33fb76-f1e7-453e-faa2-8124cb97f31e"
      },
      "source": [
        "#TASK 1\n",
        "# Create the model\n",
        "model = models.Sequential()\n",
        "model.add(layers.Conv2D(32, (3, 3), padding='same', activation='relu', input_shape=X_train.shape[1:], kernel_constraint=maxnorm(3)))\n",
        "model.add(layers.Dropout(0.2))\n",
        "model.add(layers.Conv2D(32, (3, 3), activation='relu', padding='same', kernel_constraint=maxnorm(3)))\n",
        "model.add(layers.MaxPooling2D(pool_size=(2, 2)))\n",
        "model.add(layers.Flatten())\n",
        "model.add(layers.Dense(512, activation='relu', kernel_constraint=maxnorm(3)))\n",
        "model.add(layers.Dropout(0.5))\n",
        "model.add(layers.Dense(num_classes, activation='softmax'))\n",
        "model.summary()"
      ],
      "execution_count": 33,
      "outputs": [
        {
          "output_type": "stream",
          "text": [
            "Model: \"sequential_2\"\n",
            "_________________________________________________________________\n",
            "Layer (type)                 Output Shape              Param #   \n",
            "=================================================================\n",
            "conv2d_8 (Conv2D)            (None, 32, 32, 32)        896       \n",
            "_________________________________________________________________\n",
            "dropout_8 (Dropout)          (None, 32, 32, 32)        0         \n",
            "_________________________________________________________________\n",
            "conv2d_9 (Conv2D)            (None, 32, 32, 32)        9248      \n",
            "_________________________________________________________________\n",
            "max_pooling2d_4 (MaxPooling2 (None, 32, 16, 16)        0         \n",
            "_________________________________________________________________\n",
            "flatten_2 (Flatten)          (None, 8192)              0         \n",
            "_________________________________________________________________\n",
            "dense_5 (Dense)              (None, 512)               4194816   \n",
            "_________________________________________________________________\n",
            "dropout_9 (Dropout)          (None, 512)               0         \n",
            "_________________________________________________________________\n",
            "dense_6 (Dense)              (None, 10)                5130      \n",
            "=================================================================\n",
            "Total params: 4,210,090\n",
            "Trainable params: 4,210,090\n",
            "Non-trainable params: 0\n",
            "_________________________________________________________________\n"
          ],
          "name": "stdout"
        }
      ]
    },
    {
      "cell_type": "code",
      "metadata": {
        "id": "XITN5-nNvb6U",
        "colab_type": "code",
        "colab": {}
      },
      "source": [
        "# Compile model\n",
        "epochs = 25\n",
        "lrate = 0.01\n",
        "decay = lrate/epochs\n",
        "sgd = keras.optimizers.SGD(lr=lrate, momentum=0.9, decay=decay, nesterov=False)\n",
        "model.compile(loss='categorical_crossentropy', optimizer=sgd, metrics=['accuracy'])"
      ],
      "execution_count": 34,
      "outputs": []
    },
    {
      "cell_type": "code",
      "metadata": {
        "id": "-T35yef-vdZr",
        "colab_type": "code",
        "colab": {
          "base_uri": "https://localhost:8080/",
          "height": 917
        },
        "outputId": "36438693-f1d4-4e99-a401-55cad8e3eab5"
      },
      "source": [
        "# Fit the model\n",
        "history = model.fit(X_train, y_train, validation_data=(X_test, y_test), epochs=epochs, batch_size=32)"
      ],
      "execution_count": 35,
      "outputs": [
        {
          "output_type": "stream",
          "text": [
            "Epoch 1/25\n",
            "1563/1563 [==============================] - 9s 6ms/step - loss: 1.6754 - accuracy: 0.3933 - val_loss: 1.3550 - val_accuracy: 0.5175\n",
            "Epoch 2/25\n",
            "1563/1563 [==============================] - 8s 5ms/step - loss: 1.3074 - accuracy: 0.5304 - val_loss: 1.1671 - val_accuracy: 0.5875\n",
            "Epoch 3/25\n",
            "1563/1563 [==============================] - 8s 5ms/step - loss: 1.1469 - accuracy: 0.5884 - val_loss: 1.0695 - val_accuracy: 0.6203\n",
            "Epoch 4/25\n",
            "1563/1563 [==============================] - 9s 6ms/step - loss: 1.0202 - accuracy: 0.6378 - val_loss: 1.0191 - val_accuracy: 0.6396\n",
            "Epoch 5/25\n",
            "1563/1563 [==============================] - 9s 6ms/step - loss: 0.9214 - accuracy: 0.6741 - val_loss: 0.9651 - val_accuracy: 0.6589\n",
            "Epoch 6/25\n",
            "1563/1563 [==============================] - 8s 5ms/step - loss: 0.8418 - accuracy: 0.7013 - val_loss: 0.9388 - val_accuracy: 0.6693\n",
            "Epoch 7/25\n",
            "1563/1563 [==============================] - 8s 5ms/step - loss: 0.7701 - accuracy: 0.7289 - val_loss: 0.9492 - val_accuracy: 0.6703\n",
            "Epoch 8/25\n",
            "1563/1563 [==============================] - 8s 5ms/step - loss: 0.7123 - accuracy: 0.7476 - val_loss: 0.9244 - val_accuracy: 0.6801\n",
            "Epoch 9/25\n",
            "1563/1563 [==============================] - 8s 5ms/step - loss: 0.6487 - accuracy: 0.7723 - val_loss: 0.9100 - val_accuracy: 0.6839\n",
            "Epoch 10/25\n",
            "1563/1563 [==============================] - 8s 5ms/step - loss: 0.6011 - accuracy: 0.7865 - val_loss: 0.9145 - val_accuracy: 0.6911\n",
            "Epoch 11/25\n",
            "1563/1563 [==============================] - 8s 5ms/step - loss: 0.5522 - accuracy: 0.8047 - val_loss: 0.9295 - val_accuracy: 0.6910\n",
            "Epoch 12/25\n",
            "1563/1563 [==============================] - 9s 5ms/step - loss: 0.5151 - accuracy: 0.8176 - val_loss: 0.9276 - val_accuracy: 0.6921\n",
            "Epoch 13/25\n",
            "1563/1563 [==============================] - 8s 5ms/step - loss: 0.4773 - accuracy: 0.8326 - val_loss: 0.9378 - val_accuracy: 0.6959\n",
            "Epoch 14/25\n",
            "1563/1563 [==============================] - 8s 5ms/step - loss: 0.4407 - accuracy: 0.8443 - val_loss: 0.9365 - val_accuracy: 0.6986\n",
            "Epoch 15/25\n",
            "1563/1563 [==============================] - 8s 5ms/step - loss: 0.4159 - accuracy: 0.8523 - val_loss: 0.9541 - val_accuracy: 0.7019\n",
            "Epoch 16/25\n",
            "1563/1563 [==============================] - 8s 5ms/step - loss: 0.3857 - accuracy: 0.8629 - val_loss: 0.9760 - val_accuracy: 0.6992\n",
            "Epoch 17/25\n",
            "1563/1563 [==============================] - 8s 5ms/step - loss: 0.3622 - accuracy: 0.8730 - val_loss: 0.9930 - val_accuracy: 0.7012\n",
            "Epoch 18/25\n",
            "1563/1563 [==============================] - 8s 5ms/step - loss: 0.3388 - accuracy: 0.8815 - val_loss: 1.0020 - val_accuracy: 0.7015\n",
            "Epoch 19/25\n",
            "1563/1563 [==============================] - 8s 5ms/step - loss: 0.3207 - accuracy: 0.8866 - val_loss: 1.0107 - val_accuracy: 0.7007\n",
            "Epoch 20/25\n",
            "1563/1563 [==============================] - 8s 5ms/step - loss: 0.2989 - accuracy: 0.8951 - val_loss: 1.0378 - val_accuracy: 0.7035\n",
            "Epoch 21/25\n",
            "1563/1563 [==============================] - 8s 5ms/step - loss: 0.2857 - accuracy: 0.8985 - val_loss: 1.0542 - val_accuracy: 0.6992\n",
            "Epoch 22/25\n",
            "1563/1563 [==============================] - 8s 5ms/step - loss: 0.2752 - accuracy: 0.9018 - val_loss: 1.0637 - val_accuracy: 0.7028\n",
            "Epoch 23/25\n",
            "1563/1563 [==============================] - 8s 5ms/step - loss: 0.2553 - accuracy: 0.9121 - val_loss: 1.0716 - val_accuracy: 0.7040\n",
            "Epoch 24/25\n",
            "1563/1563 [==============================] - 8s 5ms/step - loss: 0.2467 - accuracy: 0.9136 - val_loss: 1.0739 - val_accuracy: 0.7071\n",
            "Epoch 25/25\n",
            "1563/1563 [==============================] - 8s 5ms/step - loss: 0.2309 - accuracy: 0.9200 - val_loss: 1.1033 - val_accuracy: 0.7055\n"
          ],
          "name": "stdout"
        }
      ]
    },
    {
      "cell_type": "code",
      "metadata": {
        "id": "inlL3cKg7UZU",
        "colab_type": "code",
        "colab": {
          "base_uri": "https://localhost:8080/",
          "height": 35
        },
        "outputId": "939cdd95-5552-4b51-e525-bfce69629d5a"
      },
      "source": [
        "# Final evaluation of the model\n",
        "scores = model.evaluate(X_test, y_test, verbose=0)\n",
        "print(\"Accuracy: %.2f%%\" % (scores[1]*100))"
      ],
      "execution_count": 36,
      "outputs": [
        {
          "output_type": "stream",
          "text": [
            "Accuracy: 70.55%\n"
          ],
          "name": "stdout"
        }
      ]
    },
    {
      "cell_type": "code",
      "metadata": {
        "id": "knxdrrye8Rg9",
        "colab_type": "code",
        "colab": {
          "base_uri": "https://localhost:8080/",
          "height": 313
        },
        "outputId": "18d85d81-2fc3-4a12-c497-97f64094c791"
      },
      "source": [
        "plt.figure()\n",
        "plt.plot(np.arange(0, 25), history.history[\"val_loss\"], label=\"validation loss\")\n",
        "plt.plot(np.arange(0, 25), history.history[\"val_accuracy\"], label=\"validation accuracy\")\n",
        "plt.plot(np.arange(0, 25), history.history[\"loss\"], label=\"training Loss\")\n",
        "plt.plot(np.arange(0, 25), history.history[\"accuracy\"], label=\"training accuracy\")\n",
        "plt.title(\"the loss and accuracy for both training data and validation data\")\n",
        "plt.xlabel(\"Epoch #\")\n",
        "plt.ylabel(\"Loss/Accuracy\")\n",
        "plt.legend(loc=\"best\")"
      ],
      "execution_count": 37,
      "outputs": [
        {
          "output_type": "execute_result",
          "data": {
            "text/plain": [
              "<matplotlib.legend.Legend at 0x7f03e01759b0>"
            ]
          },
          "metadata": {
            "tags": []
          },
          "execution_count": 37
        },
        {
          "output_type": "display_data",
          "data": {
            "image/png": "[encoded data removed]",
            "text/plain": [
              "<Figure size 432x288 with 1 Axes>"
            ]
          },
          "metadata": {
            "tags": [],
            "needs_background": "light"
          }
        }
      ]
    },
    {
      "cell_type": "code",
      "metadata": {
        "id": "KVJhR6OJ8S0v",
        "colab_type": "code",
        "colab": {}
      },
      "source": [
        "model.save('./savedModel' + '.h5')"
      ],
      "execution_count": 38,
      "outputs": []
    },
    {
      "cell_type": "code",
      "metadata": {
        "id": "Nh_X05Hv8UCe",
        "colab_type": "code",
        "colab": {}
      },
      "source": [
        "model2 = tf.keras.models.load_model('savedModel.h5')"
      ],
      "execution_count": 39,
      "outputs": []
    },
    {
      "cell_type": "code",
      "metadata": {
        "id": "gYDyYMg28VLq",
        "colab_type": "code",
        "colab": {
          "base_uri": "https://localhost:8080/",
          "height": 89
        },
        "outputId": "5916868e-1323-4413-9d51-a059cb95eded"
      },
      "source": [
        "for img in range(0,4):\n",
        "  predict_class = model2.predict_classes(X_test[[img],:])\n",
        "  print(\"predicted class for image:\" + str(img) +\" is: \" + str(predict_class))"
      ],
      "execution_count": 40,
      "outputs": [
        {
          "output_type": "stream",
          "text": [
            "predicted class for image:0 is: [3]\n",
            "predicted class for image:1 is: [8]\n",
            "predicted class for image:2 is: [0]\n",
            "predicted class for image:3 is: [0]\n"
          ],
          "name": "stdout"
        }
      ]
    },
    {
      "cell_type": "code",
      "metadata": {
        "id": "qvCb-geu8WWi",
        "colab_type": "code",
        "colab": {
          "base_uri": "https://localhost:8080/",
          "height": 89
        },
        "outputId": "e9e67b1f-5943-4e62-9e2f-6c9ce3525552"
      },
      "source": [
        "for img in range(0,4):\n",
        "  print(y_test[img])"
      ],
      "execution_count": 41,
      "outputs": [
        {
          "output_type": "stream",
          "text": [
            "[0. 0. 0. 1. 0. 0. 0. 0. 0. 0.]\n",
            "[0. 0. 0. 0. 0. 0. 0. 0. 1. 0.]\n",
            "[0. 0. 0. 0. 0. 0. 0. 0. 1. 0.]\n",
            "[1. 0. 0. 0. 0. 0. 0. 0. 0. 0.]\n"
          ],
          "name": "stdout"
        }
      ]
    },
    {
      "cell_type": "markdown",
      "metadata": {
        "id": "Dig83LXnIwtV",
        "colab_type": "text"
      },
      "source": [
        "New model: Adjusting the code to resemble the changes that were asked to be made in the ICP instructions"
      ]
    },
    {
      "cell_type": "code",
      "metadata": {
        "id": "N29EqsFmGlB_",
        "colab_type": "code",
        "colab": {
          "base_uri": "https://localhost:8080/",
          "height": 845
        },
        "outputId": "19edb415-2645-4549-a8e4-13341c6396b8"
      },
      "source": [
        "# Create the new model according to the ICP instructions\n",
        "modelnew = models.Sequential()\n",
        "modelnew.add(layers.Conv2D(32, (3, 3), padding='same', activation='relu', input_shape=X_train.shape[1:], kernel_constraint=maxnorm(3)))\n",
        "modelnew.add(layers.Dropout(0.2))\n",
        "modelnew.add(layers.Conv2D(32, (3, 3), activation='relu', padding='same', kernel_constraint=maxnorm(3)))\n",
        "modelnew.add(layers.MaxPooling2D(pool_size=(2, 2)))\n",
        "modelnew.add(layers.Conv2D(64, (3, 3), padding='same', activation='relu', kernel_constraint=maxnorm(3)))\n",
        "modelnew.add(layers.Dropout(0.2))\n",
        "modelnew.add(layers.Conv2D(64, (3, 3), activation='relu', padding='same', kernel_constraint=maxnorm(3)))\n",
        "modelnew.add(layers.MaxPooling2D(pool_size=(2, 2)))\n",
        "modelnew.add(layers.Conv2D(128, (3, 3), padding='same', activation='relu', kernel_constraint=maxnorm(3)))\n",
        "modelnew.add(layers.Dropout(0.2))\n",
        "modelnew.add(layers.Conv2D(128, (3, 3), activation='relu', padding='same', kernel_constraint=maxnorm(3)))\n",
        "modelnew.add(layers.MaxPooling2D(pool_size=(2, 2)))\n",
        "modelnew.add(layers.Flatten())\n",
        "modelnew.add(layers.Dropout(0.2))\n",
        "modelnew.add(layers.Dense(1024, activation='relu', kernel_constraint=maxnorm(3)))\n",
        "modelnew.add(layers.Dropout(0.2))\n",
        "modelnew.add(layers.Dense(512, activation='relu', kernel_constraint=maxnorm(3)))\n",
        "modelnew.add(layers.Dropout(0.2))\n",
        "modelnew.add(layers.Dense(num_classes, activation='softmax'))\n",
        "modelnew.summary()"
      ],
      "execution_count": 42,
      "outputs": [
        {
          "output_type": "stream",
          "text": [
            "Model: \"sequential_3\"\n",
            "_________________________________________________________________\n",
            "Layer (type)                 Output Shape              Param #   \n",
            "=================================================================\n",
            "conv2d_10 (Conv2D)           (None, 32, 32, 32)        896       \n",
            "_________________________________________________________________\n",
            "dropout_10 (Dropout)         (None, 32, 32, 32)        0         \n",
            "_________________________________________________________________\n",
            "conv2d_11 (Conv2D)           (None, 32, 32, 32)        9248      \n",
            "_________________________________________________________________\n",
            "max_pooling2d_5 (MaxPooling2 (None, 32, 16, 16)        0         \n",
            "_________________________________________________________________\n",
            "conv2d_12 (Conv2D)           (None, 64, 16, 16)        18496     \n",
            "_________________________________________________________________\n",
            "dropout_11 (Dropout)         (None, 64, 16, 16)        0         \n",
            "_________________________________________________________________\n",
            "conv2d_13 (Conv2D)           (None, 64, 16, 16)        36928     \n",
            "_________________________________________________________________\n",
            "max_pooling2d_6 (MaxPooling2 (None, 64, 8, 8)          0         \n",
            "_________________________________________________________________\n",
            "conv2d_14 (Conv2D)           (None, 128, 8, 8)         73856     \n",
            "_________________________________________________________________\n",
            "dropout_12 (Dropout)         (None, 128, 8, 8)         0         \n",
            "_________________________________________________________________\n",
            "conv2d_15 (Conv2D)           (None, 128, 8, 8)         147584    \n",
            "_________________________________________________________________\n",
            "max_pooling2d_7 (MaxPooling2 (None, 128, 4, 4)         0         \n",
            "_________________________________________________________________\n",
            "flatten_3 (Flatten)          (None, 2048)              0         \n",
            "_________________________________________________________________\n",
            "dropout_13 (Dropout)         (None, 2048)              0         \n",
            "_________________________________________________________________\n",
            "dense_7 (Dense)              (None, 1024)              2098176   \n",
            "_________________________________________________________________\n",
            "dropout_14 (Dropout)         (None, 1024)              0         \n",
            "_________________________________________________________________\n",
            "dense_8 (Dense)              (None, 512)               524800    \n",
            "_________________________________________________________________\n",
            "dropout_15 (Dropout)         (None, 512)               0         \n",
            "_________________________________________________________________\n",
            "dense_9 (Dense)              (None, 10)                5130      \n",
            "=================================================================\n",
            "Total params: 2,915,114\n",
            "Trainable params: 2,915,114\n",
            "Non-trainable params: 0\n",
            "_________________________________________________________________\n"
          ],
          "name": "stdout"
        }
      ]
    },
    {
      "cell_type": "code",
      "metadata": {
        "id": "GPPQ9yI5Gmzk",
        "colab_type": "code",
        "colab": {}
      },
      "source": [
        "# Compile model\n",
        "epochs = 25\n",
        "lrate = 0.01\n",
        "decay = lrate/epochs\n",
        "sgd = keras.optimizers.SGD(lr=lrate, momentum=0.9, decay=decay, nesterov=False)\n",
        "modelnew.compile(loss='categorical_crossentropy', optimizer=sgd, metrics=['accuracy'])"
      ],
      "execution_count": 43,
      "outputs": []
    },
    {
      "cell_type": "code",
      "metadata": {
        "id": "6NoXDcuhGqYW",
        "colab_type": "code",
        "colab": {
          "base_uri": "https://localhost:8080/",
          "height": 917
        },
        "outputId": "2131cc6d-57a1-44ce-f736-be6d96616b52"
      },
      "source": [
        "# Fit the model\n",
        "historynew = modelnew.fit(X_train, y_train, validation_data=(X_test, y_test), epochs=epochs, batch_size=32)"
      ],
      "execution_count": 44,
      "outputs": [
        {
          "output_type": "stream",
          "text": [
            "Epoch 1/25\n",
            "1563/1563 [==============================] - 12s 8ms/step - loss: 1.8702 - accuracy: 0.3082 - val_loss: 1.5044 - val_accuracy: 0.4439\n",
            "Epoch 2/25\n",
            "1563/1563 [==============================] - 11s 7ms/step - loss: 1.4297 - accuracy: 0.4791 - val_loss: 1.3227 - val_accuracy: 0.5113\n",
            "Epoch 3/25\n",
            "1563/1563 [==============================] - 11s 7ms/step - loss: 1.2207 - accuracy: 0.5603 - val_loss: 1.1264 - val_accuracy: 0.5980\n",
            "Epoch 4/25\n",
            "1563/1563 [==============================] - 11s 7ms/step - loss: 1.0622 - accuracy: 0.6202 - val_loss: 0.9820 - val_accuracy: 0.6500\n",
            "Epoch 5/25\n",
            "1563/1563 [==============================] - 11s 7ms/step - loss: 0.9446 - accuracy: 0.6644 - val_loss: 0.8797 - val_accuracy: 0.6857\n",
            "Epoch 6/25\n",
            "1563/1563 [==============================] - 11s 7ms/step - loss: 0.8534 - accuracy: 0.7001 - val_loss: 0.8318 - val_accuracy: 0.7075\n",
            "Epoch 7/25\n",
            "1563/1563 [==============================] - 11s 7ms/step - loss: 0.7963 - accuracy: 0.7152 - val_loss: 0.7709 - val_accuracy: 0.7313\n",
            "Epoch 8/25\n",
            "1563/1563 [==============================] - 11s 7ms/step - loss: 0.7369 - accuracy: 0.7397 - val_loss: 0.7700 - val_accuracy: 0.7325\n",
            "Epoch 9/25\n",
            "1563/1563 [==============================] - 11s 7ms/step - loss: 0.6925 - accuracy: 0.7537 - val_loss: 0.7459 - val_accuracy: 0.7421\n",
            "Epoch 10/25\n",
            "1563/1563 [==============================] - 11s 7ms/step - loss: 0.6480 - accuracy: 0.7720 - val_loss: 0.6830 - val_accuracy: 0.7584\n",
            "Epoch 11/25\n",
            "1563/1563 [==============================] - 11s 7ms/step - loss: 0.6167 - accuracy: 0.7818 - val_loss: 0.6826 - val_accuracy: 0.7620\n",
            "Epoch 12/25\n",
            "1563/1563 [==============================] - 12s 8ms/step - loss: 0.5853 - accuracy: 0.7923 - val_loss: 0.6648 - val_accuracy: 0.7701\n",
            "Epoch 13/25\n",
            "1563/1563 [==============================] - 11s 7ms/step - loss: 0.5582 - accuracy: 0.8018 - val_loss: 0.6538 - val_accuracy: 0.7738\n",
            "Epoch 14/25\n",
            "1563/1563 [==============================] - 11s 7ms/step - loss: 0.5294 - accuracy: 0.8130 - val_loss: 0.6525 - val_accuracy: 0.7733\n",
            "Epoch 15/25\n",
            "1563/1563 [==============================] - 11s 7ms/step - loss: 0.5089 - accuracy: 0.8196 - val_loss: 0.6499 - val_accuracy: 0.7771\n",
            "Epoch 16/25\n",
            "1563/1563 [==============================] - 11s 7ms/step - loss: 0.4896 - accuracy: 0.8252 - val_loss: 0.6356 - val_accuracy: 0.7796\n",
            "Epoch 17/25\n",
            "1563/1563 [==============================] - 11s 7ms/step - loss: 0.4695 - accuracy: 0.8335 - val_loss: 0.6234 - val_accuracy: 0.7827\n",
            "Epoch 18/25\n",
            "1563/1563 [==============================] - 11s 7ms/step - loss: 0.4487 - accuracy: 0.8404 - val_loss: 0.6326 - val_accuracy: 0.7883\n",
            "Epoch 19/25\n",
            "1563/1563 [==============================] - 11s 7ms/step - loss: 0.4345 - accuracy: 0.8452 - val_loss: 0.6278 - val_accuracy: 0.7892\n",
            "Epoch 20/25\n",
            "1563/1563 [==============================] - 11s 7ms/step - loss: 0.4238 - accuracy: 0.8473 - val_loss: 0.6539 - val_accuracy: 0.7848\n",
            "Epoch 21/25\n",
            "1563/1563 [==============================] - 11s 7ms/step - loss: 0.4067 - accuracy: 0.8549 - val_loss: 0.6140 - val_accuracy: 0.7932\n",
            "Epoch 22/25\n",
            "1563/1563 [==============================] - 11s 7ms/step - loss: 0.3938 - accuracy: 0.8579 - val_loss: 0.6103 - val_accuracy: 0.7985\n",
            "Epoch 23/25\n",
            "1563/1563 [==============================] - 11s 7ms/step - loss: 0.3813 - accuracy: 0.8637 - val_loss: 0.6138 - val_accuracy: 0.7942\n",
            "Epoch 24/25\n",
            "1563/1563 [==============================] - 11s 7ms/step - loss: 0.3663 - accuracy: 0.8684 - val_loss: 0.6269 - val_accuracy: 0.7929\n",
            "Epoch 25/25\n",
            "1563/1563 [==============================] - 11s 7ms/step - loss: 0.3546 - accuracy: 0.8728 - val_loss: 0.6100 - val_accuracy: 0.8012\n"
          ],
          "name": "stdout"
        }
      ]
    },
    {
      "cell_type": "code",
      "metadata": {
        "id": "c6M3c7ZHGrnj",
        "colab_type": "code",
        "colab": {
          "base_uri": "https://localhost:8080/",
          "height": 35
        },
        "outputId": "1a9919ed-73f1-44a4-eb0b-cdaab68ee07b"
      },
      "source": [
        "# Final evaluation of the model\n",
        "scores = modelnew.evaluate(X_test, y_test, verbose=0)\n",
        "print(\"Accuracy: %.2f%%\" % (scores[1]*100))"
      ],
      "execution_count": 45,
      "outputs": [
        {
          "output_type": "stream",
          "text": [
            "Accuracy: 80.12%\n"
          ],
          "name": "stdout"
        }
      ]
    },
    {
      "cell_type": "code",
      "metadata": {
        "id": "95d-1-vCGs1R",
        "colab_type": "code",
        "colab": {
          "base_uri": "https://localhost:8080/",
          "height": 313
        },
        "outputId": "d34537ac-5459-4de2-8618-7c3d80eba6c8"
      },
      "source": [
        "plt.figure()\n",
        "plt.plot(np.arange(0, 25), historynew.history[\"val_loss\"], label=\"validation loss\")\n",
        "plt.plot(np.arange(0, 25), historynew.history[\"val_accuracy\"], label=\"validation accuracy\")\n",
        "plt.plot(np.arange(0, 25), historynew.history[\"loss\"], label=\"training Loss\")\n",
        "plt.plot(np.arange(0, 25), historynew.history[\"accuracy\"], label=\"training accuracy\")\n",
        "plt.title(\"the loss and accuracy for both training data and validation data\")\n",
        "plt.xlabel(\"Epoch #\")\n",
        "plt.ylabel(\"Loss/Accuracy\")\n",
        "plt.legend(loc=\"best\")"
      ],
      "execution_count": 46,
      "outputs": [
        {
          "output_type": "execute_result",
          "data": {
            "text/plain": [
              "<matplotlib.legend.Legend at 0x7f036a1c65f8>"
            ]
          },
          "metadata": {
            "tags": []
          },
          "execution_count": 46
        },
        {
          "output_type": "display_data",
          "data": {
            "image/png": "[encoded data removed]",
            "text/plain": [
              "<Figure size 432x288 with 1 Axes>"
            ]
          },
          "metadata": {
            "tags": [],
            "needs_background": "light"
          }
        }
      ]
    },
    {
      "cell_type": "code",
      "metadata": {
        "colab_type": "code",
        "id": "ZDORNSJGGv3I",
        "colab": {}
      },
      "source": [
        "modelnew.save('./savedModel' + '.h5')"
      ],
      "execution_count": 47,
      "outputs": []
    },
    {
      "cell_type": "code",
      "metadata": {
        "colab_type": "code",
        "id": "KnlmBknmGv3L",
        "colab": {}
      },
      "source": [
        "modelnew2 = tf.keras.models.load_model('savedModel.h5')"
      ],
      "execution_count": 48,
      "outputs": []
    },
    {
      "cell_type": "code",
      "metadata": {
        "colab_type": "code",
        "id": "sfTrGpDSGv3N",
        "colab": {
          "base_uri": "https://localhost:8080/",
          "height": 89
        },
        "outputId": "bc06a1bc-8376-413f-aac2-fe7f4b1b792e"
      },
      "source": [
        "for img in range(0,4):\n",
        "  predict_class = modelnew2.predict_classes(X_test[[img],:])\n",
        "  print(\"predicted class for image:\" + str(img) +\" is: \" + str(predict_class))"
      ],
      "execution_count": 49,
      "outputs": [
        {
          "output_type": "stream",
          "text": [
            "predicted class for image:0 is: [3]\n",
            "predicted class for image:1 is: [8]\n",
            "predicted class for image:2 is: [8]\n",
            "predicted class for image:3 is: [0]\n"
          ],
          "name": "stdout"
        }
      ]
    },
    {
      "cell_type": "code",
      "metadata": {
        "colab_type": "code",
        "id": "X_aN-kCVGv3P",
        "colab": {
          "base_uri": "https://localhost:8080/",
          "height": 89
        },
        "outputId": "328771a6-0b53-401d-c77c-fc8f60aaab5b"
      },
      "source": [
        "for img in range(0,4):\n",
        "  print(y_test[img])"
      ],
      "execution_count": 50,
      "outputs": [
        {
          "output_type": "stream",
          "text": [
            "[0. 0. 0. 1. 0. 0. 0. 0. 0. 0.]\n",
            "[0. 0. 0. 0. 0. 0. 0. 0. 1. 0.]\n",
            "[0. 0. 0. 0. 0. 0. 0. 0. 1. 0.]\n",
            "[1. 0. 0. 0. 0. 0. 0. 0. 0. 0.]\n"
          ],
          "name": "stdout"
        }
      ]
    }
  ]
}