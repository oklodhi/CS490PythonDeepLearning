{
  "nbformat": 4,
  "nbformat_minor": 0,
  "metadata": {
    "colab": {
      "name": "ICP7_Question1c.ipynb",
      "provenance": []
    },
    "kernelspec": {
      "name": "python3",
      "display_name": "Python 3"
    }
  },
  "cells": [
    {
      "cell_type": "markdown",
      "metadata": {
        "id": "PGEtRXanZr7G",
        "colab_type": "text"
      },
      "source": [
        "**After setting stop_words = 'english'**"
      ]
    },
    {
      "cell_type": "markdown",
      "metadata": {
        "id": "Yk-cS6tSkjSk",
        "colab_type": "text"
      },
      "source": [
        "Import Libraries"
      ]
    },
    {
      "cell_type": "code",
      "metadata": {
        "id": "agMqAfe0ewQa",
        "colab_type": "code",
        "colab": {}
      },
      "source": [
        "from sklearn.datasets import fetch_20newsgroups\n",
        "\n",
        "from sklearn.feature_extraction.text import CountVectorizer, TfidfVectorizer\n",
        "from sklearn.feature_extraction.text import TfidfTransformer\n",
        "from sklearn import metrics\n",
        "from sklearn.pipeline import Pipeline\n",
        "from sklearn.naive_bayes import MultinomialNB\n",
        "\n",
        "from sklearn import svm"
      ],
      "execution_count": null,
      "outputs": []
    },
    {
      "cell_type": "markdown",
      "metadata": {
        "id": "tu7uUGBvklHV",
        "colab_type": "text"
      },
      "source": [
        "Import dataset"
      ]
    },
    {
      "cell_type": "code",
      "metadata": {
        "colab_type": "code",
        "id": "0SohtC0WZ2WY",
        "colab": {
          "base_uri": "https://localhost:8080/",
          "height": 53
        },
        "outputId": "c7730445-b8dc-4d14-9d30-9d2e6e4a6e51"
      },
      "source": [
        "twenty_train = fetch_20newsgroups(subset='train', shuffle=True)"
      ],
      "execution_count": null,
      "outputs": [
        {
          "output_type": "stream",
          "text": [
            "Downloading 20news dataset. This may take a few minutes.\n",
            "Downloading dataset from https://ndownloader.figshare.com/files/5975967 (14 MB)\n"
          ],
          "name": "stderr"
        }
      ]
    },
    {
      "cell_type": "markdown",
      "metadata": {
        "id": "ijpQKX2FkrQc",
        "colab_type": "text"
      },
      "source": [
        "Create TFIDF vectorizer on dataset"
      ]
    },
    {
      "cell_type": "code",
      "metadata": {
        "colab_type": "code",
        "id": "x0D4Nzx7Z2Wb",
        "colab": {}
      },
      "source": [
        "tfidf_Vect = TfidfVectorizer(stop_words = 'english')\n",
        "X_train_tfidf = tfidf_Vect.fit_transform(twenty_train.data)"
      ],
      "execution_count": null,
      "outputs": []
    },
    {
      "cell_type": "code",
      "metadata": {
        "colab_type": "code",
        "id": "4fIjv9kDZ2Wf",
        "colab": {}
      },
      "source": [
        "#print(tfidf_Vect.vocabulary_)"
      ],
      "execution_count": null,
      "outputs": []
    },
    {
      "cell_type": "markdown",
      "metadata": {
        "id": "1k3pyNWwkwnR",
        "colab_type": "text"
      },
      "source": [
        "Create a training classifier"
      ]
    },
    {
      "cell_type": "code",
      "metadata": {
        "colab_type": "code",
        "id": "hodDYlCuZ2Wh",
        "colab": {
          "base_uri": "https://localhost:8080/",
          "height": 35
        },
        "outputId": "b51f5ea1-d2d8-4a77-f6fd-8f69f884ba16"
      },
      "source": [
        "clf = MultinomialNB()\n",
        "clf.fit(X_train_tfidf, twenty_train.target)"
      ],
      "execution_count": null,
      "outputs": [
        {
          "output_type": "execute_result",
          "data": {
            "text/plain": [
              "MultinomialNB(alpha=1.0, class_prior=None, fit_prior=True)"
            ]
          },
          "metadata": {
            "tags": []
          },
          "execution_count": 5
        }
      ]
    },
    {
      "cell_type": "markdown",
      "metadata": {
        "id": "kdpXFModlHUC",
        "colab_type": "text"
      },
      "source": [
        "Create testing classifier"
      ]
    },
    {
      "cell_type": "code",
      "metadata": {
        "colab_type": "code",
        "id": "hgcUA91DZ2Wl",
        "colab": {}
      },
      "source": [
        "twenty_test = fetch_20newsgroups(subset='test', shuffle=True)\n",
        "X_test_tfidf = tfidf_Vect.transform(twenty_test.data)"
      ],
      "execution_count": null,
      "outputs": []
    },
    {
      "cell_type": "markdown",
      "metadata": {
        "id": "F_ozrKpolKT1",
        "colab_type": "text"
      },
      "source": [
        "Predict and score accuracy of the base model"
      ]
    },
    {
      "cell_type": "code",
      "metadata": {
        "colab_type": "code",
        "id": "o9Pkb3POZ2Wn",
        "colab": {}
      },
      "source": [
        "predicted = clf.predict(X_test_tfidf)"
      ],
      "execution_count": null,
      "outputs": []
    },
    {
      "cell_type": "code",
      "metadata": {
        "colab_type": "code",
        "id": "p4dY5-ZRZ2Wp",
        "colab": {
          "base_uri": "https://localhost:8080/",
          "height": 35
        },
        "outputId": "78ba3220-9d82-4f64-eab4-4804d9c7249f"
      },
      "source": [
        "score = metrics.accuracy_score(twenty_test.target, predicted)\n",
        "print(\"Accuracy: \", score)"
      ],
      "execution_count": null,
      "outputs": [
        {
          "output_type": "stream",
          "text": [
            "Accuracy:  0.8169144981412639\n"
          ],
          "name": "stdout"
        }
      ]
    },
    {
      "cell_type": "markdown",
      "metadata": {
        "id": "kgFDv85KlOk-",
        "colab_type": "text"
      },
      "source": [
        "Score accuracy of the linear SVM model"
      ]
    },
    {
      "cell_type": "code",
      "metadata": {
        "colab_type": "code",
        "id": "9JoEmrB-Z2Ws",
        "colab": {
          "base_uri": "https://localhost:8080/",
          "height": 89
        },
        "outputId": "015bd041-cd82-4510-ba83-9860a0422a2f"
      },
      "source": [
        "svmmodel = svm.SVC(kernel='linear')\n",
        "svmmodel.fit(X_train_tfidf, twenty_train.target)"
      ],
      "execution_count": null,
      "outputs": [
        {
          "output_type": "execute_result",
          "data": {
            "text/plain": [
              "SVC(C=1.0, break_ties=False, cache_size=200, class_weight=None, coef0=0.0,\n",
              "    decision_function_shape='ovr', degree=3, gamma='scale', kernel='linear',\n",
              "    max_iter=-1, probability=False, random_state=None, shrinking=True,\n",
              "    tol=0.001, verbose=False)"
            ]
          },
          "metadata": {
            "tags": []
          },
          "execution_count": 9
        }
      ]
    },
    {
      "cell_type": "code",
      "metadata": {
        "colab_type": "code",
        "id": "8k45VPUOZ2Wu",
        "colab": {}
      },
      "source": [
        "yprediction = svmmodel.predict(X_test_tfidf)"
      ],
      "execution_count": null,
      "outputs": []
    },
    {
      "cell_type": "code",
      "metadata": {
        "colab_type": "code",
        "id": "uPGo9UedZ2Ww",
        "colab": {
          "base_uri": "https://localhost:8080/",
          "height": 35
        },
        "outputId": "849712c8-c747-44b5-e01c-31b29c657971"
      },
      "source": [
        "print(\"Accuracy: \",metrics.accuracy_score(twenty_test.target, yprediction))"
      ],
      "execution_count": null,
      "outputs": [
        {
          "output_type": "stream",
          "text": [
            "Accuracy:  0.8349707912904939\n"
          ],
          "name": "stdout"
        }
      ]
    },
    {
      "cell_type": "markdown",
      "metadata": {
        "id": "frJthwePlS1J",
        "colab_type": "text"
      },
      "source": [
        "Score accuracy of the bi-gram TFIDF model"
      ]
    },
    {
      "cell_type": "code",
      "metadata": {
        "colab_type": "code",
        "id": "ynTUdb9JZ2Wz",
        "colab": {}
      },
      "source": [
        "bigram_tfidf = TfidfVectorizer(ngram_range=(1,2), stop_words='english')\n",
        "bigram_tfidf_x_training = bigram_tfidf.fit_transform(twenty_train.data)"
      ],
      "execution_count": null,
      "outputs": []
    },
    {
      "cell_type": "code",
      "metadata": {
        "colab_type": "code",
        "id": "BNr54wW0Z2W1",
        "colab": {
          "base_uri": "https://localhost:8080/",
          "height": 35
        },
        "outputId": "701cb624-1cec-4a5e-c2ac-2bd5fef8f459"
      },
      "source": [
        "classifier = MultinomialNB()\n",
        "classifier.fit(bigram_tfidf_x_training, twenty_train.target)"
      ],
      "execution_count": null,
      "outputs": [
        {
          "output_type": "execute_result",
          "data": {
            "text/plain": [
              "MultinomialNB(alpha=1.0, class_prior=None, fit_prior=True)"
            ]
          },
          "metadata": {
            "tags": []
          },
          "execution_count": 13
        }
      ]
    },
    {
      "cell_type": "code",
      "metadata": {
        "colab_type": "code",
        "id": "wbT7KdijZ2W3",
        "colab": {}
      },
      "source": [
        "bigram_tfidf_x_test = bigram_tfidf.transform(twenty_test.data)"
      ],
      "execution_count": null,
      "outputs": []
    },
    {
      "cell_type": "code",
      "metadata": {
        "colab_type": "code",
        "id": "JN9PhfzCZ2W5",
        "colab": {}
      },
      "source": [
        "bigrampredicted = classifier.predict(bigram_tfidf_x_test)"
      ],
      "execution_count": null,
      "outputs": []
    },
    {
      "cell_type": "code",
      "metadata": {
        "colab_type": "code",
        "id": "G6tuKGK-Z2W7",
        "colab": {
          "base_uri": "https://localhost:8080/",
          "height": 35
        },
        "outputId": "d80e780b-6ea5-4137-85ed-db89e3c45ea7"
      },
      "source": [
        "bigramscore = metrics.accuracy_score(twenty_test.target, bigrampredicted)\n",
        "print(bigramscore)"
      ],
      "execution_count": null,
      "outputs": [
        {
          "output_type": "stream",
          "text": [
            "0.8074880509824748\n"
          ],
          "name": "stdout"
        }
      ]
    },
    {
      "cell_type": "markdown",
      "metadata": {
        "id": "uZSRkGYvlXq8",
        "colab_type": "text"
      },
      "source": [
        "Score accuracy of the bi-gram TFIDF based on the SVM"
      ]
    },
    {
      "cell_type": "code",
      "metadata": {
        "colab_type": "code",
        "id": "X_Q_KAH6Z2W9",
        "colab": {
          "base_uri": "https://localhost:8080/",
          "height": 89
        },
        "outputId": "7343e4ef-987e-4078-e9a4-eb435c0d64ee"
      },
      "source": [
        "classifier2 = svm.SVC(kernel='linear')\n",
        "classifier2.fit(bigram_tfidf_x_training, twenty_train.target)"
      ],
      "execution_count": null,
      "outputs": [
        {
          "output_type": "execute_result",
          "data": {
            "text/plain": [
              "SVC(C=1.0, break_ties=False, cache_size=200, class_weight=None, coef0=0.0,\n",
              "    decision_function_shape='ovr', degree=3, gamma='scale', kernel='linear',\n",
              "    max_iter=-1, probability=False, random_state=None, shrinking=True,\n",
              "    tol=0.001, verbose=False)"
            ]
          },
          "metadata": {
            "tags": []
          },
          "execution_count": 17
        }
      ]
    },
    {
      "cell_type": "code",
      "metadata": {
        "colab_type": "code",
        "id": "T2nRShNTZ2W_",
        "colab": {}
      },
      "source": [
        "bigram_y_prediction = classifier2.predict(bigram_tfidf_x_test)"
      ],
      "execution_count": null,
      "outputs": []
    },
    {
      "cell_type": "code",
      "metadata": {
        "colab_type": "code",
        "id": "hhOAymSZZ2XC",
        "colab": {
          "base_uri": "https://localhost:8080/",
          "height": 35
        },
        "outputId": "7018528a-0fd1-403d-ef8b-59fec19bec0a"
      },
      "source": [
        "print(\"Accuracy: \",metrics.accuracy_score(twenty_test.target, bigram_y_prediction))"
      ],
      "execution_count": null,
      "outputs": [
        {
          "output_type": "stream",
          "text": [
            "Accuracy:  0.8401486988847584\n"
          ],
          "name": "stdout"
        }
      ]
    }
  ]
}